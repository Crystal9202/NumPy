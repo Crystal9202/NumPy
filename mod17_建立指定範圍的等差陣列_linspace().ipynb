{
 "cells": [
  {
   "cell_type": "markdown",
   "id": "bf01bd58",
   "metadata": {},
   "source": [
    "## <font color=red> Module_17_建立指定範圍的等差陣列_linspace()</font>"
   ]
  },
  {
   "cell_type": "markdown",
   "id": "e82d9baf",
   "metadata": {},
   "source": [
    "## np.linspace() 函式的用法"
   ]
  },
  {
   "cell_type": "code",
   "execution_count": null,
   "id": "458d5611",
   "metadata": {},
   "outputs": [],
   "source": [
    "# np.linspace(start, stop, num = 50, endpoint = True, restep = False, dtype = None)\n",
    "# start : 設定起始值\n",
    "# stop : 設定終止值\n",
    "# num : 設定陣列元素的數量，預設值為 50\n",
    "# endpoint : 設定建立的陣列是否包含 stop 終止值在內。True 是包含，False 是不包含。預設值是 True\n",
    "# restep : 是否顯示元素間的遞增量，預設是 False\n",
    "# dtype : 設定陣列的資料型態，如果沒有設定，會套用 float64 型別\n",
    "\n",
    "# 與 np.arange() 函式最大的差別是 np.linsapce()函式可以掌握建立的陣列有幾個元素"
   ]
  },
  {
   "cell_type": "code",
   "execution_count": null,
   "id": "ea99c184",
   "metadata": {},
   "outputs": [],
   "source": [
    "import numpy as np\n",
    "\n",
    "a = np.linspace(0, 1) # 50 個元素，49等分 # 增加量 = 1/49\n",
    "a"
   ]
  },
  {
   "cell_type": "code",
   "execution_count": null,
   "id": "349b83cb",
   "metadata": {},
   "outputs": [],
   "source": [
    "b = np.linspace(0, 49) # 50 個元素，49等分 # 增加量 : 49/49 = 1\n",
    "b"
   ]
  },
  {
   "cell_type": "code",
   "execution_count": null,
   "id": "d209fa54",
   "metadata": {},
   "outputs": [],
   "source": [
    "c = np.linspace(0, 2, 3)\n",
    "c"
   ]
  },
  {
   "cell_type": "code",
   "execution_count": null,
   "id": "b174d8b6",
   "metadata": {},
   "outputs": [],
   "source": [
    "d = np.linspace(0, -2, 3)\n",
    "d"
   ]
  },
  {
   "cell_type": "code",
   "execution_count": null,
   "id": "f06a8111",
   "metadata": {},
   "outputs": [],
   "source": [
    "e = np.linspace(0, -2, num = 3)\n",
    "e"
   ]
  },
  {
   "cell_type": "code",
   "execution_count": null,
   "id": "b5f0bd91",
   "metadata": {},
   "outputs": [],
   "source": [
    "f = np.linspace(0, 2, num = 3, endpoint = False) # 3 元素，3 等分 # 增加量 : 2/3\n",
    "f"
   ]
  },
  {
   "cell_type": "code",
   "execution_count": null,
   "id": "08bcfd2e",
   "metadata": {},
   "outputs": [],
   "source": [
    "g = np.linspace(0, 2, num = 3, endpoint = True) # 3 元素，2等分 # 增加量 : 2/2 =1 \n",
    "g"
   ]
  },
  {
   "cell_type": "code",
   "execution_count": null,
   "id": "4a5a0c18",
   "metadata": {},
   "outputs": [],
   "source": [
    "h = np.linspace(0, 1, retstep = True) # 50 元素，49等分 # 增加量 : 1/49 \n",
    "h"
   ]
  },
  {
   "cell_type": "code",
   "execution_count": null,
   "id": "6ed2b9e3",
   "metadata": {},
   "outputs": [],
   "source": [
    "i = np.linspace(0, 2, num = 3, retstep = True)\n",
    "i"
   ]
  },
  {
   "cell_type": "code",
   "execution_count": null,
   "id": "031f3501",
   "metadata": {},
   "outputs": [],
   "source": [
    "j = np.linspace(0, 2, num = 3, retstep = False)\n",
    "j"
   ]
  }
 ],
 "metadata": {
  "kernelspec": {
   "display_name": "Python 3",
   "language": "python",
   "name": "python3"
  },
  "language_info": {
   "codemirror_mode": {
    "name": "ipython",
    "version": 3
   },
   "file_extension": ".py",
   "mimetype": "text/x-python",
   "name": "python",
   "nbconvert_exporter": "python",
   "pygments_lexer": "ipython3",
   "version": "3.8.10"
  }
 },
 "nbformat": 4,
 "nbformat_minor": 5
}
