{
 "cells": [
  {
   "cell_type": "markdown",
   "metadata": {
    "id": "g1rQCbiGm0yF"
   },
   "source": [
    "# Intro to **NDarray**"
   ]
  },
  {
   "cell_type": "markdown",
   "metadata": {},
   "source": [
    "## 一維陣列"
   ]
  },
  {
   "cell_type": "code",
   "execution_count": null,
   "metadata": {},
   "outputs": [],
   "source": [
    "# 引入套件，使用 as 代表別名，可以讓我們少打一點字\n",
    "import numpy as np\n",
    "\n",
    "# 陣列元素可以使用 list 或 tuple 傳入\n",
    "array_1 = np.array([1, 2, 3])\n",
    "print(array_1)\n",
    "print(array_1.dtype)\n",
    "print(array_1.size)\n",
    "print(array_1.shape)"
   ]
  },
  {
   "cell_type": "code",
   "execution_count": null,
   "metadata": {},
   "outputs": [],
   "source": [
    "data = np.empty(3)\n",
    "print(data)\n",
    "data = np.zeros(6)\n",
    "print(data)\n",
    "data = np.ones(10)\n",
    "print(data)\n",
    "data = np.arange(9)\n",
    "print(data)"
   ]
  },
  {
   "cell_type": "code",
   "execution_count": null,
   "metadata": {},
   "outputs": [],
   "source": [
    "# 引入套件，使用 as 代表別名，可以讓我們少打一點字\n",
    "import numpy as np\n",
    "\n",
    "# 陣列元素可以使用 list 或 tuple 傳入\n",
    "array_1 = np.array([1, 2, 3])\n",
    "\n",
    "print(array_1[0])\n",
    "# 取 1 到 3（不含）元素\n",
    "print(array_1[1:3])\n",
    "# 透過 mask 布林遮罩可以決定要取出哪些符合條件的元素陣列\n",
    "# 符合的只有 index 2，元素為 3 的值\n",
    "mask = (array_1 % 3 == 0)\n",
    "print(mask)\n",
    "print(array_1[mask])"
   ]
  },
  {
   "cell_type": "markdown",
   "metadata": {},
   "source": [
    "## 二維陣列"
   ]
  },
  {
   "cell_type": "code",
   "execution_count": 2,
   "metadata": {
    "colab": {
     "base_uri": "https://localhost:8080/"
    },
    "executionInfo": {
     "elapsed": 974,
     "status": "ok",
     "timestamp": 1604390382903,
     "user": {
      "displayName": "Paul Chen",
      "photoUrl": "",
      "userId": "15113937160468943492"
     },
     "user_tz": -480
    },
    "id": "FqELV1YbGi07",
    "outputId": "54048f3e-f291-4a5b-e749-9ab9551019ad"
   },
   "outputs": [
    {
     "name": "stdout",
     "output_type": "stream",
     "text": [
      "[[1 2 3]\n",
      " [4 5 6]]\n",
      "<class 'numpy.ndarray'>\n",
      "(2, 3)\n",
      "int32\n",
      "6\n"
     ]
    }
   ],
   "source": [
    "import numpy as np\n",
    "x = np.array([[1, 2, 3],\n",
    "              [4, 5, 6]], np.int32) # np.int32 預設的\n",
    "print(x)\n",
    "print(type(x))\n",
    "print(x.shape)\n",
    "print(x.dtype)\n",
    "print(x.size)"
   ]
  },
  {
   "cell_type": "code",
   "execution_count": 3,
   "metadata": {},
   "outputs": [
    {
     "name": "stdout",
     "output_type": "stream",
     "text": [
      "[[1 2 3 4]] (1, 4)\n",
      "[1 2 3 4] (4,)\n"
     ]
    }
   ],
   "source": [
    "data = np.array([\n",
    "    [1, 2, 3, 4]\n",
    "])\n",
    "print(data, data.shape) # 二維陣列\n",
    "data = np.array([1, 2, 3, 4])\n",
    "print(data, data.shape) # 一維陣列"
   ]
  },
  {
   "cell_type": "code",
   "execution_count": null,
   "metadata": {
    "colab": {
     "base_uri": "https://localhost:8080/"
    },
    "executionInfo": {
     "elapsed": 1128,
     "status": "ok",
     "timestamp": 1604390420616,
     "user": {
      "displayName": "Paul Chen",
      "photoUrl": "",
      "userId": "15113937160468943492"
     },
     "user_tz": -480
    },
    "id": "M-R_BUJLHq8H",
    "outputId": "4be8df7f-07b3-40e6-b10e-bd8e78f1d8c1"
   },
   "outputs": [],
   "source": [
    "data =np.ones([2,3])\n",
    "print(data)\n",
    "data =np.zeros([5,2])\n",
    "print(data)\n",
    "data =np.empty([2,5])\n",
    "print(data)"
   ]
  },
  {
   "cell_type": "code",
   "execution_count": null,
   "metadata": {
    "colab": {
     "base_uri": "https://localhost:8080/"
    },
    "executionInfo": {
     "elapsed": 698,
     "status": "ok",
     "timestamp": 1604390487304,
     "user": {
      "displayName": "Paul Chen",
      "photoUrl": "",
      "userId": "15113937160468943492"
     },
     "user_tz": -480
    },
    "id": "iU07c1qHH-ZV",
    "outputId": "26cc4135-0666-463c-dfe3-a648708080e6"
   },
   "outputs": [],
   "source": [
    "x[1,2]"
   ]
  },
  {
   "cell_type": "code",
   "execution_count": null,
   "metadata": {
    "colab": {
     "base_uri": "https://localhost:8080/"
    },
    "executionInfo": {
     "elapsed": 894,
     "status": "ok",
     "timestamp": 1604390519871,
     "user": {
      "displayName": "Paul Chen",
      "photoUrl": "",
      "userId": "15113937160468943492"
     },
     "user_tz": -480
    },
    "id": "1KhTLoEiIA0a",
    "outputId": "6436ba3d-5c96-4b54-cb3f-b50b79da4d0b"
   },
   "outputs": [],
   "source": [
    "y = x[:,1]\n",
    "y"
   ]
  },
  {
   "cell_type": "code",
   "execution_count": null,
   "metadata": {
    "colab": {
     "base_uri": "https://localhost:8080/"
    },
    "executionInfo": {
     "elapsed": 1158,
     "status": "ok",
     "timestamp": 1604390695434,
     "user": {
      "displayName": "Paul Chen",
      "photoUrl": "",
      "userId": "15113937160468943492"
     },
     "user_tz": -480
    },
    "id": "rcj1k4CXIslv",
    "outputId": "4ab48090-8a18-499d-eb7c-fa27770c2367"
   },
   "outputs": [],
   "source": [
    "y[0] = 9\n",
    "y"
   ]
  },
  {
   "cell_type": "code",
   "execution_count": null,
   "metadata": {
    "colab": {
     "base_uri": "https://localhost:8080/"
    },
    "executionInfo": {
     "elapsed": 729,
     "status": "ok",
     "timestamp": 1604390706335,
     "user": {
      "displayName": "Paul Chen",
      "photoUrl": "",
      "userId": "15113937160468943492"
     },
     "user_tz": -480
    },
    "id": "GMfbn8B_I0cq",
    "outputId": "17f3c62e-773c-4031-ba7c-49caf94adefd"
   },
   "outputs": [],
   "source": [
    "x  # 會跟這被改掉"
   ]
  },
  {
   "cell_type": "markdown",
   "metadata": {},
   "source": [
    "## 三維陣列"
   ]
  },
  {
   "cell_type": "code",
   "execution_count": null,
   "metadata": {},
   "outputs": [],
   "source": [
    "data = np.array([\n",
    "    [\n",
    "        [1, 2], [3, 4]\n",
    "    ],\n",
    "    [\n",
    "        [5, 6], [7, 8]\n",
    "    ]\n",
    "])  # 先看第一層有幾個資料， 再看第二層， 再看第三層。\n",
    "print(data)\n",
    "print(data.shape)\n",
    "data = np.zeros([3, 1, 3])\n",
    "print(data)"
   ]
  },
  {
   "cell_type": "markdown",
   "metadata": {},
   "source": [
    "## 高維陣列"
   ]
  },
  {
   "cell_type": "code",
   "execution_count": null,
   "metadata": {},
   "outputs": [],
   "source": [
    "data = np.array([\n",
    "    [\n",
    "        [\n",
    "          [1, 2, 3]  \n",
    "        ],\n",
    "        [\n",
    "          [4, 5, 6]\n",
    "        ]\n",
    "    ]\n",
    "])\n",
    "print(data, data.shape)\n",
    "print('='*88)\n",
    "data = np.ones([2,1,1,2])\n",
    "print(data)"
   ]
  },
  {
   "cell_type": "markdown",
   "metadata": {
    "id": "7OC9m52RmsPt"
   },
   "source": [
    "# Numpy Basic Operations"
   ]
  },
  {
   "cell_type": "markdown",
   "metadata": {},
   "source": [
    "## 逐元運算 elementwise"
   ]
  },
  {
   "cell_type": "code",
   "execution_count": null,
   "metadata": {},
   "outputs": [],
   "source": [
    "data1 = np.array([3, 2, 10])\n",
    "data2 = np.array([1, 3, 6])\n",
    "result = data1 + data2 \n",
    "print('加法:', result)\n",
    "result = data1 * data2\n",
    "print('乘法:', result)\n",
    "result = data1 > data2\n",
    "print('大於:', result)\n",
    "result = data1 == data2\n",
    "print('是否等於:', result)"
   ]
  },
  {
   "cell_type": "code",
   "execution_count": null,
   "metadata": {
    "colab": {
     "base_uri": "https://localhost:8080/"
    },
    "executionInfo": {
     "elapsed": 751,
     "status": "ok",
     "timestamp": 1604392367214,
     "user": {
      "displayName": "Paul Chen",
      "photoUrl": "",
      "userId": "15113937160468943492"
     },
     "user_tz": -480
    },
    "id": "PqrVXXFuOnWb",
    "outputId": "f3c9ca33-f452-4cc9-a125-3c1c772ec1dd"
   },
   "outputs": [],
   "source": [
    "A = np.array([[3,2],\n",
    "              [0,1]])\n",
    "B = np.array([[3,1],\n",
    "              [2,1]])\n",
    "print(A+B)\n",
    "print(A-B)\n",
    "print(A*B) # element wise multiplication # 亦可使用 np.multiply(A, B)\n",
    "print(A/B)"
   ]
  },
  {
   "cell_type": "markdown",
   "metadata": {},
   "source": [
    "## 矩陣運算 matrix"
   ]
  },
  {
   "cell_type": "code",
   "execution_count": null,
   "metadata": {
    "colab": {
     "base_uri": "https://localhost:8080/"
    },
    "executionInfo": {
     "elapsed": 732,
     "status": "ok",
     "timestamp": 1604392408245,
     "user": {
      "displayName": "Paul Chen",
      "photoUrl": "",
      "userId": "15113937160468943492"
     },
     "user_tz": -480
    },
    "id": "Us993OraPSUv",
    "outputId": "e66a8f7b-10a8-4b86-e089-6691e9f0b198"
   },
   "outputs": [],
   "source": [
    "data1 = np.array([\n",
    "    [1, 3]\n",
    "]) # 1x2\n",
    "data2 = np.array([\n",
    "    [2, -1, 3],\n",
    "    [-2, 4, 1]\n",
    "]) # 2x3\n",
    "\n",
    "result = data1@data2 # 矩陣內積 dot product\n",
    "print(result) # 建議用這個方式\n",
    "result = data1.dot(data2)\n",
    "print(result)"
   ]
  },
  {
   "cell_type": "code",
   "execution_count": null,
   "metadata": {},
   "outputs": [],
   "source": [
    "result = np.outer(data1, data2) # 矩陣外積\n",
    "print(result) # 2x6  # 1*data2 + 3*data2"
   ]
  },
  {
   "cell_type": "code",
   "execution_count": null,
   "metadata": {
    "colab": {
     "base_uri": "https://localhost:8080/"
    },
    "executionInfo": {
     "elapsed": 660,
     "status": "ok",
     "timestamp": 1604392478373,
     "user": {
      "displayName": "Paul Chen",
      "photoUrl": "",
      "userId": "15113937160468943492"
     },
     "user_tz": -480
    },
    "id": "x6IlsBGnPigq",
    "outputId": "c74f2981-b1a3-4615-d78e-523fa162f7b6"
   },
   "outputs": [],
   "source": [
    "print(data2.transpose()) # 兩個方法在更高維度有不同\n",
    "print(data2.T)  "
   ]
  },
  {
   "cell_type": "code",
   "execution_count": null,
   "metadata": {
    "colab": {
     "base_uri": "https://localhost:8080/"
    },
    "executionInfo": {
     "elapsed": 688,
     "status": "ok",
     "timestamp": 1604392656648,
     "user": {
      "displayName": "Paul Chen",
      "photoUrl": "",
      "userId": "15113937160468943492"
     },
     "user_tz": -480
    },
    "id": "3SUQr44LPqTI",
    "outputId": "400982ee-9837-45d2-f5d4-59b3b2e1e628"
   },
   "outputs": [],
   "source": [
    "A = np.array([[3,2],\n",
    "              [0,1]])\n",
    "B = np.linalg.inv(A) # 反矩陣\n",
    "print(B)\n",
    "print(A@B)"
   ]
  },
  {
   "cell_type": "markdown",
   "metadata": {},
   "source": [
    "## 統計運算 statistics"
   ]
  },
  {
   "cell_type": "code",
   "execution_count": null,
   "metadata": {},
   "outputs": [],
   "source": [
    "data = np.array([\n",
    "    [2, 1, 7],\n",
    "    [-5, 3, 8]\n",
    "]) # 2x3\n",
    "result = data.sum()\n",
    "print('總和', result)\n",
    "result = data.max()\n",
    "print('最大值', result)\n",
    "result = data.mean()\n",
    "print('平均數', result)\n",
    "result = data.std()\n",
    "print('標準差', result)"
   ]
  },
  {
   "cell_type": "code",
   "execution_count": null,
   "metadata": {},
   "outputs": [],
   "source": [
    "result = data.sum(axis=0) # 針對欄做總和 (針對第一個維度做總和)\n",
    "print(result)\n",
    "result = data.sum(axis=1) # 針對列做總和 (針對第二個維度做總和)\n",
    "print(result)\n",
    "result = data.max(axis=0)\n",
    "print(result)\n",
    "result = data.mean(axis=1)\n",
    "print(result)"
   ]
  },
  {
   "cell_type": "code",
   "execution_count": null,
   "metadata": {},
   "outputs": [],
   "source": [
    "result = data.cumsum() # 累加\n",
    "print(result)\n",
    "result = data.cumsum(axis=0) # 針對第一維資料逐值累加\n",
    "print(result)"
   ]
  },
  {
   "cell_type": "code",
   "execution_count": null,
   "metadata": {},
   "outputs": [],
   "source": [
    "result = np.random.normal(5, 0.5, 1000) # np.random.normal(loc=0.0, scale=1.0, size=None)\n",
    "# print(result, result.shape)\n",
    "print('='*88)\n",
    "print(np.min(result))\n",
    "print(np.max(result))\n",
    "print(np.mean(result))\n",
    "print(np.median(result))\n",
    "print(np.std(result))  # 這幾個函數在高維度也有 axis 的參數可用"
   ]
  },
  {
   "cell_type": "code",
   "execution_count": null,
   "metadata": {},
   "outputs": [],
   "source": [
    "data = np.array([\n",
    "    [1, 2, 3],\n",
    "    [4, 5, 6],\n",
    "    [-2, 3, -1]\n",
    "])\n",
    "result = np.sum(data)\n",
    "print(result)\n",
    "result = np.sum(data, axis = 0)\n",
    "print(result)\n",
    "result = np.mean(data, axis = 1)\n",
    "print(result)"
   ]
  },
  {
   "cell_type": "markdown",
   "metadata": {},
   "source": [
    "# 多維陣列的維度與形狀操作\n",
    "## "
   ]
  },
  {
   "cell_type": "code",
   "execution_count": null,
   "metadata": {},
   "outputs": [],
   "source": [
    "data = np.array([\n",
    "    [3, 1, 5],\n",
    "    [1, 2, 3]\n",
    "])\n",
    "print(data.shape) # 觀察資料的形狀 # 2x3\n",
    "print(data.T) # 資料轉置 # 3x2\n"
   ]
  },
  {
   "cell_type": "code",
   "execution_count": null,
   "metadata": {},
   "outputs": [],
   "source": [
    "data = np.array([\n",
    "    [\n",
    "        [2, 1, 3],[1, 2, 3]\n",
    "    ],\n",
    "    [\n",
    "        [0, 2, 1],[8, 9, 10]   \n",
    "    ]\n",
    "]) # (2,2,3)\n",
    "newData = data.ravel()\n",
    "print(newData)# 扁平化資料 # 注意資料的放置順序\n",
    "print(newData.shape) # 一維\n"
   ]
  },
  {
   "cell_type": "code",
   "execution_count": null,
   "metadata": {},
   "outputs": [],
   "source": [
    "data = np.array([\n",
    "    [\n",
    "        [2, 1, 3], [1, 2, 3]\n",
    "    ],\n",
    "    [\n",
    "        [0, 2, 1], [8, 9, 10]   \n",
    "    ]\n",
    "]) # 2x2x3=12\n",
    "newData = data.reshape(3,4) # 3x4\n",
    "print(newData) # 重塑資料形狀 # 注意資料的放置順序\n",
    "newData =data.reshape(1,2,6)\n",
    "print(newData)\n",
    "newData =data.reshape(4,-1) # 要4列, 行電腦自行判斷\n",
    "print(newData)"
   ]
  },
  {
   "cell_type": "code",
   "execution_count": null,
   "metadata": {},
   "outputs": [],
   "source": [
    "data = np.zeros(18).reshape(3, 2, 3)\n",
    "print(data)\n",
    "data = np.arange(9).reshape(3,3)\n",
    "print(data)\n",
    "print(data.T)"
   ]
  },
  {
   "cell_type": "code",
   "execution_count": null,
   "metadata": {},
   "outputs": [],
   "source": [
    "data = np.arange(10)\n",
    "data.shape = (2,5) # 可直接改 data 的 shape\n",
    "print(data)"
   ]
  },
  {
   "cell_type": "markdown",
   "metadata": {},
   "source": [
    "# 多維陣列的索引、切片操作"
   ]
  },
  {
   "cell_type": "markdown",
   "metadata": {},
   "source": [
    "## 多維度陣列的索引 indexing"
   ]
  },
  {
   "cell_type": "code",
   "execution_count": null,
   "metadata": {},
   "outputs": [],
   "source": [
    "data = np.array([1, 5, 2, 10])\n",
    "print(data[1])\n",
    "print('='*88)\n",
    "data = np.array([\n",
    "    [0, 1],\n",
    "    [10, -5],\n",
    "    [2, 6]    \n",
    "])\n",
    "print(data[0,1]) # 第一維度取0, 第二維度取1\n",
    "print(data[1,0])\n",
    "print(data[2,0])\n",
    "print('='*88)\n",
    "data = np.array([\n",
    "    [\n",
    "        [1, 2, 3], [4, 5, 6]\n",
    "    ],\n",
    "    [\n",
    "        [7, 8, 9], [10, 11, 12]\n",
    "    ]\n",
    "]) # 2x2x3\n",
    "print(data[1,1,0]) # 10\n",
    "print(data[0,1,2]) # 6"
   ]
  },
  {
   "cell_type": "markdown",
   "metadata": {},
   "source": [
    "## 多維陣列的切片 slicing"
   ]
  },
  {
   "cell_type": "code",
   "execution_count": null,
   "metadata": {},
   "outputs": [],
   "source": [
    "data = np.array([-1, -5, 2, 3])\n",
    "print(data[0:3])\n",
    "print(data[:2])\n",
    "print(data[2:])\n",
    "print(data[::-2])\n",
    "print(data[:])\n",
    "print('='*88)\n",
    "data = np.array([\n",
    "    [0, 1, 2],\n",
    "    [3, 4, 5],\n",
    "    [5, 4, 3],\n",
    "    [2, 1, 0]\n",
    "])\n",
    "print(data[1:3,0:2]) # 2x2\n",
    "print(data[0:2,1]) # 注意! 只有一維 (2,)\n",
    "print('='*88)\n",
    "data = np.array([\n",
    "    [\n",
    "        [8, 1, 3], [-5, 5, 2 ]\n",
    "    ],\n",
    "    [\n",
    "        [0, 1, 6], [4, 4, -3]\n",
    "    ]\n",
    "])\n",
    "print(data[0,...]) # ...表示全要 # 2x3\n",
    "print(data[..., 1:3]) # 2x2x2\n"
   ]
  },
  {
   "cell_type": "markdown",
   "metadata": {},
   "source": [
    "# 多維陣列的合併 stacking"
   ]
  },
  {
   "cell_type": "markdown",
   "metadata": {},
   "source": [
    "## 合併第一個維度 vstack"
   ]
  },
  {
   "cell_type": "code",
   "execution_count": null,
   "metadata": {},
   "outputs": [],
   "source": [
    "array2D_1 = np.arange(9).reshape(3,3)\n",
    "array2D_2 = np.arange(10, 19).reshape(3,3)\n",
    "print(array2D_1)\n",
    "print(array2D_2)\n",
    "print(np.concatenate((array2D_1, array2D_2))) # 裡面要接tupleb\n",
    "print(np.concatenate((array2D_1, array2D_2), axis = 1)) "
   ]
  },
  {
   "cell_type": "code",
   "execution_count": null,
   "metadata": {},
   "outputs": [],
   "source": [
    "arr1 = np.array([\n",
    "    [1, 2, 3],\n",
    "    [4, 5, 6]\n",
    "]) # 2x3\n",
    "arr2 = np.array([\n",
    "    [7, 8, 9],\n",
    "    [10, 11, 12]\n",
    "]) # 2x3\n",
    "result = np.vstack((arr1, arr2)) #要接tuple  # 方法一\n",
    "print(result) # 4x3\n",
    "print(\"=\"*88)\n",
    "result = np.concatenate((arr1, arr2)) #要接tuple  # 方法二，預設 axis =0\n",
    "print(result) # 4x3"
   ]
  },
  {
   "cell_type": "code",
   "execution_count": null,
   "metadata": {},
   "outputs": [],
   "source": [
    "a=[[1],[2],[3]]\n",
    "b=[[1],[2],[3]]\n",
    "c=[[1],[2],[3]]\n",
    "d=[[1],[2],[3]]\n",
    "print(np.vstack((a,b,c,d))) # 想像成陣列"
   ]
  },
  {
   "cell_type": "markdown",
   "metadata": {},
   "source": [
    "## 合併第二個維度 hstack"
   ]
  },
  {
   "cell_type": "code",
   "execution_count": null,
   "metadata": {},
   "outputs": [],
   "source": [
    "arr1 = np.array([\n",
    "    [1, 2, 3],\n",
    "    [4, 5, 6]\n",
    "]) # 2x3\n",
    "arr2 = np.array([\n",
    "    [7, 8, 9],\n",
    "    [10, 11, 12]\n",
    "]) # 2x3\n",
    "result = np.hstack((arr1,arr2)) # 要接tuple\n",
    "print(result) # 2x6\n",
    "print('='*88)\n",
    "result =np.concatenate((arr1,arr2), axis = 1)\n",
    "print(result) # 2x6"
   ]
  },
  {
   "cell_type": "code",
   "execution_count": null,
   "metadata": {},
   "outputs": [],
   "source": [
    "a=[[1],[2],[3]] # 3x1\n",
    "b=[[1],[2],[3]] # 3x1\n",
    "c=[[1],[2],[3]] # 3x1\n",
    "d=[[1],[2],[3]] # 3x1\n",
    "print(np.hstack((a,b,c,d))) # 想像成陣列 # 3x4"
   ]
  },
  {
   "cell_type": "markdown",
   "metadata": {},
   "source": [
    "## stack"
   ]
  },
  {
   "cell_type": "code",
   "execution_count": null,
   "metadata": {},
   "outputs": [],
   "source": [
    "data = [[1,2,3], [4,5,6]]\n",
    "print(data) # 列表data\n",
    "\n",
    "print('='*88)\n",
    "newData = np.stack(data, axis=0) #增加一维，新维度得下標為 0\n",
    "print(newData) # 2x3\n",
    "\n",
    "print('='*88)\n",
    "newData = np.stack(data, axis=1) #增加一维，新维度得下標為 1\n",
    "print(newData) # 3x2\n"
   ]
  },
  {
   "cell_type": "code",
   "execution_count": null,
   "metadata": {},
   "outputs": [],
   "source": [
    "data =[[1,2,3,4],\n",
    "       [5,6,7,8],\n",
    "       [9,10,11,12]] \n",
    "print(data) # 列表data\n",
    "\n",
    "print('='*88)\n",
    "newData = np.stack(data, axis=0) #增加一维，新维度得下標為 0\n",
    "print(newData) # 3x4\n",
    "\n",
    "print('='*88)\n",
    "newData = np.stack(data, axis=1) #增加一维，新维度得下標為 1\n",
    "print(newData) # 4x3"
   ]
  },
  {
   "cell_type": "code",
   "execution_count": null,
   "metadata": {},
   "outputs": [],
   "source": [
    "a = [1,2,3,4]\n",
    "b = [5,6,7,8]\n",
    "c = [9,10,11,12]\n",
    "newData = np.stack((a, b, c), axis=0) # 也可放tuple\n",
    "print(newData) # 3x4\n",
    "\n",
    "print('='*88)\n",
    "newData = np.stack((a, b, c), axis=1) \n",
    "print(newData) # 4x3\n"
   ]
  },
  {
   "cell_type": "code",
   "execution_count": null,
   "metadata": {},
   "outputs": [],
   "source": [
    "a=[[1,2,3], [4,5,6]]\n",
    "b=[[1,2,3], [4,5,6]]\n",
    "c=[[1,2,3], [4,5,6]]\n",
    "d=[[1,2,3], [4,5,6]] # 2x3x4\n",
    "e=np.stack((a,b,c,d),axis=0) #增加一维，新维度得下標為 0\n",
    "print(e) # 4x2x3\n",
    "\n",
    "print('='*88)\n",
    "e=np.stack((a,b,c,d),axis=1) #增加一维，新维度得下標為 1\n",
    "print(e) # 2x4x3\n",
    "print('='*88)\n",
    "e=np.stack((a,b,c,d),axis=2) # #增加一维，新维度得下標為 2\n",
    "print(e) # 2x3x4\n"
   ]
  },
  {
   "cell_type": "code",
   "execution_count": null,
   "metadata": {},
   "outputs": [],
   "source": [
    "arrays = [np.random.randn(3,4) for _ in range(10)]  # 3x4x10\n",
    "A = np.stack(arrays, axis=0)\n",
    "print(A.shape) # 10x3x4\n",
    "B = np.stack(arrays, axis=1)\n",
    "print(B.shape) # 3x10x4 \n",
    "C = np.stack(arrays, axis=2)\n",
    "print(C.shape) # 3x4x10"
   ]
  },
  {
   "cell_type": "markdown",
   "metadata": {},
   "source": [
    "# 多維陣列的切割操作"
   ]
  },
  {
   "cell_type": "markdown",
   "metadata": {},
   "source": [
    "## 第一維度的切割"
   ]
  },
  {
   "cell_type": "code",
   "execution_count": null,
   "metadata": {},
   "outputs": [],
   "source": [
    "arr = np.array([\n",
    "    [2, 4, 6, 8, 10, 12],\n",
    "    [1, 3, 5, 7, 9, 11]\n",
    "]) # 2x6\n",
    "result = np.vsplit(arr, 2)\n",
    "print(result) # [1x6, 1x6]"
   ]
  },
  {
   "cell_type": "markdown",
   "metadata": {},
   "source": [
    "## 第二維度的切割"
   ]
  },
  {
   "cell_type": "code",
   "execution_count": null,
   "metadata": {},
   "outputs": [],
   "source": [
    "arr = np.array([\n",
    "    [2, 4, 6, 8, 10, 12],\n",
    "    [1, 3, 5, 7, 9, 11]\n",
    "]) # 2x6\n",
    "result = np.hsplit(arr, 2)\n",
    "print(result) # [2x3, 2x3]\n",
    "print('='*88)\n",
    "result = np.hsplit(arr, 3)\n",
    "print(result)  # [2x2, 2x2, 2x2]"
   ]
  },
  {
   "cell_type": "markdown",
   "metadata": {},
   "source": [
    "# Broadcasting"
   ]
  },
  {
   "cell_type": "code",
   "execution_count": null,
   "metadata": {},
   "outputs": [],
   "source": [
    "x = np.arange(4) # (4, )\n",
    "xx = x.reshape(4,1) # (4, 1)\n",
    "xxx = x.reshape(1,4) # (1, 4)\n",
    "y = np.ones(5) # (5, )\n",
    "z = np.ones([3,4]) #(3, 4) #也可以接Tuple (3, 4)\n",
    "print(x)\n",
    "print(xx) \n",
    "print(xxx)\n",
    "print(y)\n",
    "print(z)"
   ]
  },
  {
   "cell_type": "code",
   "execution_count": null,
   "metadata": {},
   "outputs": [],
   "source": [
    "print(x + y) # operands could not be broadcast together with shapes (4,) (5,)"
   ]
  },
  {
   "cell_type": "code",
   "execution_count": null,
   "metadata": {},
   "outputs": [],
   "source": [
    "print(xx.shape) # (4, 1)\n",
    "print(y.shape) # (5, )\n",
    "print((xx + y).shape) # 推播得 (4, 5)\n",
    "\n",
    "\"\"\"\n",
    "np.array([                                                      \n",
    "     [\n",
    "       [0, 0, 0, 0, 0]\n",
    "     ],\n",
    "     [\n",
    "       [1, 1, 1, 1, 1]\n",
    "     ],\n",
    "     [\n",
    "       [2, 2, 2, 2, 2]\n",
    "     ],\n",
    "     [\n",
    "       [3, 3, 3, 3, 3]\n",
    "     ]\n",
    "]) +\n",
    "\n",
    "np.array([                                                      \n",
    "     [\n",
    "       [1, 1, 1, 1, 1]\n",
    "     ],\n",
    "     [\n",
    "       [1, 1, 1, 1, 1]\n",
    "     ],\n",
    "     [\n",
    "       [1, 1, 1, 1, 1]\n",
    "     ],\n",
    "     [\n",
    "       [1, 1, 1, 1, 1]\n",
    "     ]\n",
    "])\n",
    "\n",
    "\"\"\"\n",
    "print(\"=\"*88)"
   ]
  },
  {
   "cell_type": "code",
   "execution_count": null,
   "metadata": {},
   "outputs": [],
   "source": [
    "print(xx + y) "
   ]
  },
  {
   "cell_type": "code",
   "execution_count": null,
   "metadata": {},
   "outputs": [],
   "source": [
    "print(x.shape) # (4, )\n",
    "print(z.shape) # (3, 4)\n",
    "print((x + z).shape) # (3, 4)\n",
    "\n",
    "\"\"\"\n",
    "np.array([\n",
    "   [0, 1, 2, 3],\n",
    "   [0, 1, 2, 3],   \n",
    "   [0, 1, 2, 3]\n",
    "]) +\n",
    "np.array([\n",
    "   [1, 1, 1, 1],\n",
    "   [1, 1, 1, 1],   \n",
    "   [1, 1, 1, 1]\n",
    "]) \n",
    "\n",
    "\"\"\"\n",
    "print('='*88)"
   ]
  },
  {
   "cell_type": "code",
   "execution_count": null,
   "metadata": {},
   "outputs": [],
   "source": [
    "print(x + z) # 各自擴充到(3,4)之後, 再做加減乘除\n",
    "print(x - z)\n",
    "print(x*z)\n",
    "print(x/z)"
   ]
  },
  {
   "cell_type": "code",
   "execution_count": null,
   "metadata": {},
   "outputs": [],
   "source": [
    "print(xx.shape) # (4, 1)\n",
    "print(xxx.shape) # (1, 4)\n",
    "print((xx + xxx).shape) # (4, 4)\n",
    "\n",
    "\"\"\"\n",
    "np.array([\n",
    "   [0, 0, 0, 0],\n",
    "   [1, 1, 1, 1],\n",
    "   [2, 2, 2, 2],\n",
    "   [3, 3, 3, 3]\n",
    "])+\n",
    "np.array([\n",
    "   [0, 1, 2, 3],\n",
    "   [0, 1, 2, 3],\n",
    "   [0, 1, 2, 3],\n",
    "   [0, 1, 2, 3]\n",
    "])\n",
    "\n",
    "\"\"\"\n",
    "print(\"=\"*88)"
   ]
  },
  {
   "cell_type": "code",
   "execution_count": null,
   "metadata": {},
   "outputs": [],
   "source": [
    "print(xx + xxx)\n",
    "print(xx * xxx)"
   ]
  },
  {
   "cell_type": "markdown",
   "metadata": {},
   "source": [
    "# Mask and Fancy indexing"
   ]
  },
  {
   "cell_type": "code",
   "execution_count": null,
   "metadata": {},
   "outputs": [],
   "source": [
    "import numpy.ma as ma\n",
    "\n",
    "x = np.array([1, 2, 3, -1, 5]) \n",
    "mx1 = ma.masked_array(x, mask = [0, 0, 0, 1, 0]) # Masked array\n",
    "print(mx1)\n",
    "print(mx1.mean())"
   ]
  },
  {
   "cell_type": "code",
   "execution_count": null,
   "metadata": {},
   "outputs": [],
   "source": [
    "mx2 = ma.masked_array(x, mask = x>2)\n",
    "print(mx2)\n",
    "print(mx2.mean())"
   ]
  },
  {
   "cell_type": "code",
   "execution_count": null,
   "metadata": {},
   "outputs": [],
   "source": [
    "x = np.array([1, 2, 3, -1, 5]) \n",
    "print(x[[True, True, False, False, False]]) # Mask indexing\n",
    "print(x[(x>2)]) "
   ]
  },
  {
   "cell_type": "markdown",
   "metadata": {},
   "source": [
    "## 一維的 fancy indexing"
   ]
  },
  {
   "cell_type": "code",
   "execution_count": null,
   "metadata": {},
   "outputs": [],
   "source": [
    "# Fancy index 就是我們不用數值而是用矩陣當作index\n",
    "x = np.arange(10,1,-1)\n",
    "print(x)\n",
    "print(x[[3,3,1,8]])\n",
    "print(x[[2,2,3,0]])\n",
    "y = x[np.array([[1, 1],\n",
    "    \n",
    "                [2, 3]])]\n",
    "print(y)"
   ]
  },
  {
   "cell_type": "code",
   "execution_count": null,
   "metadata": {},
   "outputs": [],
   "source": [
    "rand = np.random.RandomState(42)\n",
    "x = rand.randint(100, size = 10)\n",
    "print(x)\n",
    "print(\"-\"*100)\n",
    "print([x[3], x[7], x[2]]) # index 取值 \n",
    "ind = [3, 7, 4]\n",
    "print(x[ind])\n",
    "ind = np.array([ [3, 7],\n",
    "                 [4, 5]  ])\n",
    "print(x[ind])"
   ]
  },
  {
   "cell_type": "markdown",
   "metadata": {},
   "source": [
    "## 二維的 fancy indexing"
   ]
  },
  {
   "cell_type": "code",
   "execution_count": null,
   "metadata": {},
   "outputs": [],
   "source": [
    "X = np.arange(16).reshape(4, -1) # 改成 4列, 行由電腦自行判斷\n",
    "print(X)\n",
    "print(X[1,3]) # index\n",
    "print(X[[0, 3], [1, 3]]) # 取 (0, 1) 與 (3, 3) 的值\n",
    "print(X[1:3, 2:4]) # slicing\n",
    "print(X[[1,3],0:2])"
   ]
  },
  {
   "cell_type": "code",
   "execution_count": null,
   "metadata": {},
   "outputs": [],
   "source": [
    "row = np.array([0, 1, 2]) \n",
    "col = np.array([1, 2, 3])"
   ]
  },
  {
   "cell_type": "code",
   "execution_count": null,
   "metadata": {},
   "outputs": [],
   "source": [
    "print(X[row, col]) # 重要, 區分跟slicing 的差別"
   ]
  },
  {
   "cell_type": "code",
   "execution_count": null,
   "metadata": {},
   "outputs": [],
   "source": [
    "X[0, col]"
   ]
  },
  {
   "cell_type": "code",
   "execution_count": null,
   "metadata": {},
   "outputs": [],
   "source": [
    "X[:2, col]"
   ]
  },
  {
   "cell_type": "markdown",
   "metadata": {},
   "source": [
    "# 矩陣數值種類轉換"
   ]
  },
  {
   "cell_type": "code",
   "execution_count": null,
   "metadata": {},
   "outputs": [],
   "source": [
    "data = np.array([1, 2, 3.5])\n",
    "print(data.dtype)\n",
    "data = data.astype(int)\n",
    "print(data.dtype)\n",
    "print(data)\n"
   ]
  },
  {
   "cell_type": "code",
   "execution_count": null,
   "metadata": {},
   "outputs": [],
   "source": [
    "data = np.array([\n",
    "    [\n",
    "        ['11', '22']\n",
    "    ],\n",
    "    [\n",
    "        ['33', '44']\n",
    "    ]\n",
    "]) # 2x1x2\n",
    "print(data)\n",
    "print(data.dtype)  # U表示Unicode，数据类型。  # 1表示元素位長，数據大小。\n",
    "data = data.astype(int)\n",
    "print(data.dtype)\n",
    "print(data)"
   ]
  },
  {
   "cell_type": "markdown",
   "metadata": {
    "id": "O-tRP2p3-77_"
   },
   "source": [
    "# **Numpy Missing Data**"
   ]
  },
  {
   "cell_type": "code",
   "execution_count": null,
   "metadata": {
    "colab": {
     "base_uri": "https://localhost:8080/"
    },
    "executionInfo": {
     "elapsed": 795,
     "status": "ok",
     "timestamp": 1605078781722,
     "user": {
      "displayName": "Paul Chen",
      "photoUrl": "",
      "userId": "15113937160468943492"
     },
     "user_tz": -480
    },
    "id": "VCmho1igUMiu",
    "outputId": "ab1730cc-b295-4d0c-eb65-8e9e773424f9"
   },
   "outputs": [],
   "source": [
    "data = np.array([1.0, 2.0, np.NaN, 7.0])\n",
    "print(data)"
   ]
  },
  {
   "cell_type": "code",
   "execution_count": null,
   "metadata": {
    "colab": {
     "base_uri": "https://localhost:8080/"
    },
    "executionInfo": {
     "elapsed": 723,
     "status": "ok",
     "timestamp": 1605078785189,
     "user": {
      "displayName": "Paul Chen",
      "photoUrl": "",
      "userId": "15113937160468943492"
     },
     "user_tz": -480
    },
    "id": "keCNijbNVq1W",
    "outputId": "7f0f6764-b3f3-495b-e75e-839545734874"
   },
   "outputs": [],
   "source": [
    "x = np.array([1.0, 2.5, np.nan, 1.3, np.inf, 7.2])\n",
    "print(\"input array with bad values:\")\n",
    "print(x)\n",
    "\n",
    "xm = np.ma.masked_invalid(x)\n",
    "print(\"masked version:\")\n",
    "print(xm)"
   ]
  },
  {
   "cell_type": "code",
   "execution_count": null,
   "metadata": {},
   "outputs": [],
   "source": [
    "x = np.array([1, 2, 3])\n",
    "y = np.array([1, 0, 1])\n",
    "print(x/y)"
   ]
  },
  {
   "cell_type": "code",
   "execution_count": null,
   "metadata": {},
   "outputs": [],
   "source": [
    "x = np.ma.array([1, 2, 3])\n",
    "y = np.ma.array([1, 0, 1])\n",
    "print(x/y)"
   ]
  },
  {
   "cell_type": "code",
   "execution_count": null,
   "metadata": {
    "colab": {
     "base_uri": "https://localhost:8080/"
    },
    "executionInfo": {
     "elapsed": 780,
     "status": "ok",
     "timestamp": 1605079155775,
     "user": {
      "displayName": "Paul Chen",
      "photoUrl": "",
      "userId": "15113937160468943492"
     },
     "user_tz": -480
    },
    "id": "DhBnBvTkcYno",
    "outputId": "cb953fe8-76ba-4016-be7d-63d1c4486492"
   },
   "outputs": [],
   "source": [
    "x = np.ma.array([1, 2, 3], mask=[False, False, False]) # True 會被遮罩起來\n",
    "y = np.ma.array([1, 0, 1])\n",
    "print(x * y)\n",
    "print(x/y)\n",
    "z = np.array([1, np.nan, 2], mask)\n",
    "print(x * z)\n",
    "print (x/z)"
   ]
  },
  {
   "cell_type": "code",
   "execution_count": null,
   "metadata": {},
   "outputs": [],
   "source": [
    "data = [1, np.nan, np.nan] # 不能在列表上操作\n",
    "data = np.array(data)\n",
    "mask = np.isnan(data) # 偵測缺失值\n",
    "data[mask] = 0\n",
    "print(data) # 缺失值補 0"
   ]
  },
  {
   "cell_type": "code",
   "execution_count": null,
   "metadata": {},
   "outputs": [],
   "source": [
    "data = [1, np.nan, 2]\n",
    "data = np.array(data)\n",
    "mask = np.isnan(data) \n",
    "data = data[~mask]\n",
    "print(data) # 拿掉缺失值"
   ]
  },
  {
   "cell_type": "code",
   "execution_count": null,
   "metadata": {},
   "outputs": [],
   "source": [
    "# 比較 pandas 的偵測缺失值\n",
    "import pandas as pd\n",
    "dict = {'First Score':[100, 90, np.nan, 95], \n",
    "        'Second Score': [30, 45, 56, np.nan], \n",
    "        'Third Score':[np.nan, 40, 80, 98]} \n",
    "df = pd.DataFrame(dict) \n",
    "print(df)\n",
    "\n",
    "df.isnull() # using isnull() function   "
   ]
  },
  {
   "cell_type": "markdown",
   "metadata": {
    "id": "OcjHNCpsll_n"
   },
   "source": [
    "# **Module 10 Duplicated Data**"
   ]
  },
  {
   "cell_type": "code",
   "execution_count": null,
   "metadata": {
    "colab": {
     "base_uri": "https://localhost:8080/"
    },
    "executionInfo": {
     "elapsed": 775,
     "status": "ok",
     "timestamp": 1605080161137,
     "user": {
      "displayName": "Paul Chen",
      "photoUrl": "",
      "userId": "15113937160468943492"
     },
     "user_tz": -480
    },
    "id": "N8OxPSf-eECY",
    "outputId": "486fc85a-ed89-43e2-8293-81a8995fe8d4"
   },
   "outputs": [],
   "source": [
    "import pandas as pd \n",
    "data = pd.read_csv(\"./employees.csv\") \n",
    "display(data)"
   ]
  },
  {
   "cell_type": "code",
   "execution_count": null,
   "metadata": {
    "colab": {
     "base_uri": "https://localhost:8080/"
    },
    "executionInfo": {
     "elapsed": 775,
     "status": "ok",
     "timestamp": 1605080161137,
     "user": {
      "displayName": "Paul Chen",
      "photoUrl": "",
      "userId": "15113937160468943492"
     },
     "user_tz": -480
    },
    "id": "N8OxPSf-eECY",
    "outputId": "486fc85a-ed89-43e2-8293-81a8995fe8d4"
   },
   "outputs": [],
   "source": [
    "data.sort_values(\"First Name\", inplace = True) # sorting by first name \n",
    "display(data)"
   ]
  },
  {
   "cell_type": "code",
   "execution_count": null,
   "metadata": {
    "colab": {
     "base_uri": "https://localhost:8080/"
    },
    "executionInfo": {
     "elapsed": 775,
     "status": "ok",
     "timestamp": 1605080161137,
     "user": {
      "displayName": "Paul Chen",
      "photoUrl": "",
      "userId": "15113937160468943492"
     },
     "user_tz": -480
    },
    "id": "N8OxPSf-eECY",
    "outputId": "486fc85a-ed89-43e2-8293-81a8995fe8d4"
   },
   "outputs": [],
   "source": [
    "# making a bool series \n",
    "bool_series = data[\"First Name\"].duplicated() \n",
    "bool_series # 預設 第一次出現的為 False, 之後的為 True"
   ]
  },
  {
   "cell_type": "code",
   "execution_count": null,
   "metadata": {
    "colab": {
     "base_uri": "https://localhost:8080/",
     "height": 546
    },
    "executionInfo": {
     "elapsed": 760,
     "status": "ok",
     "timestamp": 1605080168356,
     "user": {
      "displayName": "Paul Chen",
      "photoUrl": "",
      "userId": "15113937160468943492"
     },
     "user_tz": -480
    },
    "id": "Pst4WB0eeKg2",
    "outputId": "92df8ca4-f4b3-44c6-9c26-409422061cbd"
   },
   "outputs": [],
   "source": [
    "data[bool_series] # 展示重複數據 "
   ]
  },
  {
   "cell_type": "code",
   "execution_count": null,
   "metadata": {
    "colab": {
     "base_uri": "https://localhost:8080/",
     "height": 684
    },
    "executionInfo": {
     "elapsed": 776,
     "status": "ok",
     "timestamp": 1605080290901,
     "user": {
      "displayName": "Paul Chen",
      "photoUrl": "",
      "userId": "15113937160468943492"
     },
     "user_tz": -480
    },
    "id": "O_Apz0IklAwi",
    "outputId": "4094e78e-de77-4cb7-cef8-95fe0fcae3e7"
   },
   "outputs": [],
   "source": [
    "data = data[~bool_series] # passing NOT of bool series to see unique values only \n",
    "print(data)\n",
    "\n"
   ]
  }
 ],
 "metadata": {
  "colab": {
   "authorship_tag": "ABX9TyPdJqSkPZCW2p9/LmfGEW/9",
   "name": "NDarrayIntro.ipynb",
   "provenance": []
  },
  "kernelspec": {
   "display_name": "Python 3",
   "language": "python",
   "name": "python3"
  },
  "language_info": {
   "codemirror_mode": {
    "name": "ipython",
    "version": 3
   },
   "file_extension": ".py",
   "mimetype": "text/x-python",
   "name": "python",
   "nbconvert_exporter": "python",
   "pygments_lexer": "ipython3",
   "version": "3.8.10"
  }
 },
 "nbformat": 4,
 "nbformat_minor": 1
}
