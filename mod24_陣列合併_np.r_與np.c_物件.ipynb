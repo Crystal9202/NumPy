{
 "cells": [
  {
   "cell_type": "markdown",
   "id": "1295efe2",
   "metadata": {},
   "source": [
    "## <font color=red> Module_24_陣列合併_np.r_與np.c_物件</font>"
   ]
  },
  {
   "cell_type": "markdown",
   "id": "a121499c",
   "metadata": {},
   "source": [
    "## np.r_物件的使用"
   ]
  },
  {
   "cell_type": "markdown",
   "id": "1426c99d",
   "metadata": {},
   "source": [
    "## 方法一: 合併陣列(先不設定控制字元)"
   ]
  },
  {
   "cell_type": "code",
   "execution_count": null,
   "id": "279cdf2e",
   "metadata": {},
   "outputs": [],
   "source": [
    "# np.r_[陣列或數值, 陣列或數值]\n",
    "# np.r_是 NumPy 的物件之一，不需要加 () 小括號。\n",
    "# 與 np.vstack() 用法類似"
   ]
  },
  {
   "cell_type": "code",
   "execution_count": null,
   "id": "aa0a0ba5",
   "metadata": {},
   "outputs": [],
   "source": [
    "import numpy as np\n",
    "\n",
    "a = np.array([1, 2, 3])\n",
    "b = np.array([4, 5, 6])\n",
    "print(a)\n",
    "print(b)"
   ]
  },
  {
   "cell_type": "code",
   "execution_count": null,
   "id": "46e21ea6",
   "metadata": {},
   "outputs": [],
   "source": [
    "c = np.r_[a, b] \n",
    "c"
   ]
  },
  {
   "cell_type": "code",
   "execution_count": null,
   "id": "9fd67db6",
   "metadata": {},
   "outputs": [],
   "source": [
    "d = np.r_[2, 5, 3, np.array([2, 3]), 4.2]\n",
    "d"
   ]
  },
  {
   "cell_type": "code",
   "execution_count": null,
   "id": "87455bca",
   "metadata": {},
   "outputs": [],
   "source": [
    "e = np.zeros((2, 3))\n",
    "f = np.ones((3, 3))\n",
    "g = np.r_[e, f] # 對第 0 軸合併，其他軸維度要一樣 # 從 (2, 3) 與 (3, 3) 變成 (2 + 3, 3)\n",
    "g  "
   ]
  },
  {
   "cell_type": "code",
   "execution_count": null,
   "id": "6553bc31",
   "metadata": {},
   "outputs": [],
   "source": [
    "h = np.ones((3, 4))\n",
    "np.r_[e, h]"
   ]
  },
  {
   "cell_type": "markdown",
   "id": "7962d7f8",
   "metadata": {},
   "source": [
    "## 方法二: 合併陣列(設定控制字元)"
   ]
  },
  {
   "cell_type": "code",
   "execution_count": null,
   "id": "aed76c5a",
   "metadata": {},
   "outputs": [],
   "source": [
    "# np.r_['x,y,z', 陣列或數值, 陣列或數值]\n",
    "# 'x,y,z' 是字串，內含 3 個以逗號隔開的整數，預設為 '0,0,-1'\n",
    "# x : 設定合併哪一軸的元素\n",
    "# y : 設定 y 值表示傳回陣列的軸數至少為 y\n",
    "# z : 若依 y 的設定在合併前必須增加原陣列的軸數，設定 z 值則表示以第 z 軸做為原陣列既有軸的起始位置 # 預設值 -1，表示最後一軸"
   ]
  },
  {
   "cell_type": "code",
   "execution_count": null,
   "id": "1f620e25",
   "metadata": {},
   "outputs": [],
   "source": [
    "import numpy as np\n",
    "\n",
    "a = np.ones((2, 2))\n",
    "b = np.zeros((2, 2))\n",
    "print(a)\n",
    "print(b)"
   ]
  },
  {
   "cell_type": "code",
   "execution_count": null,
   "id": "f50904ce",
   "metadata": {},
   "outputs": [],
   "source": [
    "c = np.r_['1', a, b] # # 對第 1 軸合併，其他軸維度要一樣 # 從 (2, 2) 與 (2, 2) 變成 (2, 4)\n",
    "c"
   ]
  },
  {
   "cell_type": "code",
   "execution_count": null,
   "id": "47d0ffa5",
   "metadata": {},
   "outputs": [],
   "source": [
    "d = np.r_['0', a, b] # 對第 0 軸合併，其他軸維度要一樣 # 從 (2, 2) 與 (2, 2) 變成 (2 + 2, 2)\n",
    "d"
   ]
  },
  {
   "cell_type": "code",
   "execution_count": null,
   "id": "4b87d571",
   "metadata": {},
   "outputs": [],
   "source": [
    "e = np.r_[a, b]\n",
    "e"
   ]
  },
  {
   "cell_type": "markdown",
   "id": "84922202",
   "metadata": {},
   "source": [
    "---"
   ]
  },
  {
   "cell_type": "code",
   "execution_count": null,
   "id": "8916a526",
   "metadata": {},
   "outputs": [],
   "source": [
    "f = np.ones((2, 2, 2))\n",
    "g = np.zeros((2, 2, 2))\n",
    "print(f)\n",
    "print(g)"
   ]
  },
  {
   "cell_type": "code",
   "execution_count": null,
   "id": "f9e953e8",
   "metadata": {},
   "outputs": [],
   "source": [
    "h = np.r_['0', f, g] # 對第 0 軸合併，其他軸維度要一樣 # 從 (2, 2, 2) 與 (2, 2, 2) 變成 (2 + 2, 2, 2)\n",
    "h"
   ]
  },
  {
   "cell_type": "code",
   "execution_count": null,
   "id": "bcb0506c",
   "metadata": {},
   "outputs": [],
   "source": [
    "i = np.r_['1', f, g] # 對第 1 軸合併，其他軸維度要一樣 # 從 (2, 2, 2) 與 (2, 2, 2) 變成 (2, 2+2, 2)\n",
    "i"
   ]
  },
  {
   "cell_type": "code",
   "execution_count": null,
   "id": "7aa1ab91",
   "metadata": {},
   "outputs": [],
   "source": [
    "j = np.r_['2', f, g] # 對第 1 軸合併，其他軸維度要一樣 # 從 (2, 2, 2) 與 (2, 2, 2) 變成 (2, 2, 2+2)\n",
    "j"
   ]
  },
  {
   "cell_type": "markdown",
   "id": "19692650",
   "metadata": {},
   "source": [
    "---"
   ]
  },
  {
   "cell_type": "code",
   "execution_count": null,
   "id": "bdbffb50",
   "metadata": {},
   "outputs": [],
   "source": [
    "k = np.r_['0,2', np.array([0, 1, 2]), np.array([3, 3, 3])]\n",
    "k # (1, 3) 與 (1, 3) 變成 (1 + 1, 3)"
   ]
  },
  {
   "cell_type": "code",
   "execution_count": null,
   "id": "3c0da1ac",
   "metadata": {},
   "outputs": [],
   "source": [
    "l = np.r_['0,3', np.array([0, 1, 2]), np.array([3, 3, 3])]\n",
    "l # (1, 1, 3) 與 (1, 1, 3) 變成 (1 + 1, 1, 3)"
   ]
  },
  {
   "cell_type": "code",
   "execution_count": null,
   "id": "de5e32fd",
   "metadata": {},
   "outputs": [],
   "source": [
    "m = np.r_['0,2,-1', np.array([0, 1, 2]), np.array([3, 3, 3])]\n",
    "m # (1, 3) 與 (1, 3) 變成 (1 + 1, 3)"
   ]
  },
  {
   "cell_type": "code",
   "execution_count": null,
   "id": "d3ffafc0",
   "metadata": {},
   "outputs": [],
   "source": [
    "n = np.r_['0,2,0', np.array([0, 1, 2]), np.array([3, 3, 3])]\n",
    "n # (3, 1) 與 (3, 1) 變成 (3 + 3, 1)"
   ]
  },
  {
   "cell_type": "code",
   "execution_count": null,
   "id": "75edb594",
   "metadata": {},
   "outputs": [],
   "source": [
    "o = np.r_['0,3,0', np.array([0, 1, 2]), np.array([3, 3, 3])]\n",
    "o # (3, 1, 1) 與 (3, 1, 1) 變成 (3 + 3, 1, 1)"
   ]
  },
  {
   "cell_type": "markdown",
   "id": "34b99248",
   "metadata": {},
   "source": [
    "## 用法三: 使用切片語法建立陣列"
   ]
  },
  {
   "cell_type": "code",
   "execution_count": null,
   "id": "f741b1c7",
   "metadata": {},
   "outputs": [],
   "source": [
    "# np.r_[start:stop:step, 1D陣列或數值, 1D陣列或數值]\n",
    "# 用法跟 np.arange()函式類似"
   ]
  },
  {
   "cell_type": "code",
   "execution_count": null,
   "id": "684f34a9",
   "metadata": {},
   "outputs": [],
   "source": [
    "import numpy as np\n",
    "\n",
    "a = np.r_[0:10]\n",
    "a"
   ]
  },
  {
   "cell_type": "code",
   "execution_count": null,
   "id": "e59040d5",
   "metadata": {},
   "outputs": [],
   "source": [
    "b = np.r_[:10]\n",
    "b"
   ]
  },
  {
   "cell_type": "code",
   "execution_count": null,
   "id": "7ead6d67",
   "metadata": {},
   "outputs": [],
   "source": [
    "c = np.r_[0:10:2]\n",
    "c"
   ]
  },
  {
   "cell_type": "code",
   "execution_count": null,
   "id": "979cd50a",
   "metadata": {},
   "outputs": [],
   "source": [
    "d = np.r_[10:0:-1]\n",
    "d"
   ]
  },
  {
   "cell_type": "code",
   "execution_count": null,
   "id": "0527edd5",
   "metadata": {},
   "outputs": [],
   "source": [
    "e = np.r_[0:10, 0, 4, np.array([3, 3])]\n",
    "e"
   ]
  },
  {
   "cell_type": "markdown",
   "id": "7b60281d",
   "metadata": {},
   "source": [
    "## 用法四: 使用 'r'、'c' 字串建立矩陣(matrix)物件"
   ]
  },
  {
   "cell_type": "code",
   "execution_count": null,
   "id": "761330d9",
   "metadata": {},
   "outputs": [],
   "source": [
    "# np.r_['r'或'c', 陣列或數值, 陣列或數值,]\n",
    "# 用來合併陣列或數值，會得到一個矩陣(matrix) 物件\n",
    "# matrix 物件不常用，需要再查即可"
   ]
  },
  {
   "cell_type": "markdown",
   "id": "06d32372",
   "metadata": {},
   "source": [
    "## np.c_物件的使用"
   ]
  },
  {
   "cell_type": "code",
   "execution_count": null,
   "id": "05930dcd",
   "metadata": {},
   "outputs": [],
   "source": [
    "# np.c_ 物件能做的事情都可以用 np.r_ 物件處理，建議一律用 np.r_ 物件，以免搞混了!!"
   ]
  }
 ],
 "metadata": {
  "kernelspec": {
   "display_name": "Python 3",
   "language": "python",
   "name": "python3"
  },
  "language_info": {
   "codemirror_mode": {
    "name": "ipython",
    "version": 3
   },
   "file_extension": ".py",
   "mimetype": "text/x-python",
   "name": "python",
   "nbconvert_exporter": "python",
   "pygments_lexer": "ipython3",
   "version": "3.8.10"
  }
 },
 "nbformat": 4,
 "nbformat_minor": 5
}
