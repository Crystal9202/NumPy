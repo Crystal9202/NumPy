{
 "cells": [
  {
   "cell_type": "markdown",
   "id": "ff2cdda2",
   "metadata": {},
   "source": [
    "## <font color=red> Module33_計算變異數_var()</font>"
   ]
  },
  {
   "cell_type": "markdown",
   "id": "4dcc51f1",
   "metadata": {},
   "source": [
    "## np.var() 函式的用法"
   ]
  },
  {
   "cell_type": "code",
   "execution_count": null,
   "id": "81fb8211",
   "metadata": {},
   "outputs": [],
   "source": [
    "# np.var(a, axis = None, dtype = None, out = None, ddof = 0, keepdims = False)\n",
    "# a : 傳入要處理的陣列\n",
    "# axis : 指定要計算哪一軸元素的變異數。預設值為 None\n",
    "# dtype : 設定傳回陣列元素的資料型別\n",
    "# out : 可以把傳回結果儲存在一個陣列中。預設值為 None，不常用\n",
    "# ddof : 標準差公式的開根號是除以資料筆數 N，設定 ddof 參數會改除以 N - ddof。 ddof(Delta degrees of Freedom) 稱為自由度\n",
    "# keepdims : 設定傳回結果的軸數是否保持不變。預設值為 False"
   ]
  },
  {
   "cell_type": "code",
   "execution_count": null,
   "id": "eded5788",
   "metadata": {},
   "outputs": [],
   "source": [
    "import numpy as np\n",
    "\n",
    "a = np.array([10, 20, 12, 0, 3, 5])\n",
    "a"
   ]
  },
  {
   "cell_type": "code",
   "execution_count": null,
   "id": "bf3a364e",
   "metadata": {},
   "outputs": [],
   "source": [
    "np.var(a)"
   ]
  }
 ],
 "metadata": {
  "kernelspec": {
   "display_name": "Python 3",
   "language": "python",
   "name": "python3"
  },
  "language_info": {
   "codemirror_mode": {
    "name": "ipython",
    "version": 3
   },
   "file_extension": ".py",
   "mimetype": "text/x-python",
   "name": "python",
   "nbconvert_exporter": "python",
   "pygments_lexer": "ipython3",
   "version": "3.8.10"
  }
 },
 "nbformat": 4,
 "nbformat_minor": 5
}
