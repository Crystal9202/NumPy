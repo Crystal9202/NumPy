{
 "cells": [
  {
   "cell_type": "markdown",
   "id": "a9bc6c4c",
   "metadata": {},
   "source": [
    "## <font color=red> Module36_網格陣列_meshgrid()</font>"
   ]
  },
  {
   "cell_type": "markdown",
   "id": "7d2e84de",
   "metadata": {},
   "source": [
    "## np.meshgrid() 函式的用法"
   ]
  },
  {
   "cell_type": "code",
   "execution_count": null,
   "id": "f9f9f8a3",
   "metadata": {},
   "outputs": [],
   "source": [
    "# np.meshgrid(x1, x2, ..., xn, indexing = 'xy', sparse = False, copy = True)\n",
    "# x1, x2, ..., xn : 依序傳入要處理的陣列，x1, x2, ...只能是一軸陣列。如果傳入兩個一軸陣列 (x1, x2)，他們就分別代表 (X座標, Y座標)，會依照這些座標組成網格\n",
    "# indexing : 這個設定會決定組成網格的方式，也會影響傳回陣列的內容\n",
    "# sparse : 設定為 True 時，只會傳回部分座標點，可以節省記憶體用量\n",
    "# copy : 此參數如果設定為 False，回傳回原始陣列的 view 以節省記憶體"
   ]
  },
  {
   "cell_type": "code",
   "execution_count": null,
   "id": "1a95ec44",
   "metadata": {},
   "outputs": [],
   "source": [
    "import numpy as np\n",
    "\n",
    "a = np.array([0, 1, 2])\n",
    "b = np.array([4, 0])\n",
    "aa, bb = np.meshgrid(a, b) # a 的形狀 (3, ) # b 的形狀 (2, )"
   ]
  },
  {
   "cell_type": "code",
   "execution_count": null,
   "id": "f0e738bb",
   "metadata": {},
   "outputs": [],
   "source": [
    "aa # (2, 3)"
   ]
  },
  {
   "cell_type": "code",
   "execution_count": null,
   "id": "bdfd1b27",
   "metadata": {},
   "outputs": [],
   "source": [
    "bb # (2, 3)"
   ]
  },
  {
   "cell_type": "markdown",
   "id": "90ae2c44",
   "metadata": {},
   "source": [
    "---"
   ]
  },
  {
   "cell_type": "code",
   "execution_count": null,
   "id": "fbb8604e",
   "metadata": {},
   "outputs": [],
   "source": [
    "aa2, bb2 = np.meshgrid(a, b, indexing = 'xy')"
   ]
  },
  {
   "cell_type": "code",
   "execution_count": null,
   "id": "7db71c7a",
   "metadata": {},
   "outputs": [],
   "source": [
    "aa2"
   ]
  },
  {
   "cell_type": "code",
   "execution_count": null,
   "id": "f1c33e4e",
   "metadata": {},
   "outputs": [],
   "source": [
    "bb2"
   ]
  },
  {
   "cell_type": "code",
   "execution_count": null,
   "id": "2ac3bce7",
   "metadata": {},
   "outputs": [],
   "source": [
    "aa3, bb3 = np.meshgrid(a, b, indexing = 'ij') # 先列在行  # a 的形狀 (3, ) # b 的形狀 (2, )"
   ]
  },
  {
   "cell_type": "code",
   "execution_count": null,
   "id": "0f64ed7a",
   "metadata": {},
   "outputs": [],
   "source": [
    "aa3 # (3, 2)"
   ]
  },
  {
   "cell_type": "code",
   "execution_count": null,
   "id": "7887373c",
   "metadata": {},
   "outputs": [],
   "source": [
    "bb3 # (3, 2)"
   ]
  },
  {
   "cell_type": "markdown",
   "id": "d26b33eb",
   "metadata": {},
   "source": [
    "---"
   ]
  },
  {
   "cell_type": "code",
   "execution_count": null,
   "id": "e5a31213",
   "metadata": {},
   "outputs": [],
   "source": [
    "av, bv = np.meshgrid(a, b, sparse = True) # 稀疏網格(Sparse Grid)"
   ]
  },
  {
   "cell_type": "code",
   "execution_count": null,
   "id": "e54cdf10",
   "metadata": {},
   "outputs": [],
   "source": [
    "av"
   ]
  },
  {
   "cell_type": "code",
   "execution_count": null,
   "id": "4f5cbf35",
   "metadata": {},
   "outputs": [],
   "source": [
    "bv"
   ]
  }
 ],
 "metadata": {
  "kernelspec": {
   "display_name": "Python 3",
   "language": "python",
   "name": "python3"
  },
  "language_info": {
   "codemirror_mode": {
    "name": "ipython",
    "version": 3
   },
   "file_extension": ".py",
   "mimetype": "text/x-python",
   "name": "python",
   "nbconvert_exporter": "python",
   "pygments_lexer": "ipython3",
   "version": "3.8.10"
  }
 },
 "nbformat": 4,
 "nbformat_minor": 5
}
