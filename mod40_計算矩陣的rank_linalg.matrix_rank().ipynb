{
 "cells": [
  {
   "cell_type": "markdown",
   "id": "9cd86028",
   "metadata": {},
   "source": [
    "## <font color=red> Module40_計算矩陣的rank_linalg.matrix_rank()</font>"
   ]
  },
  {
   "cell_type": "markdown",
   "id": "c1c31fee",
   "metadata": {},
   "source": [
    "## np.linalg.matrix_rank() 函式的用法"
   ]
  },
  {
   "cell_type": "code",
   "execution_count": null,
   "id": "a613586d",
   "metadata": {},
   "outputs": [],
   "source": [
    "# np.linalg.matrix_rank(M, tol = None, hermitian = False)\n",
    "# M : 傳入要處理的一軸陣列或二軸陣列\n",
    "# tol : 指定在計算 rank 時，小於多少以下的值會被視為 0，這個參數表示的是 threshold(臨界值)\n",
    "# hermitian : 將 M 視為 Hermitian 矩陣來計算 rank，背景運算時會以更有效率的方式來算出奇異數"
   ]
  },
  {
   "cell_type": "code",
   "execution_count": null,
   "id": "375c2ffc",
   "metadata": {},
   "outputs": [],
   "source": [
    "import numpy as np\n",
    "\n",
    "A = np.array([\n",
    "    [1, 1, 4, 0, 1],\n",
    "    [0, 3, 1, 3, 2],\n",
    "    [1, 3, 0, 0, 1],\n",
    "    [2, 4, 3, 1, 1]\n",
    "])\n",
    "\n",
    "A"
   ]
  },
  {
   "cell_type": "code",
   "execution_count": null,
   "id": "9baa9e10",
   "metadata": {},
   "outputs": [],
   "source": [
    "np.linalg.matrix_rank(A)"
   ]
  },
  {
   "cell_type": "code",
   "execution_count": null,
   "id": "aea3362e",
   "metadata": {},
   "outputs": [],
   "source": [
    "B = np.array([\n",
    "    [1, 2, 3, 0],\n",
    "    [2, 4, 6, 0],\n",
    "    [1, 0, 1, 2],\n",
    "    [1, 0, 0, 3]\n",
    "])\n",
    "\n",
    "B"
   ]
  },
  {
   "cell_type": "code",
   "execution_count": null,
   "id": "d0fc23a0",
   "metadata": {},
   "outputs": [],
   "source": [
    "np.linalg.matrix_rank(B)"
   ]
  }
 ],
 "metadata": {
  "kernelspec": {
   "display_name": "Python 3",
   "language": "python",
   "name": "python3"
  },
  "language_info": {
   "codemirror_mode": {
    "name": "ipython",
    "version": 3
   },
   "file_extension": ".py",
   "mimetype": "text/x-python",
   "name": "python",
   "nbconvert_exporter": "python",
   "pygments_lexer": "ipython3",
   "version": "3.8.10"
  }
 },
 "nbformat": 4,
 "nbformat_minor": 5
}
