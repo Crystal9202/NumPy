{
 "cells": [
  {
   "cell_type": "markdown",
   "id": "58987efd",
   "metadata": {},
   "source": [
    "## <font color=red> Module39_計算矩陣的特徵值與特徵向量_linalg.eig()</font>"
   ]
  },
  {
   "cell_type": "markdown",
   "id": "a1f31e2b",
   "metadata": {},
   "source": [
    "## np.linalg.eig() 函式的用法"
   ]
  },
  {
   "cell_type": "code",
   "execution_count": null,
   "id": "4603ed15",
   "metadata": {},
   "outputs": [],
   "source": [
    "# np.linalg.eig(a)\n",
    "# a :  傳入要處理的陣列。最常是拿二軸陣列來運算，不過也可以處理三軸陣列，只是要留意倒數兩軸的維度要一樣\n",
    "\n",
    "# 傳回值是一個 tuple，內含兩個陣列，所有特徵值會集中在第一個陣列，而所有的特徵向量集中在第二個陣列"
   ]
  },
  {
   "cell_type": "code",
   "execution_count": null,
   "id": "49635eb7",
   "metadata": {},
   "outputs": [],
   "source": [
    "import numpy as np\n",
    "import numpy.linalg as LA\n",
    "\n",
    "a = np.array([[1, 0], [0, 2]])\n",
    "a"
   ]
  },
  {
   "cell_type": "code",
   "execution_count": null,
   "id": "1f298cb5",
   "metadata": {},
   "outputs": [],
   "source": [
    "LA.eig(a)"
   ]
  },
  {
   "cell_type": "code",
   "execution_count": null,
   "id": "f684f54f",
   "metadata": {},
   "outputs": [],
   "source": [
    "b = np.array([[2, 5], [3, -8]])\n",
    "b"
   ]
  },
  {
   "cell_type": "code",
   "execution_count": null,
   "id": "62578c44",
   "metadata": {},
   "outputs": [],
   "source": [
    "LA.eig(b)"
   ]
  },
  {
   "cell_type": "code",
   "execution_count": null,
   "id": "d1cac325",
   "metadata": {},
   "outputs": [],
   "source": [
    "c = np.random.randint(-10, 10, size = (3, 3))\n",
    "c"
   ]
  },
  {
   "cell_type": "code",
   "execution_count": null,
   "id": "1b162e2c",
   "metadata": {},
   "outputs": [],
   "source": [
    "w, v = LA.eig(c)"
   ]
  },
  {
   "cell_type": "code",
   "execution_count": null,
   "id": "74d722eb",
   "metadata": {},
   "outputs": [],
   "source": [
    "w"
   ]
  },
  {
   "cell_type": "code",
   "execution_count": null,
   "id": "35564ced",
   "metadata": {},
   "outputs": [],
   "source": [
    "v"
   ]
  },
  {
   "cell_type": "code",
   "execution_count": null,
   "id": "fdcd2e05",
   "metadata": {},
   "outputs": [],
   "source": [
    "c = np.random.randint(-10, 10, size = (3, 3, 3))\n",
    "c"
   ]
  },
  {
   "cell_type": "code",
   "execution_count": null,
   "id": "e867848f",
   "metadata": {},
   "outputs": [],
   "source": [
    "w, v = LA.eig(c)"
   ]
  },
  {
   "cell_type": "code",
   "execution_count": null,
   "id": "c4fce291",
   "metadata": {},
   "outputs": [],
   "source": [
    "w"
   ]
  },
  {
   "cell_type": "code",
   "execution_count": null,
   "id": "f7871c32",
   "metadata": {},
   "outputs": [],
   "source": [
    "v"
   ]
  }
 ],
 "metadata": {
  "kernelspec": {
   "display_name": "Python 3",
   "language": "python",
   "name": "python3"
  },
  "language_info": {
   "codemirror_mode": {
    "name": "ipython",
    "version": 3
   },
   "file_extension": ".py",
   "mimetype": "text/x-python",
   "name": "python",
   "nbconvert_exporter": "python",
   "pygments_lexer": "ipython3",
   "version": "3.8.10"
  }
 },
 "nbformat": 4,
 "nbformat_minor": 5
}
