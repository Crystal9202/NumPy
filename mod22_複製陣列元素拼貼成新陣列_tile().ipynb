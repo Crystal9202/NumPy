{
 "cells": [
  {
   "cell_type": "markdown",
   "id": "41855635",
   "metadata": {},
   "source": [
    "## <font color=red> Module_22_複製陣列元素拼貼成新陣列_tile()</font>"
   ]
  },
  {
   "cell_type": "markdown",
   "id": "de1ea901",
   "metadata": {},
   "source": [
    "## np.tile() 函式的用法"
   ]
  },
  {
   "cell_type": "code",
   "execution_count": null,
   "id": "df95f8ec",
   "metadata": {},
   "outputs": [],
   "source": [
    "# np.tile(a, reps)\n",
    "# a : 傳入要處理的陣列\n",
    "# reps : 若傳入的是 int 數值，不管處理幾軸陣列，會對 axis = -1 的軸重複寫入要重複的次數\n",
    "#        若傳入的是 tuple，結果會因為是幾軸陣列與 tuple 的數量稍有不同，看範例"
   ]
  },
  {
   "cell_type": "markdown",
   "id": "0e7c370d",
   "metadata": {},
   "source": [
    "## 一軸陣列"
   ]
  },
  {
   "cell_type": "code",
   "execution_count": null,
   "id": "d84be95f",
   "metadata": {},
   "outputs": [],
   "source": [
    "import numpy as np\n",
    "\n",
    "a = np.array([0, 1, 2])\n",
    "a"
   ]
  },
  {
   "cell_type": "code",
   "execution_count": null,
   "id": "653befad",
   "metadata": {},
   "outputs": [],
   "source": [
    "b = np.tile(a, 2)\n",
    "b"
   ]
  },
  {
   "cell_type": "code",
   "execution_count": null,
   "id": "c7a2411b",
   "metadata": {},
   "outputs": [],
   "source": [
    "c = np.tile(a, (2, 3))\n",
    "c"
   ]
  },
  {
   "cell_type": "code",
   "execution_count": null,
   "id": "72031d60",
   "metadata": {},
   "outputs": [],
   "source": [
    "d = np.tile(a, (2, 3, 4))\n",
    "d"
   ]
  },
  {
   "cell_type": "markdown",
   "id": "b628a7bd",
   "metadata": {},
   "source": [
    "## 二軸陣列"
   ]
  },
  {
   "cell_type": "code",
   "execution_count": null,
   "id": "672626c0",
   "metadata": {},
   "outputs": [],
   "source": [
    "import numpy as np\n",
    "\n",
    "a = np.array([[0, 1, 2], [3, 4, 5]])\n",
    "a"
   ]
  },
  {
   "cell_type": "code",
   "execution_count": null,
   "id": "1811e589",
   "metadata": {},
   "outputs": [],
   "source": [
    "b = np.tile(a, 2)\n",
    "b"
   ]
  },
  {
   "cell_type": "code",
   "execution_count": null,
   "id": "9e5adb8a",
   "metadata": {},
   "outputs": [],
   "source": [
    "c = np.tile(a, (2, 3))\n",
    "c"
   ]
  },
  {
   "cell_type": "code",
   "execution_count": null,
   "id": "7bae637d",
   "metadata": {},
   "outputs": [],
   "source": [
    "d = np.tile(a, (2, 3, 4))\n",
    "d"
   ]
  },
  {
   "cell_type": "markdown",
   "id": "72a1921d",
   "metadata": {},
   "source": [
    "## 三軸陣列"
   ]
  },
  {
   "cell_type": "code",
   "execution_count": null,
   "id": "e498bdeb",
   "metadata": {},
   "outputs": [],
   "source": [
    "import numpy as np\n",
    "\n",
    "a = np.arange(12).reshape(2, 3, 2)\n",
    "a"
   ]
  },
  {
   "cell_type": "code",
   "execution_count": null,
   "id": "127730c7",
   "metadata": {},
   "outputs": [],
   "source": [
    "b = np.tile(a, 2)\n",
    "b"
   ]
  },
  {
   "cell_type": "code",
   "execution_count": null,
   "id": "83aa9808",
   "metadata": {},
   "outputs": [],
   "source": [
    "c = np.tile(a, (2, 3))\n",
    "c"
   ]
  },
  {
   "cell_type": "code",
   "execution_count": null,
   "id": "33d85968",
   "metadata": {},
   "outputs": [],
   "source": [
    "d = np.tile(a, (2, 3, 4))\n",
    "d"
   ]
  }
 ],
 "metadata": {
  "kernelspec": {
   "display_name": "Python 3",
   "language": "python",
   "name": "python3"
  },
  "language_info": {
   "codemirror_mode": {
    "name": "ipython",
    "version": 3
   },
   "file_extension": ".py",
   "mimetype": "text/x-python",
   "name": "python",
   "nbconvert_exporter": "python",
   "pygments_lexer": "ipython3",
   "version": "3.8.10"
  }
 },
 "nbformat": 4,
 "nbformat_minor": 5
}
