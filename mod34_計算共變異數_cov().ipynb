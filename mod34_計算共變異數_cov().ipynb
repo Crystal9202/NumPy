{
 "cells": [
  {
   "cell_type": "markdown",
   "id": "fa4b106f",
   "metadata": {},
   "source": [
    "## <font color=red> Module34_計算共變異數_cov()</font>"
   ]
  },
  {
   "cell_type": "markdown",
   "id": "439f2788",
   "metadata": {},
   "source": [
    "## np.cov() 函式的用法"
   ]
  },
  {
   "cell_type": "code",
   "execution_count": null,
   "id": "c716b0da",
   "metadata": {},
   "outputs": [],
   "source": [
    "# np.cov(m, y = None, rowvar = True, bias = False, ddof = None, fweights = None, aweights = None)\n",
    "# m : 傳入要比較的陣列，通常是傳入 2D 陣列。 例如傳入 2×5 的 2D 陣列，如 [[x1, x2, x3, x4, x5], [y1, y2, y3, y4, y5]]\n",
    "# y : 指定要新加入比較的資料。y 會附加到 m 裡面，以上例來說，y也必須是 5 個元素的陣列，如 [z1, z2, z3, z4, z5]\n",
    "# rowvar : 預設 True 是將每一列視為一組資料(一個變數)，若設定為 False，則改為每一行視為一組資料\n",
    "# bias : 預設值為 False，算出樣本共變異數，也就是共變異數公式是除以 n - 1，設定為 True，則改除以 n\n",
    "# ddof : 用途跟 bias 類似，但這參數會優先考慮。如果設定 None 以外的值，則會傳回除以 'n - ddof' 的值\n",
    "# fweights : 針對傳入的陣列，若某幾次的觀測值較重要，可以設定要重複這些數值多少次來計算共變異數\n",
    "# aweights : 針對傳入的陣列，若觀測值的重要性不一，可以逐一設定個觀測值的權重，加權計算後再得出共變異數"
   ]
  },
  {
   "cell_type": "code",
   "execution_count": null,
   "id": "2dca44fb",
   "metadata": {},
   "outputs": [],
   "source": [
    "import numpy as np\n",
    "\n",
    "a = np.array([\n",
    "    [10, 5, 2, 4, 9, 3, 2],\n",
    "    [10, 2, 8, 3, 7, 4, 1]\n",
    "])\n",
    "a"
   ]
  },
  {
   "cell_type": "code",
   "execution_count": null,
   "id": "251a6002",
   "metadata": {},
   "outputs": [],
   "source": [
    "np.cov(a)"
   ]
  },
  {
   "cell_type": "code",
   "execution_count": null,
   "id": "34e43544",
   "metadata": {},
   "outputs": [],
   "source": [
    "c = np.array([3, 2, 1, 5, 7, 2, 1])\n",
    "c"
   ]
  },
  {
   "cell_type": "code",
   "execution_count": null,
   "id": "7626cdd3",
   "metadata": {},
   "outputs": [],
   "source": [
    "np.cov(a, c)"
   ]
  },
  {
   "cell_type": "markdown",
   "id": "2f806458",
   "metadata": {},
   "source": [
    "---"
   ]
  },
  {
   "cell_type": "code",
   "execution_count": null,
   "id": "0e9338a3",
   "metadata": {},
   "outputs": [],
   "source": [
    "np.cov(a, bias = False)"
   ]
  },
  {
   "cell_type": "code",
   "execution_count": null,
   "id": "21a77cc5",
   "metadata": {},
   "outputs": [],
   "source": [
    "np.cov(a, bias = True)"
   ]
  },
  {
   "cell_type": "markdown",
   "id": "fb1cadce",
   "metadata": {},
   "source": [
    "---"
   ]
  },
  {
   "cell_type": "code",
   "execution_count": null,
   "id": "86ea1792",
   "metadata": {},
   "outputs": [],
   "source": [
    "np.cov(a, ddof = None)"
   ]
  },
  {
   "cell_type": "code",
   "execution_count": null,
   "id": "6f95a076",
   "metadata": {},
   "outputs": [],
   "source": [
    "np.cov(a, ddof = 1)"
   ]
  },
  {
   "cell_type": "code",
   "execution_count": null,
   "id": "45049495",
   "metadata": {},
   "outputs": [],
   "source": [
    "np.cov(a, ddof = 0)"
   ]
  },
  {
   "cell_type": "markdown",
   "id": "db0dbf1b",
   "metadata": {},
   "source": [
    "---"
   ]
  },
  {
   "cell_type": "code",
   "execution_count": null,
   "id": "60655805",
   "metadata": {},
   "outputs": [],
   "source": [
    "a"
   ]
  },
  {
   "cell_type": "code",
   "execution_count": null,
   "id": "6f5aae5c",
   "metadata": {},
   "outputs": [],
   "source": [
    "fweights = np.array([1, 2, 2, 1, 1, 1, 1]) # 將第二個跟第三個觀測值個算兩次"
   ]
  },
  {
   "cell_type": "code",
   "execution_count": null,
   "id": "09593f1a",
   "metadata": {},
   "outputs": [],
   "source": [
    "np.cov(a, fweights = fweights) # frequency weights"
   ]
  },
  {
   "cell_type": "markdown",
   "id": "5ca5f8d6",
   "metadata": {},
   "source": [
    "---"
   ]
  },
  {
   "cell_type": "code",
   "execution_count": null,
   "id": "e5a20fbb",
   "metadata": {},
   "outputs": [],
   "source": [
    "aweights = np.array([0.1, 0.2, 0.2, 0.2, 0.1, 0.1, 0.1])"
   ]
  },
  {
   "cell_type": "code",
   "execution_count": null,
   "id": "b1969b71",
   "metadata": {},
   "outputs": [],
   "source": [
    "np.cov(a, aweights = None) # array of weights"
   ]
  },
  {
   "cell_type": "code",
   "execution_count": null,
   "id": "77a54375",
   "metadata": {},
   "outputs": [],
   "source": [
    "np.cov(a, aweights = aweights)"
   ]
  }
 ],
 "metadata": {
  "kernelspec": {
   "display_name": "Python 3",
   "language": "python",
   "name": "python3"
  },
  "language_info": {
   "codemirror_mode": {
    "name": "ipython",
    "version": 3
   },
   "file_extension": ".py",
   "mimetype": "text/x-python",
   "name": "python",
   "nbconvert_exporter": "python",
   "pygments_lexer": "ipython3",
   "version": "3.8.10"
  }
 },
 "nbformat": 4,
 "nbformat_minor": 5
}
