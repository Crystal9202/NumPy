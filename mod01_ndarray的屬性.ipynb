{
 "cells": [
  {
   "cell_type": "markdown",
   "id": "acc69983",
   "metadata": {},
   "source": [
    "## <font color=red> Module_01_ndarray的屬性</font>"
   ]
  },
  {
   "cell_type": "markdown",
   "id": "1e7dfbe7",
   "metadata": {},
   "source": [
    "## ndarray 的 shape 及 ndim 屬性"
   ]
  },
  {
   "cell_type": "code",
   "execution_count": null,
   "id": "a64dac05",
   "metadata": {},
   "outputs": [],
   "source": [
    "# ndim : 顯示 ndarray 有幾維(dimension)，不過嚴謹來說是 axis(軸) 的數量\n",
    "# shape : 用 tuple 顯示 ndarray 的形狀\n",
    "\n",
    "import numpy as np\n",
    "\n",
    "a = np.array([\n",
    "    \n",
    "        [1, 2, 3],\n",
    "        [4, 5, 6]\n",
    "])\n",
    "\n",
    "print(a)\n",
    "print(a.shape) # a 陣列的形狀為 2×3 維\n",
    "print(a.ndim) # 軸數為 2，表示為 2D 陣列"
   ]
  },
  {
   "cell_type": "code",
   "execution_count": null,
   "id": "403ab78c",
   "metadata": {},
   "outputs": [],
   "source": [
    "a = np.array([1, 2, 3])\n",
    "print(a)\n",
    "print(a.shape)\n",
    "print(a.ndim)"
   ]
  },
  {
   "cell_type": "code",
   "execution_count": null,
   "id": "55e4f2e9",
   "metadata": {},
   "outputs": [],
   "source": [
    "a = np.array([\n",
    "    [\n",
    "        [1, 3]\n",
    "    ],\n",
    "    [\n",
    "        [4, 3]\n",
    "    ]\n",
    "])\n",
    "\n",
    "print(a)\n",
    "print(a.shape)\n",
    "print(a.ndim)"
   ]
  },
  {
   "cell_type": "code",
   "execution_count": null,
   "id": "57cf86f7",
   "metadata": {},
   "outputs": [],
   "source": [
    "a = np.array([\n",
    "    [0, 1],\n",
    "    [2, 3],\n",
    "    [4, 5]\n",
    "])\n",
    "\n",
    "b = np.array([a, a])\n",
    "print(b.shape)\n",
    "print(b)"
   ]
  },
  {
   "cell_type": "code",
   "execution_count": null,
   "id": "6052fc2d",
   "metadata": {},
   "outputs": [],
   "source": [
    "print(b.sum())\n",
    "print(b.sum(axis = 0)) # axis = 0 被消滅，出來是 3×2 維\n",
    "print(b.sum(axis = 1)) # axis = 1 被消滅，出來是 2×2 維\n",
    "print(b.sum(axis = 2)) # axis = 2 被消滅，出來是 2×3 維"
   ]
  },
  {
   "cell_type": "markdown",
   "id": "48a85b63",
   "metadata": {},
   "source": [
    "## ndarray 的 dtype 屬性"
   ]
  },
  {
   "cell_type": "code",
   "execution_count": null,
   "id": "9af3f730",
   "metadata": {},
   "outputs": [],
   "source": [
    "# 顯示 ndarray 中元素的資料型別\n",
    "# int(帶符號變數) : int8、int16、int32、int64\n",
    "# unint(不帶符號變數) : uint8、uint16、uint32、uint64\n",
    "# float(浮點數) : float16、float32、float64、float128\n",
    "# bool(布林值) : 顯示 True 或 False 的真偽值，資料量為 8 位元\n",
    "\n",
    "import numpy as np\n",
    "\n",
    "a = np.array([0, 1, 2])\n",
    "a.dtype # 預測設 int32，因作業系統不同可能不一樣"
   ]
  },
  {
   "cell_type": "code",
   "execution_count": null,
   "id": "52a04bdf",
   "metadata": {},
   "outputs": [],
   "source": [
    "b = np.array([0, 1, 2], dtype = 'int64')\n",
    "print(b.dtype)\n",
    "print(b)"
   ]
  },
  {
   "cell_type": "code",
   "execution_count": null,
   "id": "5c3a6c1a",
   "metadata": {},
   "outputs": [],
   "source": [
    "c = np.array([0, 1, 2], dtype = 'float')\n",
    "print(c.dtype)\n",
    "print(c)"
   ]
  },
  {
   "cell_type": "code",
   "execution_count": null,
   "id": "96716c5e",
   "metadata": {},
   "outputs": [],
   "source": [
    "d = np.array([3e50, 4e35], dtype = 'int64')"
   ]
  },
  {
   "cell_type": "code",
   "execution_count": null,
   "id": "16244b7b",
   "metadata": {},
   "outputs": [],
   "source": [
    "d = np.array([3e50, 4e35], dtype = 'float64')\n",
    "d"
   ]
  },
  {
   "cell_type": "code",
   "execution_count": null,
   "id": "850b8e70",
   "metadata": {},
   "outputs": [],
   "source": [
    "e = np.array([3.5, 4.2, -4.3], dtype = 'int')\n",
    "e"
   ]
  },
  {
   "cell_type": "code",
   "execution_count": null,
   "id": "4ae5223c",
   "metadata": {},
   "outputs": [],
   "source": [
    "f = np.array([0, 3, 0 ,-1], dtype = 'bool')\n",
    "f"
   ]
  },
  {
   "cell_type": "markdown",
   "id": "aca3ea73",
   "metadata": {},
   "source": [
    "## ndarray 的 date 屬性"
   ]
  },
  {
   "cell_type": "code",
   "execution_count": null,
   "id": "958d0939",
   "metadata": {},
   "outputs": [],
   "source": [
    "# 顯示陣列的資料從何處開始，會傳回 <memory at 0X0000020B77740D68> 這樣的記憶體位置\n",
    "\n",
    "import numpy as np\n",
    "\n",
    "a = np.array([1, 2, 3])\n",
    "print(a)\n",
    "print(type(a))\n",
    "print(a.dtype)\n",
    "print(a.data)"
   ]
  },
  {
   "cell_type": "markdown",
   "id": "1e04a406",
   "metadata": {},
   "source": [
    "## ndarray 的 T 屬性"
   ]
  },
  {
   "cell_type": "code",
   "execution_count": null,
   "id": "b501784d",
   "metadata": {},
   "outputs": [],
   "source": [
    "# 回傳轉置後的陣列，例如 shape 為 (2,3) 的二軸陣列轉置後會變成 shape 為 (3, 2) 的二軸陣列，簡單說就是行變列、列變行\n",
    "\n",
    "b = np.array([\n",
    "    [1, 2, 3],\n",
    "    [4, 5, 6]\n",
    "])\n",
    "\n",
    "print(b)\n",
    "print(b.T)"
   ]
  },
  {
   "cell_type": "code",
   "execution_count": null,
   "id": "98e407fa",
   "metadata": {},
   "outputs": [],
   "source": [
    "print(b) # .T 會回傳陣列轉置的結果，但原始資料不會改變"
   ]
  },
  {
   "cell_type": "markdown",
   "id": "ee8b1ebe",
   "metadata": {},
   "source": [
    "## ndarray 的 size 屬性"
   ]
  },
  {
   "cell_type": "code",
   "execution_count": null,
   "id": "7ba1b9fa",
   "metadata": {},
   "outputs": [],
   "source": [
    "# 顯示 ndarray 的總元素數量\n",
    "\n",
    "c = np.array([\n",
    "    [1, 2, 3],\n",
    "    [4, 5, 6]\n",
    "])\n",
    "\n",
    "c.size"
   ]
  }
 ],
 "metadata": {
  "kernelspec": {
   "display_name": "Python 3",
   "language": "python",
   "name": "python3"
  },
  "language_info": {
   "codemirror_mode": {
    "name": "ipython",
    "version": 3
   },
   "file_extension": ".py",
   "mimetype": "text/x-python",
   "name": "python",
   "nbconvert_exporter": "python",
   "pygments_lexer": "ipython3",
   "version": "3.8.10"
  }
 },
 "nbformat": 4,
 "nbformat_minor": 5
}
