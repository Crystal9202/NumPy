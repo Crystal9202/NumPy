{
 "cells": [
  {
   "cell_type": "markdown",
   "id": "0b8c276b",
   "metadata": {},
   "source": [
    "## <font color=red> Module_08_取出最大值與最小值_amax()_amin()</font>"
   ]
  },
  {
   "cell_type": "markdown",
   "id": "9db77288",
   "metadata": {},
   "source": [
    "## np.amax() 函式的用法"
   ]
  },
  {
   "cell_type": "code",
   "execution_count": null,
   "id": "135e7665",
   "metadata": {},
   "outputs": [],
   "source": [
    "# np.amax(a, axis = None, out = None, keepdims = False)\n",
    "# a : 傳入要處理的陣列\n",
    "# axis : 設定要取得哪一軸的最大值。假如都沒有設定，會傳回所有元素的最大值\n",
    "# out : 可以把傳回結果儲存在一個陣列中。預設值為 None\n",
    "# keepdims : 設定傳回結果的軸數是否保持不變。預設值為 False"
   ]
  },
  {
   "cell_type": "code",
   "execution_count": null,
   "id": "20f9dc68",
   "metadata": {},
   "outputs": [],
   "source": [
    "import numpy as np\n",
    "\n",
    "a = np.array([1, 2, 3, 2, 1])\n",
    "b = np.amax(a)\n",
    "b"
   ]
  },
  {
   "cell_type": "code",
   "execution_count": null,
   "id": "9940da01",
   "metadata": {},
   "outputs": [],
   "source": [
    "c = np.array([1, 2, 3, 4]).reshape(2, 2)\n",
    "c"
   ]
  },
  {
   "cell_type": "code",
   "execution_count": null,
   "id": "e3b26bd4",
   "metadata": {},
   "outputs": [],
   "source": [
    "d = np.amax(c, axis = 0)\n",
    "d"
   ]
  },
  {
   "cell_type": "code",
   "execution_count": null,
   "id": "335ccab0",
   "metadata": {},
   "outputs": [],
   "source": [
    "e = np.amax(c, axis = 1)\n",
    "e"
   ]
  },
  {
   "cell_type": "code",
   "execution_count": null,
   "id": "9b2f966e",
   "metadata": {},
   "outputs": [],
   "source": [
    "f = np.amax(c, keepdims = True)\n",
    "f"
   ]
  },
  {
   "cell_type": "markdown",
   "id": "9e382a0a",
   "metadata": {},
   "source": [
    "## ndarray物件.max() 物件方法的用法"
   ]
  },
  {
   "cell_type": "code",
   "execution_count": null,
   "id": "e3fbd110",
   "metadata": {},
   "outputs": [],
   "source": [
    "import numpy as np\n",
    "\n",
    "a = np.random.randint(30, size = (2, 3, 5))\n",
    "a"
   ]
  },
  {
   "cell_type": "code",
   "execution_count": null,
   "id": "4bbeae97",
   "metadata": {},
   "outputs": [],
   "source": [
    "b = a.max()\n",
    "b"
   ]
  },
  {
   "cell_type": "code",
   "execution_count": null,
   "id": "742eef68",
   "metadata": {},
   "outputs": [],
   "source": [
    "c = a.max(axis = 0) # 沿著第 0 軸比對，第 0 軸會被比對掉，會返回 (3, 5) 的陣列\n",
    "c"
   ]
  },
  {
   "cell_type": "code",
   "execution_count": null,
   "id": "e0de8527",
   "metadata": {},
   "outputs": [],
   "source": [
    "d = a.max(axis = 1) # 沿著第 1 軸比對，第 1 軸會被比對掉，會返回 (2, 5) 的陣列\n",
    "d"
   ]
  },
  {
   "cell_type": "code",
   "execution_count": null,
   "id": "f552db13",
   "metadata": {},
   "outputs": [],
   "source": [
    "e = a.max(axis = 2) # 沿著第 2 軸比對，第 2 軸會被比對掉，會返回 (2, 3) 的陣列\n",
    "e"
   ]
  },
  {
   "cell_type": "code",
   "execution_count": null,
   "id": "8742065b",
   "metadata": {},
   "outputs": [],
   "source": [
    "f = a.max(axis = 0, keepdims = True) # 沿著第 0 軸比對，會返回 (1, 3, 5) 的陣列\n",
    "f"
   ]
  },
  {
   "cell_type": "code",
   "execution_count": null,
   "id": "e8fb6210",
   "metadata": {},
   "outputs": [],
   "source": [
    "g = a.max(axis = 1, keepdims = True) # 沿著第 1 軸比對，會返回 (2, 1, 5) 的陣列\n",
    "g"
   ]
  },
  {
   "cell_type": "code",
   "execution_count": null,
   "id": "88b3d401",
   "metadata": {},
   "outputs": [],
   "source": [
    "h = a.max(axis = 2, keepdims = True) # 沿著第 2 軸比對，會返回 (2, 3, 1) 的陣列\n",
    "h"
   ]
  },
  {
   "cell_type": "markdown",
   "id": "672be2e6",
   "metadata": {},
   "source": [
    "## np.amin() 函式的用法"
   ]
  },
  {
   "cell_type": "code",
   "execution_count": null,
   "id": "f712e006",
   "metadata": {},
   "outputs": [],
   "source": [
    "# np.amin(a, axis = None, out = None, keepdims = False)\n",
    "# a : 傳入要處理的陣列\n",
    "# axis : 設定要取得哪一軸的最小值。假如都沒有設定，會傳回所有元素的最小值\n",
    "# out : 可以把傳回結果儲存在一個陣列中。預設值為 None\n",
    "# keepdims : 設定傳回結果的軸數是否保持不變。預設值為 False"
   ]
  },
  {
   "cell_type": "code",
   "execution_count": null,
   "id": "6753425d",
   "metadata": {},
   "outputs": [],
   "source": [
    "import numpy as np\n",
    "\n",
    "a = np.array([\n",
    "    [1.2, 1.3, 0.1, 1.5],\n",
    "    [2.1, 0.2, 0.3, 2.0],\n",
    "    [0.1, 0.5, 0.5, 2.3]\n",
    "])\n",
    "\n",
    "a"
   ]
  },
  {
   "cell_type": "code",
   "execution_count": null,
   "id": "05982c69",
   "metadata": {},
   "outputs": [],
   "source": [
    "b = np.amin(a)\n",
    "b"
   ]
  },
  {
   "cell_type": "code",
   "execution_count": null,
   "id": "3f516474",
   "metadata": {},
   "outputs": [],
   "source": [
    "c = np.amin(a, axis = 0)  # 沿著第 0 軸比對，第 0 軸會被比對掉，會返回 (4, ) 的陣列\n",
    "c"
   ]
  },
  {
   "cell_type": "code",
   "execution_count": null,
   "id": "3dfbd630",
   "metadata": {},
   "outputs": [],
   "source": [
    "d = np.amin(a, axis = 1)  # 沿著第 1 軸比對，第 1 軸會被比對掉，會返回 (3, ) 的陣列\n",
    "d"
   ]
  },
  {
   "cell_type": "code",
   "execution_count": null,
   "id": "78d7e5b7",
   "metadata": {},
   "outputs": [],
   "source": [
    "e = np.amin(a, axis = 0, keepdims = True)  # 沿著第 0 軸比對，會返回 (1, 4) 的陣列\n",
    "e"
   ]
  },
  {
   "cell_type": "code",
   "execution_count": null,
   "id": "109329ee",
   "metadata": {},
   "outputs": [],
   "source": [
    "f = np.amin(a, axis = 1, keepdims = True)  # 沿著第 1 軸比對，會返回 (3, 1) 的陣列\n",
    "f"
   ]
  },
  {
   "cell_type": "markdown",
   "id": "bbc689b7",
   "metadata": {},
   "source": [
    "## ndarray物件.min() 物件方法的用法"
   ]
  },
  {
   "cell_type": "code",
   "execution_count": null,
   "id": "e183b39b",
   "metadata": {},
   "outputs": [],
   "source": [
    "# 與上面一模一樣，只是換求最小值，略"
   ]
  }
 ],
 "metadata": {
  "kernelspec": {
   "display_name": "Python 3",
   "language": "python",
   "name": "python3"
  },
  "language_info": {
   "codemirror_mode": {
    "name": "ipython",
    "version": 3
   },
   "file_extension": ".py",
   "mimetype": "text/x-python",
   "name": "python",
   "nbconvert_exporter": "python",
   "pygments_lexer": "ipython3",
   "version": "3.8.10"
  }
 },
 "nbformat": 4,
 "nbformat_minor": 5
}
