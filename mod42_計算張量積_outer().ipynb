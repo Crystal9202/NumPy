{
 "cells": [
  {
   "cell_type": "markdown",
   "id": "189873c6",
   "metadata": {},
   "source": [
    "## <font color=red> Module42_計算張量積_outer()</font>"
   ]
  },
  {
   "cell_type": "markdown",
   "id": "667aff77",
   "metadata": {},
   "source": [
    "## np.outer() 函式的用法"
   ]
  },
  {
   "cell_type": "code",
   "execution_count": null,
   "id": "afa2194c",
   "metadata": {},
   "outputs": [],
   "source": [
    "# np.outer(a, b, out = None)\n",
    "# a : 傳入要處理的陣列，通常是一軸陣列，運算過程中陣列元素會沿著列方向來排列。若傳入二軸以上的陣列，一律會展平成一軸陣列來運算\n",
    "# b : 傳入要處理的陣列，通常是一軸陣列，運算過程中陣列元素會沿著行方向來排列。若傳入二軸以上的陣列，一律會展平成一軸陣列來運算\n",
    "# out : 可以把傳回結果儲存在一個陣列中。預設值為 None"
   ]
  },
  {
   "cell_type": "code",
   "execution_count": null,
   "id": "9fb9f1d2",
   "metadata": {},
   "outputs": [],
   "source": [
    "# 張量積(Tensor product) 也稱為外積(Outer product)"
   ]
  },
  {
   "cell_type": "code",
   "execution_count": null,
   "id": "0448a84f",
   "metadata": {},
   "outputs": [],
   "source": [
    "import numpy as np\n",
    "\n",
    "a = np.array([1, 2, 3, 2, 1])\n",
    "b = np.array([0, 2, 4, 6, 8, 1])\n",
    "print(a) # (5, )\n",
    "print(b) # (6, )"
   ]
  },
  {
   "cell_type": "code",
   "execution_count": null,
   "id": "bf28ec97",
   "metadata": {},
   "outputs": [],
   "source": [
    "np.outer(a, b) # (5, 6)"
   ]
  },
  {
   "cell_type": "code",
   "execution_count": null,
   "id": "183f985a",
   "metadata": {},
   "outputs": [],
   "source": [
    "b = b .reshape(2, -1)\n",
    "c = np.random.randint(0, 5, size = (2, 4))\n",
    "print(b) # (2, 3)\n",
    "print(c) # (2, 4)"
   ]
  },
  {
   "cell_type": "code",
   "execution_count": null,
   "id": "abb17ec1",
   "metadata": {},
   "outputs": [],
   "source": [
    "np.outer(b, c) "
   ]
  },
  {
   "cell_type": "code",
   "execution_count": null,
   "id": "16a1bb52",
   "metadata": {},
   "outputs": [],
   "source": [
    "np.outer(b.ravel(), c.ravel())"
   ]
  }
 ],
 "metadata": {
  "kernelspec": {
   "display_name": "Python 3",
   "language": "python",
   "name": "python3"
  },
  "language_info": {
   "codemirror_mode": {
    "name": "ipython",
    "version": 3
   },
   "file_extension": ".py",
   "mimetype": "text/x-python",
   "name": "python",
   "nbconvert_exporter": "python",
   "pygments_lexer": "ipython3",
   "version": "3.8.10"
  }
 },
 "nbformat": 4,
 "nbformat_minor": 5
}
