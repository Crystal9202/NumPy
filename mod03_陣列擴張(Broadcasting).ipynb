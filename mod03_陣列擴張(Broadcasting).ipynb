{
 "cells": [
  {
   "cell_type": "markdown",
   "id": "606f9a87",
   "metadata": {},
   "source": [
    "## <font color=red> Module_03_陣列擴張(Broadcasting)</font>"
   ]
  },
  {
   "cell_type": "code",
   "execution_count": null,
   "id": "27f9c2ae",
   "metadata": {},
   "outputs": [],
   "source": [
    "# 許多函式會做元素間(element wise)的運算，意思是對陣列中的每個數值進行各自獨立的運算， 列如 2 個陣列做元素的加法運算。\n",
    "# 然而加法必須兩個軸數和維度相同(即相同shape)的陣列才能一一對應的相加，當兩個形狀不同的陣列相加會有什麼結果?\n",
    "# 會啟動擴張功能來運算"
   ]
  },
  {
   "cell_type": "markdown",
   "id": "aa0d168a",
   "metadata": {},
   "source": [
    "## 擴張的規則1 - 增軸 "
   ]
  },
  {
   "cell_type": "code",
   "execution_count": null,
   "id": "31225286",
   "metadata": {},
   "outputs": [],
   "source": [
    "# 如果兩個陣列的軸數(ndim)不相同，軸數較少的陣列會加入新的軸，具體做法就是在 shape 的左邊補 1"
   ]
  },
  {
   "cell_type": "code",
   "execution_count": null,
   "id": "e118c9d8",
   "metadata": {},
   "outputs": [],
   "source": [
    "import numpy as np\n",
    "\n",
    "a = np.array([[1, 2]])\n",
    "print(a.shape)\n",
    "b = np.array([3, 4])\n",
    "print(b.shape)"
   ]
  },
  {
   "cell_type": "code",
   "execution_count": null,
   "id": "ab2b15c2",
   "metadata": {},
   "outputs": [],
   "source": [
    "a + b # 原本的 b 陣列 shape 從 (2, ) 變成 (1, 2)。原本的 b陣列 [3, 4] 擴張成 [[3, 4]] "
   ]
  },
  {
   "cell_type": "markdown",
   "id": "bea4d21c",
   "metadata": {},
   "source": [
    "## 擴張的規則2 - 增維 "
   ]
  },
  {
   "cell_type": "code",
   "execution_count": null,
   "id": "d40515af",
   "metadata": {},
   "outputs": [],
   "source": [
    "# 如果兩個陣列的軸數(ndim)相同，則會一一比對各軸的維度，若雙方有一軸的維度不同，那麼維度 1 的那一軸會擴增維度\n",
    "# 與另一軸的維度匹配。萬一任一軸的維度都不是 1 維，則無法進行擴張，回傳回錯誤訊息\n",
    "# 例如 (1, 1, 3) 與 (4, 2, 1) 兩個不同形狀的陣列，由於各軸都有 1 維的維度，所以兩者都變成 (4, 2, 3) 的擴張運算"
   ]
  },
  {
   "cell_type": "code",
   "execution_count": null,
   "id": "4dd56623",
   "metadata": {},
   "outputs": [],
   "source": [
    "import numpy as np\n",
    "\n",
    "a = np.array([1, 2])\n",
    "b = np.array([[3, 4], [2, 3]])\n",
    "\n",
    "print(a)\n",
    "print(a.shape)\n",
    "print(b)\n",
    "print(b.shape)"
   ]
  },
  {
   "cell_type": "code",
   "execution_count": null,
   "id": "a6e34391",
   "metadata": {},
   "outputs": [],
   "source": [
    "# 根據規則 1，為了統一軸數，a 的 shape 從 (2, ) 變成 (1, 2)。內容從 [1, 2] 擴張成 [[1, 2]]\n",
    "# 根據規則 2，擴增維度，形狀再從 (1, 2) 變成 (2, 2)，增加元素 a 陣列的方式是將既有的元素重複寫入\n",
    "# 即 [[1, 2], [ , ]] 變成 [[1, 2], [ 1, 2]]\n",
    "\n",
    "print(a + b)"
   ]
  },
  {
   "cell_type": "code",
   "execution_count": null,
   "id": "a9640697",
   "metadata": {},
   "outputs": [],
   "source": [
    "c = np.arange(4)\n",
    "d = np.ones(5)\n",
    "print(c)\n",
    "print(c.shape)\n",
    "print(d)\n",
    "print(d.shape)"
   ]
  },
  {
   "cell_type": "code",
   "execution_count": null,
   "id": "acfdf6b0",
   "metadata": {},
   "outputs": [],
   "source": [
    "c + d "
   ]
  },
  {
   "cell_type": "code",
   "execution_count": null,
   "id": "3328c837",
   "metadata": {},
   "outputs": [],
   "source": [
    "e = np.arange(4).reshape(4,1)\n",
    "f = np.ones(5)\n",
    "print(e)\n",
    "print(e.shape)\n",
    "print(f)\n",
    "print(f.shape)"
   ]
  },
  {
   "cell_type": "code",
   "execution_count": null,
   "id": "b9237333",
   "metadata": {},
   "outputs": [],
   "source": [
    "e + f # 先決定形狀，再決定值"
   ]
  },
  {
   "cell_type": "code",
   "execution_count": null,
   "id": "b2bcef4d",
   "metadata": {},
   "outputs": [],
   "source": [
    "g = np.ones((3,4))\n",
    "h = np.arange(4)\n",
    "print(g)\n",
    "print(g.shape)\n",
    "print(h)\n",
    "print(h.shape)"
   ]
  },
  {
   "cell_type": "code",
   "execution_count": null,
   "id": "92f01394",
   "metadata": {},
   "outputs": [],
   "source": [
    "print(g + h)\n",
    "print(g - h)\n",
    "print(g * h)"
   ]
  },
  {
   "cell_type": "code",
   "execution_count": null,
   "id": "f2d271ce",
   "metadata": {},
   "outputs": [],
   "source": [
    "i = np.arange(4).reshape(4,1) \n",
    "j = np.arange(4).reshape(1,4)\n",
    "print(i)\n",
    "print(i.shape)\n",
    "print(j)\n",
    "print(j.shape)"
   ]
  },
  {
   "cell_type": "code",
   "execution_count": null,
   "id": "f930bee3",
   "metadata": {},
   "outputs": [],
   "source": [
    "i + j "
   ]
  },
  {
   "cell_type": "markdown",
   "id": "dfd6c9d8",
   "metadata": {},
   "source": [
    "## 什麼情況下無法做擴張運算"
   ]
  },
  {
   "cell_type": "code",
   "execution_count": null,
   "id": "a27cb3a4",
   "metadata": {},
   "outputs": [],
   "source": [
    "# 若有任一軸的維度不同，且兩者都不是 1 維，就會傳回錯誤訊息無法擴張\n",
    "# 為什麼維度為 1 的軸才能擴張 ? 因為維度擴張 = 增加元素。\n",
    "# 也就是拿唯一的元素重複寫入\n",
    "# 若是元素不只一個，要挑哪個來重複寫入就亂了套了!"
   ]
  },
  {
   "cell_type": "code",
   "execution_count": null,
   "id": "fde9d83c",
   "metadata": {},
   "outputs": [],
   "source": [
    "import numpy as np\n",
    "\n",
    "k = np.arange(3)\n",
    "l = np.arange(6).reshape(3, 2)\n",
    "\n",
    "print(k)\n",
    "print(k.shape)\n",
    "print(l)\n",
    "print(l.shape)"
   ]
  },
  {
   "cell_type": "code",
   "execution_count": null,
   "id": "94dffbfa",
   "metadata": {},
   "outputs": [],
   "source": [
    "k + l "
   ]
  },
  {
   "cell_type": "code",
   "execution_count": null,
   "id": "bf112e25",
   "metadata": {},
   "outputs": [],
   "source": [
    "m = np.arange(4).reshape(2, 2)\n",
    "n = np.arange(6).reshape(3, 2)\n",
    "\n",
    "print(m)\n",
    "print(m.shape)\n",
    "print(n)\n",
    "print(n.shape)"
   ]
  },
  {
   "cell_type": "code",
   "execution_count": null,
   "id": "170257b4",
   "metadata": {},
   "outputs": [],
   "source": [
    "m + n "
   ]
  }
 ],
 "metadata": {
  "kernelspec": {
   "display_name": "Python 3",
   "language": "python",
   "name": "python3"
  },
  "language_info": {
   "codemirror_mode": {
    "name": "ipython",
    "version": 3
   },
   "file_extension": ".py",
   "mimetype": "text/x-python",
   "name": "python",
   "nbconvert_exporter": "python",
   "pygments_lexer": "ipython3",
   "version": "3.8.10"
  }
 },
 "nbformat": 4,
 "nbformat_minor": 5
}
