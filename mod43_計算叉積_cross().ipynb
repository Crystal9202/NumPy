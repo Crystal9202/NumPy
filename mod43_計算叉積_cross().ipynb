{
 "cells": [
  {
   "cell_type": "markdown",
   "id": "6ea9eb12",
   "metadata": {},
   "source": [
    "## <font color=red> Module43_計算叉積_cross()</font>"
   ]
  },
  {
   "cell_type": "markdown",
   "id": "e5d5885d",
   "metadata": {},
   "source": [
    "## np.cross() 函式的用法"
   ]
  },
  {
   "cell_type": "code",
   "execution_count": null,
   "id": "3bb0f904",
   "metadata": {},
   "outputs": [],
   "source": [
    "# np.cross(a, b, axisa = -1, axisb = -1, axisc = -1, axis = None)\n",
    "# a : 傳入第一個(乘號左邊)的陣列，通常是傳入 3 個元素的一軸陣列\n",
    "# b : 傳入第二個(乘號右邊)的陣列，通常是傳入 3 個元素的一軸陣列\n",
    "# axisa : 指定以哪個軸的方向定義第 1 個向量\n",
    "# axisb : 指定以哪個軸的方向定義第 2 個向量\n",
    "# axisc : 指定以哪個軸的方向來儲存結果\n",
    "# axis : 同樣規範如何定義向量，如何儲存結果。如果有指定這個參數，將會蓋掉 axisa、axisb、axisc 等 3個參數的設定值"
   ]
  },
  {
   "cell_type": "code",
   "execution_count": null,
   "id": "e4b9aa26",
   "metadata": {},
   "outputs": [],
   "source": [
    "# 數學上只有 3 維空間才能計算叉積\n",
    "# 傳入的 a、b兩個一軸陣列只能是 2 維或 3 維，如果是 2 維，會在陣列的最後補 0\n",
    "# 叉積 (cross) 又常叫做外積(Exterior product)，主要在求與兩個向量構成平面的垂直法向量"
   ]
  },
  {
   "cell_type": "code",
   "execution_count": null,
   "id": "31913403",
   "metadata": {},
   "outputs": [],
   "source": [
    "import numpy as np\n",
    "\n",
    "a = np.array([1, 2, 3])\n",
    "b = np.array([5, 4, 0])\n",
    "print(a)\n",
    "print(b)"
   ]
  },
  {
   "cell_type": "code",
   "execution_count": null,
   "id": "f993464e",
   "metadata": {},
   "outputs": [],
   "source": [
    "np.cross(a, b)"
   ]
  },
  {
   "cell_type": "code",
   "execution_count": null,
   "id": "2cda0fde",
   "metadata": {},
   "outputs": [],
   "source": [
    "\n",
    "c = np.array([-1, 1, 3])\n",
    "d = np.array([2, 3, 3])\n",
    "print(c)\n",
    "print(d)"
   ]
  },
  {
   "cell_type": "code",
   "execution_count": null,
   "id": "8e2a6c34",
   "metadata": {},
   "outputs": [],
   "source": [
    "np.cross(c, d)"
   ]
  },
  {
   "cell_type": "code",
   "execution_count": null,
   "id": "a1602109",
   "metadata": {},
   "outputs": [],
   "source": [
    "b_2 = np.array([5, 4])\n",
    "print(b_2)"
   ]
  },
  {
   "cell_type": "code",
   "execution_count": null,
   "id": "fc0f6fab",
   "metadata": {},
   "outputs": [],
   "source": [
    "np.cross(a, b_2)"
   ]
  },
  {
   "cell_type": "code",
   "execution_count": null,
   "id": "5b2de6b6",
   "metadata": {},
   "outputs": [],
   "source": [
    "ac = np.vstack((a, c))\n",
    "bd = np.vstack((b, d))\n",
    "print(ac)\n",
    "print(bd)"
   ]
  },
  {
   "cell_type": "code",
   "execution_count": null,
   "id": "fcbcbf2a",
   "metadata": {},
   "outputs": [],
   "source": [
    "np.cross(ac, bd)"
   ]
  },
  {
   "cell_type": "markdown",
   "id": "952e37a2",
   "metadata": {},
   "source": [
    "---"
   ]
  },
  {
   "cell_type": "code",
   "execution_count": null,
   "id": "93e301bf",
   "metadata": {},
   "outputs": [],
   "source": [
    "ac_2 = ac.transpose()\n",
    "ac_2"
   ]
  },
  {
   "cell_type": "code",
   "execution_count": null,
   "id": "9eeac6a1",
   "metadata": {},
   "outputs": [],
   "source": [
    "np.cross(ac_2, bd)"
   ]
  },
  {
   "cell_type": "code",
   "execution_count": null,
   "id": "8919702d",
   "metadata": {},
   "outputs": [],
   "source": [
    "np.cross(ac_2, bd, axisa = 0)"
   ]
  },
  {
   "cell_type": "code",
   "execution_count": null,
   "id": "59e61a78",
   "metadata": {},
   "outputs": [],
   "source": [
    "np.cross(ac_2, bd, axisa = 1)"
   ]
  },
  {
   "cell_type": "code",
   "execution_count": null,
   "id": "9aed85b1",
   "metadata": {},
   "outputs": [],
   "source": [
    "bd_2 = bd.transpose()\n",
    "bd_2"
   ]
  },
  {
   "cell_type": "code",
   "execution_count": null,
   "id": "46a04677",
   "metadata": {},
   "outputs": [],
   "source": [
    "np.cross(ac, bd_2, axisb = 0 )"
   ]
  },
  {
   "cell_type": "markdown",
   "id": "d995ac67",
   "metadata": {},
   "source": [
    "---"
   ]
  },
  {
   "cell_type": "code",
   "execution_count": null,
   "id": "d513bb27",
   "metadata": {},
   "outputs": [],
   "source": [
    "np.cross(ac, bd, axisc = 1)"
   ]
  },
  {
   "cell_type": "code",
   "execution_count": null,
   "id": "f127252c",
   "metadata": {},
   "outputs": [],
   "source": [
    "np.cross(ac, bd, axisc = 0)"
   ]
  },
  {
   "cell_type": "markdown",
   "id": "4f7b6771",
   "metadata": {},
   "source": [
    "---"
   ]
  },
  {
   "cell_type": "code",
   "execution_count": null,
   "id": "a0e2b757",
   "metadata": {},
   "outputs": [],
   "source": [
    "np.cross(ac_2, bd_2, axis = 0)"
   ]
  },
  {
   "cell_type": "markdown",
   "id": "5040a61c",
   "metadata": {},
   "source": [
    "---"
   ]
  },
  {
   "cell_type": "code",
   "execution_count": null,
   "id": "0c2d58e5",
   "metadata": {},
   "outputs": [],
   "source": [
    "np.cross(np.array([1, 1, 1, 1]), np.array([1, 1, 1, 1]))"
   ]
  },
  {
   "cell_type": "code",
   "execution_count": null,
   "id": "4fb4aa1e",
   "metadata": {},
   "outputs": [],
   "source": [
    "np.cross(np.array([1]), np.array([1]))"
   ]
  }
 ],
 "metadata": {
  "kernelspec": {
   "display_name": "Python 3",
   "language": "python",
   "name": "python3"
  },
  "language_info": {
   "codemirror_mode": {
    "name": "ipython",
    "version": 3
   },
   "file_extension": ".py",
   "mimetype": "text/x-python",
   "name": "python",
   "nbconvert_exporter": "python",
   "pygments_lexer": "ipython3",
   "version": "3.8.10"
  }
 },
 "nbformat": 4,
 "nbformat_minor": 5
}
