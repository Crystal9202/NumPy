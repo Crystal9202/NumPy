{
 "cells": [
  {
   "cell_type": "markdown",
   "id": "d090c12c",
   "metadata": {},
   "source": [
    "## <font color=red> Module_28_NumPy的數學函式</font>"
   ]
  },
  {
   "cell_type": "markdown",
   "id": "db65bc72",
   "metadata": {},
   "source": [
    "## 加法: 「+」符號與 np.add()"
   ]
  },
  {
   "cell_type": "code",
   "execution_count": null,
   "id": "4396d3dc",
   "metadata": {},
   "outputs": [],
   "source": [
    "# np.add(x1, x2)\n",
    "# 把兩個陣列中各位置的元素 (element wise) 的加起來\n",
    "# 如果兩個形狀不一樣，會推播，沒辦法推播，就會報錯"
   ]
  },
  {
   "cell_type": "code",
   "execution_count": null,
   "id": "3486e0d3",
   "metadata": {},
   "outputs": [],
   "source": [
    "import numpy as np\n",
    "\n",
    "a = np.array([0, 1, 2, 3, 4])\n",
    "b = np.array([2, 4, 6, 8, 10])\n",
    "print(a)\n",
    "print(b)"
   ]
  },
  {
   "cell_type": "code",
   "execution_count": null,
   "id": "3de94a2f",
   "metadata": {},
   "outputs": [],
   "source": [
    "a + b "
   ]
  },
  {
   "cell_type": "code",
   "execution_count": null,
   "id": "5208e560",
   "metadata": {},
   "outputs": [],
   "source": [
    "a + 4"
   ]
  },
  {
   "cell_type": "code",
   "execution_count": null,
   "id": "b9fffcfb",
   "metadata": {},
   "outputs": [],
   "source": [
    "np.add(a, b)"
   ]
  },
  {
   "cell_type": "code",
   "execution_count": null,
   "id": "d12edc31",
   "metadata": {},
   "outputs": [],
   "source": [
    "np.add(a, 4)"
   ]
  },
  {
   "cell_type": "markdown",
   "id": "d09dbfbf",
   "metadata": {},
   "source": [
    "## 減法: 「-」符號與 np.substract()"
   ]
  },
  {
   "cell_type": "code",
   "execution_count": null,
   "id": "cdbcfb23",
   "metadata": {},
   "outputs": [],
   "source": [
    "# np.substract(x1, x2)\n",
    "# 把兩個陣列中各位置的元素 (element wise) 的相減\n",
    "# 如果兩個形狀不一樣，會推播，沒辦法推播，就會報錯"
   ]
  },
  {
   "cell_type": "code",
   "execution_count": null,
   "id": "a064ce3b",
   "metadata": {},
   "outputs": [],
   "source": [
    "import numpy as np\n",
    "\n",
    "a = np.array([0, 1, 2, 3, 4])\n",
    "b = np.array([2, 4, 6, 8, 10])\n",
    "print(a)\n",
    "print(b)"
   ]
  },
  {
   "cell_type": "code",
   "execution_count": null,
   "id": "6dd57879",
   "metadata": {},
   "outputs": [],
   "source": [
    "a - b"
   ]
  },
  {
   "cell_type": "code",
   "execution_count": null,
   "id": "ea6ccce9",
   "metadata": {},
   "outputs": [],
   "source": [
    "b - a "
   ]
  },
  {
   "cell_type": "code",
   "execution_count": null,
   "id": "dd73b488",
   "metadata": {},
   "outputs": [],
   "source": [
    "a - 4"
   ]
  },
  {
   "cell_type": "code",
   "execution_count": null,
   "id": "3a2d92c7",
   "metadata": {},
   "outputs": [],
   "source": [
    "np.subtract(a, b)"
   ]
  },
  {
   "cell_type": "code",
   "execution_count": null,
   "id": "ef66b304",
   "metadata": {},
   "outputs": [],
   "source": [
    "np.subtract(a, 4)"
   ]
  },
  {
   "cell_type": "markdown",
   "id": "6a9ae37b",
   "metadata": {},
   "source": [
    "## 乘法: 「*」符號與 np.multiply()"
   ]
  },
  {
   "cell_type": "code",
   "execution_count": null,
   "id": "13f3944e",
   "metadata": {},
   "outputs": [],
   "source": [
    "# np.multiply(x1, x2)\n",
    "# 把兩個陣列中各位置的元素 (element wise) 的乘起來\n",
    "# 如果兩個形狀不一樣，會推播，沒辦法推播，就會報錯"
   ]
  },
  {
   "cell_type": "code",
   "execution_count": null,
   "id": "88802904",
   "metadata": {},
   "outputs": [],
   "source": [
    "import numpy as np\n",
    "\n",
    "a = np.array([0, 1, 2, 3, 4])\n",
    "b = np.array([2, 4, 6, 8, 10])\n",
    "print(a)\n",
    "print(b)"
   ]
  },
  {
   "cell_type": "code",
   "execution_count": null,
   "id": "c3965a39",
   "metadata": {},
   "outputs": [],
   "source": [
    "a*b"
   ]
  },
  {
   "cell_type": "code",
   "execution_count": null,
   "id": "d2590dfc",
   "metadata": {},
   "outputs": [],
   "source": [
    "np.multiply(a, b)"
   ]
  },
  {
   "cell_type": "code",
   "execution_count": null,
   "id": "de1e163c",
   "metadata": {},
   "outputs": [],
   "source": [
    "a*2"
   ]
  },
  {
   "cell_type": "code",
   "execution_count": null,
   "id": "18badca3",
   "metadata": {},
   "outputs": [],
   "source": [
    "np.multiply(a, 2)"
   ]
  },
  {
   "cell_type": "markdown",
   "id": "dacc0b93",
   "metadata": {},
   "source": [
    "## 除法: 「/」符號與 np.divide()"
   ]
  },
  {
   "cell_type": "code",
   "execution_count": null,
   "id": "f501dc4d",
   "metadata": {},
   "outputs": [],
   "source": [
    "# np.divide(x1, x2)\n",
    "# 把兩個陣列中各位置的元素 (element wise) 的相除\n",
    "# 如果兩個形狀不一樣，會推播，沒辦法推播，就會報錯"
   ]
  },
  {
   "cell_type": "code",
   "execution_count": null,
   "id": "5827ced5",
   "metadata": {},
   "outputs": [],
   "source": [
    "import numpy as np\n",
    "\n",
    "a = np.array([0, 1, 2, 3, 4])\n",
    "b = np.array([2, 4, 6, 8, 10])\n",
    "print(a)\n",
    "print(b)"
   ]
  },
  {
   "cell_type": "code",
   "execution_count": null,
   "id": "9b62d4de",
   "metadata": {},
   "outputs": [],
   "source": [
    "a/b"
   ]
  },
  {
   "cell_type": "code",
   "execution_count": null,
   "id": "14b47937",
   "metadata": {},
   "outputs": [],
   "source": [
    "np.divide(a, b)"
   ]
  },
  {
   "cell_type": "code",
   "execution_count": null,
   "id": "e10dc98c",
   "metadata": {},
   "outputs": [],
   "source": [
    "b/a # 注意分母為 0"
   ]
  },
  {
   "cell_type": "code",
   "execution_count": null,
   "id": "9e7c9747",
   "metadata": {},
   "outputs": [],
   "source": [
    "np.divide(b, a)"
   ]
  },
  {
   "cell_type": "code",
   "execution_count": null,
   "id": "15129d46",
   "metadata": {},
   "outputs": [],
   "source": [
    "b/2"
   ]
  },
  {
   "cell_type": "code",
   "execution_count": null,
   "id": "91df8cdd",
   "metadata": {},
   "outputs": [],
   "source": [
    "np.divide(b, 2)"
   ]
  },
  {
   "cell_type": "markdown",
   "id": "73743861",
   "metadata": {},
   "source": [
    "## 商: 「//」符號"
   ]
  },
  {
   "cell_type": "code",
   "execution_count": null,
   "id": "5afb276d",
   "metadata": {},
   "outputs": [],
   "source": [
    "#  x1//x2\n",
    "# 把兩個陣列中各位置的元素 (element wise) 的相除求商\n",
    "# 如果兩個形狀不一樣，會推播，沒辦法推播，就會報錯"
   ]
  },
  {
   "cell_type": "code",
   "execution_count": null,
   "id": "5056b2f2",
   "metadata": {},
   "outputs": [],
   "source": [
    "import numpy as np \n",
    "\n",
    "a = np.array([1, 1, 2, 3, 4])\n",
    "b = np.array([2, 4, 6, 8, 10])\n",
    "print(a)\n",
    "print(b)"
   ]
  },
  {
   "cell_type": "code",
   "execution_count": null,
   "id": "33b57341",
   "metadata": {},
   "outputs": [],
   "source": [
    "a//b"
   ]
  },
  {
   "cell_type": "code",
   "execution_count": null,
   "id": "efa39327",
   "metadata": {},
   "outputs": [],
   "source": [
    "b//a"
   ]
  },
  {
   "cell_type": "code",
   "execution_count": null,
   "id": "2ab90e3c",
   "metadata": {},
   "outputs": [],
   "source": [
    "b//3"
   ]
  },
  {
   "cell_type": "markdown",
   "id": "c9983aee",
   "metadata": {},
   "source": [
    "## 餘數: 「%」符號與 np.mod()"
   ]
  },
  {
   "cell_type": "code",
   "execution_count": null,
   "id": "e6a80116",
   "metadata": {},
   "outputs": [],
   "source": [
    "#  np.mod(x1, x2)\n",
    "# 把兩個陣列中各位置的元素 (element wise) 的相除求餘數\n",
    "# 如果兩個形狀不一樣，會推播，沒辦法推播，就會報錯"
   ]
  },
  {
   "cell_type": "code",
   "execution_count": null,
   "id": "de461a6b",
   "metadata": {},
   "outputs": [],
   "source": [
    "import numpy as np \n",
    "\n",
    "a = np.array([1, 1, 2, 3, 4])\n",
    "b = np.array([2, 4, 6, 8, 10])\n",
    "print(a)\n",
    "print(b)"
   ]
  },
  {
   "cell_type": "code",
   "execution_count": null,
   "id": "1974a0c3",
   "metadata": {},
   "outputs": [],
   "source": [
    "b%3"
   ]
  },
  {
   "cell_type": "code",
   "execution_count": null,
   "id": "bd9b13dc",
   "metadata": {},
   "outputs": [],
   "source": [
    "b%a"
   ]
  },
  {
   "cell_type": "code",
   "execution_count": null,
   "id": "6558946a",
   "metadata": {},
   "outputs": [],
   "source": [
    "np.mod(b, a)"
   ]
  },
  {
   "cell_type": "markdown",
   "id": "d87858c0",
   "metadata": {},
   "source": [
    "## 次方: 「**」符號與 np.power()"
   ]
  },
  {
   "cell_type": "code",
   "execution_count": null,
   "id": "f75f58cf",
   "metadata": {},
   "outputs": [],
   "source": [
    "# np.power(x, t) 是在計算每個元素的 t 次方"
   ]
  },
  {
   "cell_type": "code",
   "execution_count": null,
   "id": "8f7e18c4",
   "metadata": {},
   "outputs": [],
   "source": [
    "import numpy as np\n",
    "\n",
    "np.power(2, 3)"
   ]
  },
  {
   "cell_type": "code",
   "execution_count": null,
   "id": "04bf1be7",
   "metadata": {},
   "outputs": [],
   "source": [
    "2**3"
   ]
  },
  {
   "cell_type": "code",
   "execution_count": null,
   "id": "e63539c4",
   "metadata": {},
   "outputs": [],
   "source": [
    "a = np.arange(1, 11, 1)\n",
    "a"
   ]
  },
  {
   "cell_type": "code",
   "execution_count": null,
   "id": "c66428c2",
   "metadata": {},
   "outputs": [],
   "source": [
    "b = np.array([1, 2, 1, 2, 1, 2, 1, 2, 1, 2])\n",
    "b"
   ]
  },
  {
   "cell_type": "code",
   "execution_count": null,
   "id": "8c6066bb",
   "metadata": {},
   "outputs": [],
   "source": [
    "np.power(a, b)"
   ]
  },
  {
   "cell_type": "code",
   "execution_count": null,
   "id": "8fc03795",
   "metadata": {},
   "outputs": [],
   "source": [
    "a**b"
   ]
  },
  {
   "cell_type": "markdown",
   "id": "110f6791",
   "metadata": {},
   "source": [
    "## 平方根: np.sqrt()"
   ]
  },
  {
   "cell_type": "code",
   "execution_count": null,
   "id": "55c8b5bd",
   "metadata": {},
   "outputs": [],
   "source": [
    "# np.sqrt(x) 是在計算每個元素的平方根"
   ]
  },
  {
   "cell_type": "code",
   "execution_count": null,
   "id": "8f11964a",
   "metadata": {},
   "outputs": [],
   "source": [
    "import numpy as np\n",
    "\n",
    "np.sqrt(2)"
   ]
  },
  {
   "cell_type": "code",
   "execution_count": null,
   "id": "6c364741",
   "metadata": {},
   "outputs": [],
   "source": [
    "a = np.arange(1, 11, 1)\n",
    "a"
   ]
  },
  {
   "cell_type": "code",
   "execution_count": null,
   "id": "4034844a",
   "metadata": {},
   "outputs": [],
   "source": [
    "np.sqrt(a)"
   ]
  },
  {
   "cell_type": "markdown",
   "id": "c39c49da",
   "metadata": {},
   "source": [
    "## 三角函數相關函式: np.sin()、np.cos()、np.tan()"
   ]
  },
  {
   "cell_type": "code",
   "execution_count": null,
   "id": "a2b248f3",
   "metadata": {},
   "outputs": [],
   "source": [
    "# 注意參數的指定是弧度(radian)，不是度(degree)\n",
    "# 圓周率 π : np.pi"
   ]
  },
  {
   "cell_type": "code",
   "execution_count": null,
   "id": "f54e552a",
   "metadata": {},
   "outputs": [],
   "source": [
    "import numpy as np\n",
    "\n",
    "np.sin(0)"
   ]
  },
  {
   "cell_type": "code",
   "execution_count": null,
   "id": "9a5ca91a",
   "metadata": {},
   "outputs": [],
   "source": [
    "np.cos(0)"
   ]
  },
  {
   "cell_type": "code",
   "execution_count": null,
   "id": "58fb4b0c",
   "metadata": {},
   "outputs": [],
   "source": [
    "np.tan(0)"
   ]
  },
  {
   "cell_type": "code",
   "execution_count": null,
   "id": "190dc93c",
   "metadata": {},
   "outputs": [],
   "source": [
    "np.sin(np.pi*0.5)"
   ]
  },
  {
   "cell_type": "code",
   "execution_count": null,
   "id": "d0f48124",
   "metadata": {},
   "outputs": [],
   "source": [
    "np.cos(np.pi*0.5) "
   ]
  },
  {
   "cell_type": "code",
   "execution_count": null,
   "id": "d33013e3",
   "metadata": {},
   "outputs": [],
   "source": [
    "np.tan(np.pi*0.5) "
   ]
  },
  {
   "cell_type": "markdown",
   "id": "c62b4f9f",
   "metadata": {},
   "source": [
    "## 反三角函數相關函式: np.arcsin()、np.arccos()、np.arctan()"
   ]
  },
  {
   "cell_type": "code",
   "execution_count": null,
   "id": "d1f6ac74",
   "metadata": {},
   "outputs": [],
   "source": [
    "import numpy as np\n",
    "\n",
    "np.arcsin(0.5)"
   ]
  },
  {
   "cell_type": "code",
   "execution_count": null,
   "id": "4938717a",
   "metadata": {},
   "outputs": [],
   "source": [
    "np.arccos(0.5)"
   ]
  },
  {
   "cell_type": "code",
   "execution_count": null,
   "id": "8cbce487",
   "metadata": {},
   "outputs": [],
   "source": [
    "np.arctan(1)"
   ]
  },
  {
   "cell_type": "code",
   "execution_count": null,
   "id": "22e70773",
   "metadata": {},
   "outputs": [],
   "source": [
    "np.arcsin(-1)"
   ]
  },
  {
   "cell_type": "code",
   "execution_count": null,
   "id": "1baf51fa",
   "metadata": {},
   "outputs": [],
   "source": [
    "np.arccos(-1)"
   ]
  },
  {
   "cell_type": "code",
   "execution_count": null,
   "id": "db0874af",
   "metadata": {},
   "outputs": [],
   "source": [
    "np.arctan(-0.5)"
   ]
  },
  {
   "cell_type": "markdown",
   "id": "3b42a81e",
   "metadata": {},
   "source": [
    "## 度與弧度的轉換"
   ]
  },
  {
   "cell_type": "code",
   "execution_count": null,
   "id": "0584530d",
   "metadata": {},
   "outputs": [],
   "source": [
    "# np.deg2rad : 度轉弧度\n",
    "# np.rad2deg : 弧度轉度"
   ]
  },
  {
   "cell_type": "code",
   "execution_count": null,
   "id": "a22a064c",
   "metadata": {},
   "outputs": [],
   "source": [
    "import numpy as np\n",
    "\n",
    "np.deg2rad(120)"
   ]
  },
  {
   "cell_type": "code",
   "execution_count": null,
   "id": "269f70d1",
   "metadata": {},
   "outputs": [],
   "source": [
    "np.rad2deg(3.14)"
   ]
  },
  {
   "cell_type": "markdown",
   "id": "2a18ab52",
   "metadata": {},
   "source": [
    "## 指數函數與對數函數"
   ]
  },
  {
   "cell_type": "code",
   "execution_count": null,
   "id": "134f86fb",
   "metadata": {},
   "outputs": [],
   "source": [
    "# np.exp(x)\n",
    "# 在求 e 的 x 次方"
   ]
  },
  {
   "cell_type": "code",
   "execution_count": null,
   "id": "1e85864c",
   "metadata": {},
   "outputs": [],
   "source": [
    "# np.log(x) : 底數為 e\n",
    "# np.log2(x) : 底數為 2\n",
    "# np.log10(x) : 底數為 10\n",
    "# np.log1p(x) : 底數為 e，計算 log(1 + x)"
   ]
  },
  {
   "cell_type": "code",
   "execution_count": null,
   "id": "ec79be7b",
   "metadata": {},
   "outputs": [],
   "source": [
    "# 若要表示自然數，則為 np.e"
   ]
  },
  {
   "cell_type": "code",
   "execution_count": null,
   "id": "52e98417",
   "metadata": {},
   "outputs": [],
   "source": [
    "import numpy as np\n",
    "\n",
    "np.exp(0)"
   ]
  },
  {
   "cell_type": "code",
   "execution_count": null,
   "id": "5a0c191f",
   "metadata": {},
   "outputs": [],
   "source": [
    "np.exp(1)"
   ]
  },
  {
   "cell_type": "code",
   "execution_count": null,
   "id": "bec77aa5",
   "metadata": {},
   "outputs": [],
   "source": [
    "np.exp(2)"
   ]
  },
  {
   "cell_type": "code",
   "execution_count": null,
   "id": "07b3466a",
   "metadata": {},
   "outputs": [],
   "source": [
    "np.log(np.e)"
   ]
  },
  {
   "cell_type": "code",
   "execution_count": null,
   "id": "7ec96b9a",
   "metadata": {},
   "outputs": [],
   "source": [
    "a = np.array([1, 2, np.e**2, 10])\n",
    "np.log(a)"
   ]
  },
  {
   "cell_type": "code",
   "execution_count": null,
   "id": "7df8bf77",
   "metadata": {},
   "outputs": [],
   "source": [
    "b = np.array([1, 2, 4, 7])\n",
    "np.log2(b)"
   ]
  },
  {
   "cell_type": "code",
   "execution_count": null,
   "id": "db56d8cb",
   "metadata": {},
   "outputs": [],
   "source": [
    "c = np.array([1, 10, 20, 100])\n",
    "np.log10(c)"
   ]
  },
  {
   "cell_type": "code",
   "execution_count": null,
   "id": "9a98894c",
   "metadata": {},
   "outputs": [],
   "source": [
    "np.log1p(a)"
   ]
  },
  {
   "cell_type": "code",
   "execution_count": null,
   "id": "5039e6cf",
   "metadata": {},
   "outputs": [],
   "source": [
    "np.log(2)/np.log(4)   # 表示以 4 為底"
   ]
  },
  {
   "cell_type": "code",
   "execution_count": null,
   "id": "a2165d33",
   "metadata": {},
   "outputs": [],
   "source": [
    "np.log(9)/np.log(3)   # 表示以 4 為底"
   ]
  },
  {
   "cell_type": "markdown",
   "id": "8658c29a",
   "metadata": {},
   "source": [
    "## 雙曲函數"
   ]
  },
  {
   "cell_type": "code",
   "execution_count": null,
   "id": "4cd40eef",
   "metadata": {},
   "outputs": [],
   "source": [
    "# sinh(x) = (e^x - e^(-x))/2\n",
    "# cosh(x) = (e^x + e^(-x))/2\n",
    "# tanh(x) = sinh(x)/cosh(x)"
   ]
  },
  {
   "cell_type": "code",
   "execution_count": null,
   "id": "e8c6903b",
   "metadata": {},
   "outputs": [],
   "source": [
    "import numpy as np\n",
    "\n",
    "np.sinh(2)"
   ]
  },
  {
   "cell_type": "code",
   "execution_count": null,
   "id": "ff96fbe5",
   "metadata": {},
   "outputs": [],
   "source": [
    "np.cosh(2)"
   ]
  },
  {
   "cell_type": "code",
   "execution_count": null,
   "id": "bb93685f",
   "metadata": {},
   "outputs": [],
   "source": [
    "np.tanh(2)"
   ]
  },
  {
   "cell_type": "code",
   "execution_count": null,
   "id": "ddfa32ae",
   "metadata": {},
   "outputs": [],
   "source": [
    "np.arccosh(1)"
   ]
  },
  {
   "cell_type": "code",
   "execution_count": null,
   "id": "5559cf60",
   "metadata": {},
   "outputs": [],
   "source": [
    "np.arctanh(0.7)"
   ]
  },
  {
   "cell_type": "markdown",
   "id": "f3812497",
   "metadata": {},
   "source": [
    "## 取近似值"
   ]
  },
  {
   "cell_type": "code",
   "execution_count": null,
   "id": "314e2b22",
   "metadata": {},
   "outputs": [],
   "source": [
    "# np.floor() : 取最接近比該值小的整數\n",
    "# np.ceil() : 取最接近比該值大的整數\n",
    "# np.trunc() : 無條件捨去小數點\n",
    "# np.round() : 以四捨六入五成雙的方式來進位。遇到 5 要進位時，會多加一個判斷，如果進位後是雙數就進位，否則就捨去。有第二參數決定位數\n",
    "# np.around() : 與 np.round() 一模一樣，擇一來用即可\n",
    "# np.rint() : 與 np.round() 和 np.around() 幾乎一模一樣，但是沒辦法設定保留小數\n",
    "# np.fix() : 往靠近 0 的方向取整數"
   ]
  },
  {
   "cell_type": "code",
   "execution_count": null,
   "id": "9a2927fc",
   "metadata": {},
   "outputs": [],
   "source": [
    "import numpy as np\n",
    "\n",
    "a = np.array([-1.8, -1.4, -1.0, -0.6, -0.2, 0, 0.2, 0.6, 1.0, 1.4, 1.8])\n",
    "a"
   ]
  },
  {
   "cell_type": "code",
   "execution_count": null,
   "id": "49044f1e",
   "metadata": {},
   "outputs": [],
   "source": [
    "np.floor(a)"
   ]
  },
  {
   "cell_type": "code",
   "execution_count": null,
   "id": "4ed39850",
   "metadata": {},
   "outputs": [],
   "source": [
    "np.trunc(a)"
   ]
  },
  {
   "cell_type": "code",
   "execution_count": null,
   "id": "a88599f6",
   "metadata": {},
   "outputs": [],
   "source": [
    "np.ceil(a)"
   ]
  },
  {
   "cell_type": "code",
   "execution_count": null,
   "id": "d7d8dd8d",
   "metadata": {},
   "outputs": [],
   "source": [
    "np.round(a)"
   ]
  },
  {
   "cell_type": "code",
   "execution_count": null,
   "id": "874493d0",
   "metadata": {},
   "outputs": [],
   "source": [
    "np.round([0.5, 1.5])"
   ]
  },
  {
   "cell_type": "code",
   "execution_count": null,
   "id": "449f4150",
   "metadata": {},
   "outputs": [],
   "source": [
    "np.around(a)"
   ]
  },
  {
   "cell_type": "code",
   "execution_count": null,
   "id": "f6c0233e",
   "metadata": {},
   "outputs": [],
   "source": [
    "np.rint(a)"
   ]
  },
  {
   "cell_type": "code",
   "execution_count": null,
   "id": "218ee7a7",
   "metadata": {},
   "outputs": [],
   "source": [
    "np.fix(a)"
   ]
  },
  {
   "cell_type": "markdown",
   "id": "48726bf2",
   "metadata": {},
   "source": [
    "## 絕對值"
   ]
  },
  {
   "cell_type": "code",
   "execution_count": null,
   "id": "d333445d",
   "metadata": {},
   "outputs": [],
   "source": [
    "# np.abs() : 可以傳入複數當參數\n",
    "# np.fabs() : 不可以傳入複數當參數"
   ]
  },
  {
   "cell_type": "code",
   "execution_count": null,
   "id": "94b8066a",
   "metadata": {},
   "outputs": [],
   "source": [
    "import numpy as np\n",
    "\n",
    "a = -2.5\n",
    "np.abs(a)"
   ]
  },
  {
   "cell_type": "code",
   "execution_count": null,
   "id": "9a5c0a9a",
   "metadata": {},
   "outputs": [],
   "source": [
    "np.fabs(a)"
   ]
  },
  {
   "cell_type": "code",
   "execution_count": null,
   "id": "a2b0cd16",
   "metadata": {},
   "outputs": [],
   "source": [
    "b = -2 + 3j"
   ]
  },
  {
   "cell_type": "code",
   "execution_count": null,
   "id": "46765170",
   "metadata": {},
   "outputs": [],
   "source": [
    "np.abs(b) # 算出複數的絕對值"
   ]
  },
  {
   "cell_type": "code",
   "execution_count": null,
   "id": "5e0fb19b",
   "metadata": {},
   "outputs": [],
   "source": [
    "np.fabs(b)"
   ]
  },
  {
   "cell_type": "code",
   "execution_count": null,
   "id": "3139f582",
   "metadata": {},
   "outputs": [],
   "source": [
    "c = np.array([-1, 2, -8, 12, 1 + 2j])\n",
    "c"
   ]
  },
  {
   "cell_type": "code",
   "execution_count": null,
   "id": "c6361244",
   "metadata": {},
   "outputs": [],
   "source": [
    "np.abs(c)"
   ]
  }
 ],
 "metadata": {
  "kernelspec": {
   "display_name": "Python 3",
   "language": "python",
   "name": "python3"
  },
  "language_info": {
   "codemirror_mode": {
    "name": "ipython",
    "version": 3
   },
   "file_extension": ".py",
   "mimetype": "text/x-python",
   "name": "python",
   "nbconvert_exporter": "python",
   "pygments_lexer": "ipython3",
   "version": "3.8.10"
  }
 },
 "nbformat": 4,
 "nbformat_minor": 5
}
