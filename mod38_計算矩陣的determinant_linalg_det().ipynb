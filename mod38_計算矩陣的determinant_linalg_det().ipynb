{
 "cells": [
  {
   "cell_type": "markdown",
   "id": "01b5d415",
   "metadata": {},
   "source": [
    "## <font color=red> Module38_計算矩陣的determinant_linalg_det()</font>"
   ]
  },
  {
   "cell_type": "markdown",
   "id": "f2549e4a",
   "metadata": {},
   "source": [
    "## np.linalg.det() 函式的用法"
   ]
  },
  {
   "cell_type": "code",
   "execution_count": null,
   "id": "5c226400",
   "metadata": {},
   "outputs": [],
   "source": [
    "# np.linalg.det(a)\n",
    "# a : 傳入要處理的陣列。最常是拿二軸陣列來運算，不過也可以處理三軸陣列，只是要留意倒數兩軸的維度要一樣"
   ]
  },
  {
   "cell_type": "code",
   "execution_count": null,
   "id": "eaace11f",
   "metadata": {},
   "outputs": [],
   "source": [
    "import numpy as np\n",
    "import numpy.linalg as LA\n",
    "\n",
    "a = np.array([[2, 3], [4, 5]])\n",
    "a"
   ]
  },
  {
   "cell_type": "code",
   "execution_count": null,
   "id": "f22343c5",
   "metadata": {},
   "outputs": [],
   "source": [
    "np.linalg.det(a)"
   ]
  },
  {
   "cell_type": "code",
   "execution_count": null,
   "id": "4a5119f6",
   "metadata": {},
   "outputs": [],
   "source": [
    "LA.det(a)"
   ]
  },
  {
   "cell_type": "markdown",
   "id": "5612253d",
   "metadata": {},
   "source": [
    "---"
   ]
  },
  {
   "cell_type": "code",
   "execution_count": null,
   "id": "645b335a",
   "metadata": {},
   "outputs": [],
   "source": [
    "b = np.random.randint(-5, 6, size = (3, 3, 3))\n",
    "b"
   ]
  },
  {
   "cell_type": "code",
   "execution_count": null,
   "id": "478f85f8",
   "metadata": {},
   "outputs": [],
   "source": [
    "LA.det(b) # 依序顯示上面每個 (3, 3) 子陣列的 determinant"
   ]
  }
 ],
 "metadata": {
  "kernelspec": {
   "display_name": "Python 3",
   "language": "python",
   "name": "python3"
  },
  "language_info": {
   "codemirror_mode": {
    "name": "ipython",
    "version": 3
   },
   "file_extension": ".py",
   "mimetype": "text/x-python",
   "name": "python",
   "nbconvert_exporter": "python",
   "pygments_lexer": "ipython3",
   "version": "3.8.10"
  }
 },
 "nbformat": 4,
 "nbformat_minor": 5
}
