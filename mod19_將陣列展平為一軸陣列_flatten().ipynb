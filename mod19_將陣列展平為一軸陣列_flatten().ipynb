{
 "cells": [
  {
   "cell_type": "markdown",
   "id": "40648d5b",
   "metadata": {},
   "source": [
    "## <font color=red> Module_19_將陣列展平為一軸陣列_flatten()</font>"
   ]
  },
  {
   "cell_type": "markdown",
   "id": "3ef910e4",
   "metadata": {},
   "source": [
    "## ndarray物件.flatten() 物件方法的用法"
   ]
  },
  {
   "cell_type": "code",
   "execution_count": 1,
   "id": "d6ff9847",
   "metadata": {},
   "outputs": [],
   "source": [
    "# ndarray物件.flatten(order = 'C')\n",
    "# order : 設定陣列元素在記憶體內的排列方式，預設為 order = 'C'，不常使用"
   ]
  },
  {
   "cell_type": "code",
   "execution_count": null,
   "id": "ce2b611a",
   "metadata": {},
   "outputs": [],
   "source": [
    "# flatten() 的方法處理後是傳回一個陣列的 copy，也就是運算後的陣列不是與原陣列參照相同的記憶體物件，而是另外產生一個\n",
    "# 之後的 ravel() 函式運算後是傳回一個陣列的 view，也就是運算後的結果會與原陣列參照相同的記憶體物件"
   ]
  },
  {
   "cell_type": "code",
   "execution_count": null,
   "id": "d42df7da",
   "metadata": {},
   "outputs": [],
   "source": [
    "import numpy as np\n",
    "\n",
    "a = np.arange(10).reshape(2, 5)\n",
    "a"
   ]
  },
  {
   "cell_type": "code",
   "execution_count": null,
   "id": "91e36ee0",
   "metadata": {},
   "outputs": [],
   "source": [
    "b = a.flatten()"
   ]
  },
  {
   "cell_type": "code",
   "execution_count": null,
   "id": "78538ff3",
   "metadata": {},
   "outputs": [],
   "source": [
    "a"
   ]
  },
  {
   "cell_type": "code",
   "execution_count": null,
   "id": "c80e2be0",
   "metadata": {},
   "outputs": [],
   "source": [
    "b"
   ]
  },
  {
   "cell_type": "code",
   "execution_count": null,
   "id": "179ef0cb",
   "metadata": {},
   "outputs": [],
   "source": [
    "a.shape"
   ]
  },
  {
   "cell_type": "code",
   "execution_count": null,
   "id": "fb9ee3bf",
   "metadata": {},
   "outputs": [],
   "source": [
    "b.shape"
   ]
  },
  {
   "cell_type": "markdown",
   "id": "d5cd5dbc",
   "metadata": {},
   "source": [
    "---"
   ]
  },
  {
   "cell_type": "code",
   "execution_count": null,
   "id": "dc640525",
   "metadata": {},
   "outputs": [],
   "source": [
    "c = np.arange(12).reshape(2, 2, 3)\n",
    "c"
   ]
  },
  {
   "cell_type": "code",
   "execution_count": null,
   "id": "09e1f12b",
   "metadata": {},
   "outputs": [],
   "source": [
    "d = c.flatten()"
   ]
  },
  {
   "cell_type": "code",
   "execution_count": null,
   "id": "7e583c35",
   "metadata": {},
   "outputs": [],
   "source": [
    "c"
   ]
  },
  {
   "cell_type": "code",
   "execution_count": null,
   "id": "f861fcc3",
   "metadata": {},
   "outputs": [],
   "source": [
    "d"
   ]
  },
  {
   "cell_type": "code",
   "execution_count": null,
   "id": "424f8403",
   "metadata": {},
   "outputs": [],
   "source": [
    "c.shape"
   ]
  },
  {
   "cell_type": "code",
   "execution_count": null,
   "id": "b74f6afc",
   "metadata": {},
   "outputs": [],
   "source": [
    "d.shape"
   ]
  },
  {
   "cell_type": "code",
   "execution_count": null,
   "id": "cbefc344",
   "metadata": {},
   "outputs": [],
   "source": [
    "e = c.reshape(-1) # 功能可以被 reshape() 函式給取代\n",
    "e"
   ]
  },
  {
   "cell_type": "code",
   "execution_count": null,
   "id": "ba816a56",
   "metadata": {},
   "outputs": [],
   "source": [
    "e.shape"
   ]
  }
 ],
 "metadata": {
  "kernelspec": {
   "display_name": "Python 3",
   "language": "python",
   "name": "python3"
  },
  "language_info": {
   "codemirror_mode": {
    "name": "ipython",
    "version": 3
   },
   "file_extension": ".py",
   "mimetype": "text/x-python",
   "name": "python",
   "nbconvert_exporter": "python",
   "pygments_lexer": "ipython3",
   "version": "3.8.10"
  }
 },
 "nbformat": 4,
 "nbformat_minor": 5
}
