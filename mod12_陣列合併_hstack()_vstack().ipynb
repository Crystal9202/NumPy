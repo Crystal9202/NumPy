{
 "cells": [
  {
   "cell_type": "markdown",
   "id": "78d7e0f1",
   "metadata": {},
   "source": [
    "## <font color=red> Module_12_陣列合併_hstack()_vstack()</font>"
   ]
  },
  {
   "cell_type": "markdown",
   "id": "482eb01e",
   "metadata": {},
   "source": [
    "## np.hstack() 函式的用法"
   ]
  },
  {
   "cell_type": "code",
   "execution_count": null,
   "id": "4eaff4ef",
   "metadata": {},
   "outputs": [],
   "source": [
    "# np.hstack(tup)\n",
    "# tup : 設定要合併的陣列\n",
    "# 無論是幾軸陣列，np.hstack() 函式都是針對第 1 軸做合併\n",
    "# 針對第 1 軸做合併，陣列的軸數都要一樣，且第 1 軸外的其他軸維度都要一樣\n",
    "# 與 np.append() 功能很類似 "
   ]
  },
  {
   "cell_type": "code",
   "execution_count": null,
   "id": "2834ac74",
   "metadata": {},
   "outputs": [],
   "source": [
    "import numpy as np\n",
    "\n",
    "a = np.arange(12)\n",
    "b = np.arange(2)\n",
    "print(a)\n",
    "print(b)"
   ]
  },
  {
   "cell_type": "code",
   "execution_count": null,
   "id": "2be5a4d1",
   "metadata": {},
   "outputs": [],
   "source": [
    "c = np.hstack((a, b))\n",
    "c"
   ]
  },
  {
   "cell_type": "markdown",
   "id": "885dd677",
   "metadata": {},
   "source": [
    "---"
   ]
  },
  {
   "cell_type": "code",
   "execution_count": null,
   "id": "2fe795d3",
   "metadata": {},
   "outputs": [],
   "source": [
    "d = np.arange(4).reshape(2, 2)\n",
    "d"
   ]
  },
  {
   "cell_type": "code",
   "execution_count": null,
   "id": "6ec7b991",
   "metadata": {},
   "outputs": [],
   "source": [
    "e = np.hstack((a, d)) # 軸數不同沒辦法合併"
   ]
  },
  {
   "cell_type": "code",
   "execution_count": null,
   "id": "3bab3452",
   "metadata": {},
   "outputs": [],
   "source": [
    "f = np.arange(6).reshape(2, 3)\n",
    "f"
   ]
  },
  {
   "cell_type": "code",
   "execution_count": null,
   "id": "4e5a1cc2",
   "metadata": {},
   "outputs": [],
   "source": [
    "# 針對第一軸做合併，陣列的軸數都要一樣，且第一軸外的其他軸維度都要一樣。 即 (2, 2) 與 (2, 3) 變成 (2, 2 + 3)\n",
    "g = np.hstack((d, f))\n",
    "g"
   ]
  },
  {
   "cell_type": "markdown",
   "id": "722d0daf",
   "metadata": {},
   "source": [
    "---"
   ]
  },
  {
   "cell_type": "code",
   "execution_count": null,
   "id": "fec0a3ec",
   "metadata": {},
   "outputs": [],
   "source": [
    "h = np.arange(12).reshape(2, 2, 3)\n",
    "i = np.arange(6).reshape(2, 1, 3)\n",
    "print(h)\n",
    "print(i)"
   ]
  },
  {
   "cell_type": "code",
   "execution_count": null,
   "id": "9f1cc7f1",
   "metadata": {},
   "outputs": [],
   "source": [
    "j = np.hstack((h, i)) # 先推測形狀 (2, 2 + 1, 3)\n",
    "j"
   ]
  },
  {
   "cell_type": "markdown",
   "id": "48bae817",
   "metadata": {},
   "source": [
    "## np.vstack() 函式的用法"
   ]
  },
  {
   "cell_type": "code",
   "execution_count": null,
   "id": "eec282bf",
   "metadata": {},
   "outputs": [],
   "source": [
    "# np.vstack(tup)\n",
    "# tup : 設定要合併的陣列\n",
    "# 無論是幾軸陣列，np.vstack() 函式都是針對第 0 軸做合併\n",
    "# 針對第 0 軸做合併，陣列的軸數都要一樣，且第 0 軸外的其他軸維度都要一樣\n",
    "# 與 np.append() 功能很類似 "
   ]
  },
  {
   "cell_type": "code",
   "execution_count": null,
   "id": "8e6b057a",
   "metadata": {},
   "outputs": [],
   "source": [
    "import numpy as np \n",
    "\n",
    "a = np.arange(12)\n",
    "b = np.arange(2)\n",
    "print(a)\n",
    "print(b)"
   ]
  },
  {
   "cell_type": "code",
   "execution_count": null,
   "id": "62a7dfd4",
   "metadata": {},
   "outputs": [],
   "source": [
    "np.vstack((a,  b)) # 元素不一致 "
   ]
  },
  {
   "cell_type": "code",
   "execution_count": null,
   "id": "fcebb84a",
   "metadata": {},
   "outputs": [],
   "source": [
    "c = np.array([2, 3])\n",
    "d = np.vstack((b, c))\n",
    "d"
   ]
  },
  {
   "cell_type": "markdown",
   "id": "80b5f88f",
   "metadata": {},
   "source": [
    "---"
   ]
  },
  {
   "cell_type": "code",
   "execution_count": null,
   "id": "a22ae1fd",
   "metadata": {},
   "outputs": [],
   "source": [
    "e = np.arange(12).reshape(-1, 1)\n",
    "f = np.arange(2).reshape(-1, 1)\n",
    "print(e)\n",
    "print(f)"
   ]
  },
  {
   "cell_type": "code",
   "execution_count": null,
   "id": "9645ce8c",
   "metadata": {},
   "outputs": [],
   "source": [
    "g = np.vstack((e, f)) # 先推測形狀，由 (12, 1) 與 (2, 1) 變成 (14, 1)\n",
    "g"
   ]
  },
  {
   "cell_type": "code",
   "execution_count": null,
   "id": "1c0ba804",
   "metadata": {},
   "outputs": [],
   "source": [
    "h = np.arange(2).reshape(1, 2)\n",
    "h"
   ]
  },
  {
   "cell_type": "code",
   "execution_count": null,
   "id": "cb21a5ab",
   "metadata": {},
   "outputs": [],
   "source": [
    "np.vstack((e, h)) # 第 0 軸外的其他軸維度都要一樣，才能合併"
   ]
  },
  {
   "cell_type": "code",
   "execution_count": null,
   "id": "52d15006",
   "metadata": {},
   "outputs": [],
   "source": [
    "i = np.arange(4).reshape(2, 2)\n",
    "i"
   ]
  },
  {
   "cell_type": "code",
   "execution_count": null,
   "id": "aa2559a3",
   "metadata": {},
   "outputs": [],
   "source": [
    "j = np.vstack((h, i)) # 先推測形狀，由 (1, 2) 與 (2, 2) 變成 (1 + 2, 1)\n",
    "j"
   ]
  },
  {
   "cell_type": "markdown",
   "id": "87e309db",
   "metadata": {},
   "source": [
    "---"
   ]
  },
  {
   "cell_type": "code",
   "execution_count": null,
   "id": "3bc6a170",
   "metadata": {},
   "outputs": [],
   "source": [
    "k = np.arange(24).reshape(4, 3, 2)\n",
    "l = np.arange(6).reshape(1, 3, 2)\n",
    "print(k)\n",
    "print(l)"
   ]
  },
  {
   "cell_type": "code",
   "execution_count": null,
   "id": "bb7b566b",
   "metadata": {},
   "outputs": [],
   "source": [
    "m = np.vstack((k, l)) # 先推測形狀，由 (4, 3, 2) 與 (1, 3, 2) 變成 (4 + 1, 3, 2)\n",
    "m"
   ]
  },
  {
   "cell_type": "code",
   "execution_count": null,
   "id": "b7dab54e",
   "metadata": {},
   "outputs": [],
   "source": [
    "m.shape"
   ]
  }
 ],
 "metadata": {
  "kernelspec": {
   "display_name": "Python 3",
   "language": "python",
   "name": "python3"
  },
  "language_info": {
   "codemirror_mode": {
    "name": "ipython",
    "version": 3
   },
   "file_extension": ".py",
   "mimetype": "text/x-python",
   "name": "python",
   "nbconvert_exporter": "python",
   "pygments_lexer": "ipython3",
   "version": "3.8.10"
  }
 },
 "nbformat": 4,
 "nbformat_minor": 5
}
