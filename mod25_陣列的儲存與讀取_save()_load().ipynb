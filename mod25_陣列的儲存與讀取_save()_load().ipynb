{
 "cells": [
  {
   "cell_type": "markdown",
   "id": "62cac6df",
   "metadata": {},
   "source": [
    "## <font color=red> Module_25_陣列的儲存與讀取_save()_load()</font>"
   ]
  },
  {
   "cell_type": "markdown",
   "id": "2fc3a633",
   "metadata": {},
   "source": [
    "## np.save() 與 np.load() 函式的用法"
   ]
  },
  {
   "cell_type": "code",
   "execution_count": null,
   "id": "f93c4341",
   "metadata": {},
   "outputs": [],
   "source": [
    "# np.save(file, arr, allow_pickle = True, fix_imports = True)\n",
    "# file : 設定儲存的位置。預設的副檔名為 .npy\n",
    "# arr : 傳入要儲存的陣列\n",
    "# allow_pickle : 不常用\n",
    "# fix_imports : 不常用\n",
    "\n",
    "# 可以把陣列的內容儲存成 .npy的二進位檔。\n",
    "# 相較常見的文字檔，存取速度快，佔用空間小，缺點是可讀性差，無法相容 python 以外的程式語言或軟體工具"
   ]
  },
  {
   "cell_type": "code",
   "execution_count": null,
   "id": "f6ade73d",
   "metadata": {},
   "outputs": [],
   "source": [
    "# np.load(file, mmap_mode = None, allow_pickle = True, fix_imports = True, encoding = 'ASCll')\n",
    "# file : 設定要讀取的檔案\n",
    "# mmap_mode : 'r' 表示讀取模式。'r+' 及 'w+' 都是讀寫模式，差異在檔案不存在時，'r+' 會傳回錯誤訊息，'w+' 會建立新檔案\n",
    "# allow_pickle : 不常用\n",
    "# fix_imports : 不常用\n",
    "# encoding : 要用哪種編碼來讀取檔案"
   ]
  },
  {
   "cell_type": "code",
   "execution_count": null,
   "id": "dea717af",
   "metadata": {},
   "outputs": [],
   "source": [
    "import numpy as np\n",
    "\n",
    "np.random.seed(10)\n",
    "a = np.random.randn(1200*1000).reshape(1200, 1000)\n",
    "print(a)\n",
    "print(a.shape)"
   ]
  },
  {
   "cell_type": "code",
   "execution_count": null,
   "id": "078bd7d1",
   "metadata": {},
   "outputs": [],
   "source": [
    "np.save('./mod25/a.npy', a)"
   ]
  },
  {
   "cell_type": "code",
   "execution_count": null,
   "id": "82bebd1e",
   "metadata": {},
   "outputs": [],
   "source": [
    "b = np.load('./mod25/a.npy')"
   ]
  },
  {
   "cell_type": "code",
   "execution_count": null,
   "id": "122365cf",
   "metadata": {},
   "outputs": [],
   "source": [
    "b"
   ]
  },
  {
   "cell_type": "code",
   "execution_count": null,
   "id": "89504a42",
   "metadata": {},
   "outputs": [],
   "source": [
    "c = np.random.randint(0, 100, size = (12, 20, 40))\n",
    "c"
   ]
  },
  {
   "cell_type": "code",
   "execution_count": null,
   "id": "c1030630",
   "metadata": {},
   "outputs": [],
   "source": [
    "np.save('./mod25/c.npy', c)"
   ]
  },
  {
   "cell_type": "code",
   "execution_count": null,
   "id": "9001e3a4",
   "metadata": {},
   "outputs": [],
   "source": [
    "d = np.load('./mod25/c.npy')"
   ]
  },
  {
   "cell_type": "code",
   "execution_count": null,
   "id": "b4ac084c",
   "metadata": {},
   "outputs": [],
   "source": [
    "d"
   ]
  }
 ],
 "metadata": {
  "kernelspec": {
   "display_name": "Python 3",
   "language": "python",
   "name": "python3"
  },
  "language_info": {
   "codemirror_mode": {
    "name": "ipython",
    "version": 3
   },
   "file_extension": ".py",
   "mimetype": "text/x-python",
   "name": "python",
   "nbconvert_exporter": "python",
   "pygments_lexer": "ipython3",
   "version": "3.8.10"
  }
 },
 "nbformat": 4,
 "nbformat_minor": 5
}
