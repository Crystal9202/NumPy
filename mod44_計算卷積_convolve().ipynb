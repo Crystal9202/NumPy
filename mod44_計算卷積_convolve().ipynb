{
 "cells": [
  {
   "cell_type": "markdown",
   "id": "a87ac6e3",
   "metadata": {},
   "source": [
    "## <font color=red> Module44_計算卷積_convolve()</font>"
   ]
  },
  {
   "cell_type": "markdown",
   "id": "8675082a",
   "metadata": {},
   "source": [
    "## np.convolve() 函式的用法"
   ]
  },
  {
   "cell_type": "code",
   "execution_count": null,
   "id": "828e49f4",
   "metadata": {},
   "outputs": [],
   "source": [
    "# np.convolve(a, v, mode = 'full')\n",
    "# a : 傳入第 1 個一軸陣列\n",
    "# b : 傳入第 2 個一軸陣列\n",
    "# mode : 可以設為 'full'、'valid'、'same'"
   ]
  },
  {
   "cell_type": "code",
   "execution_count": null,
   "id": "08eca6f5",
   "metadata": {},
   "outputs": [],
   "source": [
    "# 注意在處理時會將第 2 個陣列 v 的元素反方向來計算卷積"
   ]
  },
  {
   "cell_type": "code",
   "execution_count": null,
   "id": "a30eec4e",
   "metadata": {},
   "outputs": [],
   "source": [
    "import numpy as np\n",
    "\n",
    "a = np.array([0, 1, 2, 3, 4, 5])\n",
    "v = np.array([0.2, 0.8])\n",
    "print(a)\n",
    "print(v)"
   ]
  },
  {
   "cell_type": "code",
   "execution_count": null,
   "id": "7ff544a5",
   "metadata": {},
   "outputs": [],
   "source": [
    "np.convolve(a, v, mode = 'full')"
   ]
  },
  {
   "cell_type": "code",
   "execution_count": null,
   "id": "a57df41a",
   "metadata": {},
   "outputs": [],
   "source": [
    "np.convolve(a, v, mode = 'same')"
   ]
  },
  {
   "cell_type": "code",
   "execution_count": null,
   "id": "3681e45b",
   "metadata": {},
   "outputs": [],
   "source": [
    "np.convolve(a, v, mode = 'valid')"
   ]
  }
 ],
 "metadata": {
  "kernelspec": {
   "display_name": "Python 3",
   "language": "python",
   "name": "python3"
  },
  "language_info": {
   "codemirror_mode": {
    "name": "ipython",
    "version": 3
   },
   "file_extension": ".py",
   "mimetype": "text/x-python",
   "name": "python",
   "nbconvert_exporter": "python",
   "pygments_lexer": "ipython3",
   "version": "3.8.10"
  }
 },
 "nbformat": 4,
 "nbformat_minor": 5
}
