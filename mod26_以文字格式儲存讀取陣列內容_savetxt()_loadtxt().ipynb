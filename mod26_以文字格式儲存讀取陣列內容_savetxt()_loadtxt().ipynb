{
 "cells": [
  {
   "cell_type": "markdown",
   "id": "77021991",
   "metadata": {},
   "source": [
    "## <font color=red> Module_26_以文字格式儲存讀取陣列內容_savetxt()_loadtxt()</font>"
   ]
  },
  {
   "cell_type": "markdown",
   "id": "54555d9e",
   "metadata": {},
   "source": [
    "## np.savetxt() 與 np.loadtxt() 函式的用法"
   ]
  },
  {
   "cell_type": "code",
   "execution_count": null,
   "id": "ab8eefc1",
   "metadata": {},
   "outputs": [],
   "source": [
    "# np.savetxt(fname, X, fmt, delimiter, newline, header, footer, comments, encoding)\n",
    "# fname : 設定要儲存的檔案，副檔名可為常見的 .txt、.csv，以可以設為 .gz\n",
    "# X : 傳入要儲存的陣列\n",
    "# fmt : 設定陣列元素的儲存格式，預設值為 '%.18e'，代表以科學記號 e的形式顯示小數點以下 18 位數\n",
    "# delimiter : 設定每個元素用什麼隔開，預設值為 \" \"\n",
    "# newline : 設定分隔每列的字元，預設為 '\\n'\n",
    "# header : 設定開頭寫入的註解文字，預設值為 None\n",
    "# footer : 設定在檔案結尾寫入的註解文字，預設為 None\n",
    "# comments : 插入 header 或 footer 註解文字時，設定前面的前綴字元，預設值為 '#'\n",
    "# encoding : 設定儲存檔案時，用什麼字元編碼，預設值為 None"
   ]
  },
  {
   "cell_type": "code",
   "execution_count": null,
   "id": "c1d06440",
   "metadata": {},
   "outputs": [],
   "source": [
    "# np.loadtxt(fname, dtype, comments, delimiter, converters, skiprows, usecols, uppack, ndmin, encoding)\n",
    "# fname : 設定要讀取的檔案\n",
    "# dtype : 設定陣列元素的資料型別，預設值為 'float'\n",
    "# comments : 若存檔時有設定此參數，則讀檔時也必須指定相同的內容，預設值為 \"#\"\n",
    "# delimiter : 若存檔時有設定此參數，則讀檔時也必須指定相同的內容，預設值為 None\n",
    "# converters : 轉換字典\n",
    "# skiprows : 設定略過開頭若干列不讀出，預設值為 0，表示不略過全讀出\n",
    "# usecols : 把 0 當作第一行，設定要讀取哪幾行。預設是讀取每一行，預設值為 None\n",
    "# unpack : 如果是 True，會轉置輸出的陣列。當想將各行的值代入不同變數時就會設定 True。預設值為 False\n",
    "# ndmin : 設定傳回陣列的最低軸數，預設值為 0 \n",
    "# encoding : 設定讀取檔案時使用的字元編碼，預設為 \"bytes\""
   ]
  },
  {
   "cell_type": "code",
   "execution_count": null,
   "id": "13649ee1",
   "metadata": {},
   "outputs": [],
   "source": [
    "# 支援 txt、csv、dat等格式。與其他軟體相容性較佳。但缺點就是能處理的陣列軸數最高只到二軸"
   ]
  },
  {
   "cell_type": "code",
   "execution_count": null,
   "id": "924f815c",
   "metadata": {},
   "outputs": [],
   "source": [
    "import numpy as np \n",
    "\n",
    "np.random.seed(10)\n",
    "a = np.random.randn(3, 4)\n",
    "a"
   ]
  },
  {
   "cell_type": "code",
   "execution_count": null,
   "id": "7f9c4bb0",
   "metadata": {},
   "outputs": [],
   "source": [
    "np.savetxt('./mod26/sample.txt', a)"
   ]
  },
  {
   "cell_type": "code",
   "execution_count": null,
   "id": "dabf01b6",
   "metadata": {},
   "outputs": [],
   "source": [
    "b = np.loadtxt('./mod26/sample.txt')"
   ]
  },
  {
   "cell_type": "code",
   "execution_count": null,
   "id": "9c250ded",
   "metadata": {},
   "outputs": [],
   "source": [
    "b"
   ]
  },
  {
   "cell_type": "code",
   "execution_count": null,
   "id": "48aa6b22",
   "metadata": {},
   "outputs": [],
   "source": [
    "np.savetxt('./mod26/sample.csv', a)"
   ]
  },
  {
   "cell_type": "code",
   "execution_count": null,
   "id": "e5bb695f",
   "metadata": {},
   "outputs": [],
   "source": [
    "c = np.loadtxt('./mod26/sample.csv')"
   ]
  },
  {
   "cell_type": "code",
   "execution_count": null,
   "id": "96abd302",
   "metadata": {},
   "outputs": [],
   "source": [
    "c"
   ]
  },
  {
   "cell_type": "markdown",
   "id": "5aa3a711",
   "metadata": {},
   "source": [
    "---"
   ]
  },
  {
   "cell_type": "code",
   "execution_count": null,
   "id": "0f2e1d37",
   "metadata": {},
   "outputs": [],
   "source": [
    "np.savetxt('./mod26/sample2.txt', a, delimiter = ',')"
   ]
  },
  {
   "cell_type": "code",
   "execution_count": null,
   "id": "47b6f348",
   "metadata": {},
   "outputs": [],
   "source": [
    "d = np.loadtxt('./mod26/sample2.txt') # 存檔有使用 delimiter 參數，讀取時也須設定相同的 delimiter 參數"
   ]
  },
  {
   "cell_type": "code",
   "execution_count": null,
   "id": "660a0ebf",
   "metadata": {},
   "outputs": [],
   "source": [
    "d = np.loadtxt('./mod26/sample2.txt', delimiter = ',')"
   ]
  },
  {
   "cell_type": "code",
   "execution_count": null,
   "id": "0b52a494",
   "metadata": {},
   "outputs": [],
   "source": [
    "d"
   ]
  },
  {
   "cell_type": "code",
   "execution_count": null,
   "id": "f87c3642",
   "metadata": {},
   "outputs": [],
   "source": [
    "np.savetxt('./mod26/sample3.txt', a, fmt = '%.2e')"
   ]
  },
  {
   "cell_type": "code",
   "execution_count": null,
   "id": "de2bc4c1",
   "metadata": {},
   "outputs": [],
   "source": [
    "e = np.loadtxt('./mod26/sample3.txt')"
   ]
  },
  {
   "cell_type": "code",
   "execution_count": null,
   "id": "ae189985",
   "metadata": {},
   "outputs": [],
   "source": [
    "e"
   ]
  },
  {
   "cell_type": "code",
   "execution_count": null,
   "id": "52327c46",
   "metadata": {},
   "outputs": [],
   "source": [
    "np.savetxt('./mod26/sample4.txt', a, fmt = '%.2f')"
   ]
  },
  {
   "cell_type": "code",
   "execution_count": null,
   "id": "b38a6930",
   "metadata": {},
   "outputs": [],
   "source": [
    "f = e = np.loadtxt('./mod26/sample4.txt')"
   ]
  },
  {
   "cell_type": "code",
   "execution_count": null,
   "id": "2f34f8d1",
   "metadata": {},
   "outputs": [],
   "source": [
    "f"
   ]
  },
  {
   "cell_type": "markdown",
   "id": "7b322083",
   "metadata": {},
   "source": [
    "---"
   ]
  },
  {
   "cell_type": "code",
   "execution_count": null,
   "id": "a4dba9b3",
   "metadata": {},
   "outputs": [],
   "source": [
    "np.savetxt('./mod26/sample5.txt', a, fmt = '%.3e', header = 'this is a header', footer = 'this is a footer')"
   ]
  },
  {
   "cell_type": "code",
   "execution_count": null,
   "id": "05c84e4e",
   "metadata": {},
   "outputs": [],
   "source": [
    "np.savetxt('./mod26/sample6.txt', a, fmt = '%.3e', header = 'this is a header', footer = 'this is a footer', comments = '>>>')"
   ]
  },
  {
   "cell_type": "code",
   "execution_count": null,
   "id": "cfee211c",
   "metadata": {},
   "outputs": [],
   "source": [
    "g = np.loadtxt('./mod26/sample6.txt', comments = '>>>')"
   ]
  },
  {
   "cell_type": "code",
   "execution_count": null,
   "id": "64e2e349",
   "metadata": {},
   "outputs": [],
   "source": [
    "g # 開頭、結尾文字只有在開啟檔案才會看見，這裡的 print 不會顯示"
   ]
  },
  {
   "cell_type": "markdown",
   "id": "738b89bd",
   "metadata": {},
   "source": [
    "---"
   ]
  },
  {
   "cell_type": "code",
   "execution_count": null,
   "id": "660deb36",
   "metadata": {},
   "outputs": [],
   "source": [
    "h = np.loadtxt('./mod26/sample4.txt', usecols = (0, 2))\n",
    "h"
   ]
  },
  {
   "cell_type": "code",
   "execution_count": null,
   "id": "1f584d10",
   "metadata": {},
   "outputs": [],
   "source": [
    "i = np.loadtxt('./mod26/sample4.txt', skiprows = 1) # 注意，skiprows = 1 表示忽略開頭前一列。skiprows = 2 表示忽略開頭前二列\n",
    "i"
   ]
  },
  {
   "cell_type": "markdown",
   "id": "bdc7428a",
   "metadata": {},
   "source": [
    "---"
   ]
  },
  {
   "cell_type": "code",
   "execution_count": null,
   "id": "1136da74",
   "metadata": {},
   "outputs": [],
   "source": [
    "i = np.loadtxt('./mod26/foo.csv', dtype = [('col1', 'i8'), ('col2', 'S19'), ('col3', 'f8'), ('col4', 'S10')])\n",
    "print(i)  # 'i8' 代表長度為 8 byte 的 int\n",
    "print(i.shape)"
   ]
  },
  {
   "cell_type": "code",
   "execution_count": null,
   "id": "83f9545b",
   "metadata": {},
   "outputs": [],
   "source": [
    "j = np.loadtxt('./mod26/foo.csv', dtype = [('col1', 'i8'), ('col2', 'S19'), ('col3', 'f8'), ('col4', 'S10')], unpack = True)\n",
    "j  "
   ]
  },
  {
   "cell_type": "code",
   "execution_count": null,
   "id": "5bbca184",
   "metadata": {},
   "outputs": [],
   "source": [
    "age, gender, tall, driver_license = np.loadtxt('./mod26/foo.csv', dtype = [('col1', 'i8'), ('col2', 'S19'), ('col3', 'f8'), ('col4', 'S10')], unpack = True)"
   ]
  },
  {
   "cell_type": "code",
   "execution_count": null,
   "id": "55ad35fc",
   "metadata": {},
   "outputs": [],
   "source": [
    "age"
   ]
  },
  {
   "cell_type": "code",
   "execution_count": null,
   "id": "e33a88f4",
   "metadata": {},
   "outputs": [],
   "source": [
    "gender"
   ]
  },
  {
   "cell_type": "code",
   "execution_count": null,
   "id": "5983a5ea",
   "metadata": {},
   "outputs": [],
   "source": [
    "tall"
   ]
  },
  {
   "cell_type": "code",
   "execution_count": null,
   "id": "4fad7c39",
   "metadata": {},
   "outputs": [],
   "source": [
    "driver_license"
   ]
  },
  {
   "cell_type": "markdown",
   "id": "5a46221b",
   "metadata": {},
   "source": [
    "---"
   ]
  },
  {
   "cell_type": "code",
   "execution_count": null,
   "id": "c5122324",
   "metadata": {},
   "outputs": [],
   "source": [
    "def driver_license(str):\n",
    "    if str == b'Yes':\n",
    "        return 1\n",
    "    else:\n",
    "        return -1\n",
    "    \n",
    "def gender(str):\n",
    "    if str == b'male':\n",
    "        return 1\n",
    "    else:\n",
    "        return -1\n",
    "    \n",
    "k = np.loadtxt('./mod26/foo.csv', converters = {1: gender, 3: driver_license}) # 鍵:值 代入 要處理哪一行的資料: 用哪個函式處理 \n",
    "k"
   ]
  }
 ],
 "metadata": {
  "kernelspec": {
   "display_name": "Python 3",
   "language": "python",
   "name": "python3"
  },
  "language_info": {
   "codemirror_mode": {
    "name": "ipython",
    "version": 3
   },
   "file_extension": ".py",
   "mimetype": "text/x-python",
   "name": "python",
   "nbconvert_exporter": "python",
   "pygments_lexer": "ipython3",
   "version": "3.8.10"
  }
 },
 "nbformat": 4,
 "nbformat_minor": 5
}
