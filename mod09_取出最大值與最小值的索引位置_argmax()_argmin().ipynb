{
 "cells": [
  {
   "cell_type": "markdown",
   "id": "21f4842e",
   "metadata": {},
   "source": [
    "## <font color=red> Module_09_取出最大值與最小值的索引位置_argmax()_argmin()</font>"
   ]
  },
  {
   "cell_type": "markdown",
   "id": "fb951640",
   "metadata": {},
   "source": [
    "## np.argmax() 函式的用法"
   ]
  },
  {
   "cell_type": "code",
   "execution_count": null,
   "id": "92b67f80",
   "metadata": {},
   "outputs": [],
   "source": [
    "# np.argmax(a, axis = None, out = None)\n",
    "# a : 傳入要處理的陣列\n",
    "# axis : 設定要沿著哪一軸算出最大值的索引值。假如都沒有設定，會傳回所有元素的最大值的索引位置\n",
    "# out : 可以把傳回結果儲存在一個陣列中。預設值為 None"
   ]
  },
  {
   "cell_type": "code",
   "execution_count": null,
   "id": "9b370da9",
   "metadata": {},
   "outputs": [],
   "source": [
    "import numpy as np\n",
    "\n",
    "a = np.random.randint(10, size = 10)\n",
    "a"
   ]
  },
  {
   "cell_type": "code",
   "execution_count": null,
   "id": "0d7dd6d9",
   "metadata": {},
   "outputs": [],
   "source": [
    "b = np.argmax(a)\n",
    "b"
   ]
  },
  {
   "cell_type": "code",
   "execution_count": null,
   "id": "80f6382e",
   "metadata": {},
   "outputs": [],
   "source": [
    "b = a.argmax() # 也可以用 ndarray物件.argmax() 物件方法的用法\n",
    "b"
   ]
  },
  {
   "cell_type": "code",
   "execution_count": null,
   "id": "2843755c",
   "metadata": {},
   "outputs": [],
   "source": [
    "c = np.random.randint(10, size = (3, 4))\n",
    "c"
   ]
  },
  {
   "cell_type": "code",
   "execution_count": null,
   "id": "83081dbe",
   "metadata": {},
   "outputs": [],
   "source": [
    "d = np.argmax(c) # 若沒有設定 axis 參數，此時陣列會先展平(flatten)成一軸陣列，傳回元素中最大值的索引位置\n",
    "d"
   ]
  },
  {
   "cell_type": "code",
   "execution_count": null,
   "id": "b247efd2",
   "metadata": {},
   "outputs": [],
   "source": [
    "e = np.argmax(c, axis = 0) # 沿著第 0 軸比對，第 0 軸會被比對掉，會返回 (4, ) 的陣列\n",
    "e"
   ]
  },
  {
   "cell_type": "code",
   "execution_count": null,
   "id": "4386bca0",
   "metadata": {},
   "outputs": [],
   "source": [
    "f = np.argmax(c, axis = 1) # 沿著第 1 軸比對，第 1 軸會被比對掉，會返回 (3, ) 的陣列\n",
    "f"
   ]
  },
  {
   "cell_type": "code",
   "execution_count": null,
   "id": "51a76368",
   "metadata": {},
   "outputs": [],
   "source": [
    "g = np.random.randint(10, size = (2, 3, 4))\n",
    "g"
   ]
  },
  {
   "cell_type": "code",
   "execution_count": null,
   "id": "07d6a4d1",
   "metadata": {},
   "outputs": [],
   "source": [
    "h = np.argmax(g, axis = 0) # 沿著第 0 軸比對，第 0 軸會被比對掉，會返回 (3, 4) 的陣列\n",
    "h"
   ]
  },
  {
   "cell_type": "code",
   "execution_count": null,
   "id": "64335d08",
   "metadata": {},
   "outputs": [],
   "source": [
    "i = np.argmax(g, axis = 1) # 沿著第 1 軸比對，第 1 軸會被比對掉，會返回 (2, 4) 的陣列\n",
    "i"
   ]
  },
  {
   "cell_type": "code",
   "execution_count": null,
   "id": "74b5bc26",
   "metadata": {},
   "outputs": [],
   "source": [
    "j = np.argmax(g, axis = 2) # 沿著第 2 軸比對，第 2 軸會被比對掉，會返回 (2, 3) 的陣列\n",
    "j"
   ]
  },
  {
   "cell_type": "markdown",
   "id": "99880bc5",
   "metadata": {},
   "source": [
    "## np.argmin() 函式的用法"
   ]
  },
  {
   "cell_type": "code",
   "execution_count": null,
   "id": "3f81189e",
   "metadata": {},
   "outputs": [],
   "source": [
    "# np.argmin(a, axis = None, out = None)\n",
    "# a : 傳入要處理的陣列\n",
    "# axis : 設定要沿著哪一軸算出最小值的索引值。假如都沒有設定，會傳回所有元素的最小值的索引位置\n",
    "# out : 可以把傳回結果儲存在一個陣列中。預設值為 None"
   ]
  },
  {
   "cell_type": "code",
   "execution_count": null,
   "id": "430778ca",
   "metadata": {},
   "outputs": [],
   "source": [
    "import numpy as np\n",
    "\n",
    "a = np.array([\n",
    "    [1.2, 1.3, 0.1, 1.5],\n",
    "    [2.1, 0.2, 0.3, 2.0],\n",
    "    [0.1, 0.5, 0.5, 2.3]\n",
    "])\n",
    "\n",
    "a"
   ]
  },
  {
   "cell_type": "code",
   "execution_count": null,
   "id": "1611947e",
   "metadata": {},
   "outputs": [],
   "source": [
    "b = np.argmin(a)\n",
    "b"
   ]
  },
  {
   "cell_type": "code",
   "execution_count": null,
   "id": "d957b87c",
   "metadata": {},
   "outputs": [],
   "source": [
    "c = np.argmin(a, axis = 0)\n",
    "c"
   ]
  },
  {
   "cell_type": "code",
   "execution_count": null,
   "id": "45059ed2",
   "metadata": {},
   "outputs": [],
   "source": [
    "d = np.argmin(a, axis = 1)\n",
    "d"
   ]
  },
  {
   "cell_type": "code",
   "execution_count": null,
   "id": "0abfd12d",
   "metadata": {},
   "outputs": [],
   "source": [
    "e = a.argmin(axis = 1)\n",
    "e"
   ]
  }
 ],
 "metadata": {
  "kernelspec": {
   "display_name": "Python 3",
   "language": "python",
   "name": "python3"
  },
  "language_info": {
   "codemirror_mode": {
    "name": "ipython",
    "version": 3
   },
   "file_extension": ".py",
   "mimetype": "text/x-python",
   "name": "python",
   "nbconvert_exporter": "python",
   "pygments_lexer": "ipython3",
   "version": "3.8.10"
  }
 },
 "nbformat": 4,
 "nbformat_minor": 5
}
