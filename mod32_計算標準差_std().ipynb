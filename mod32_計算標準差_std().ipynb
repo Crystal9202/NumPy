{
 "cells": [
  {
   "cell_type": "markdown",
   "id": "41797fe7",
   "metadata": {},
   "source": [
    "## <font color=red> Module32_計算標準差_std()</font>"
   ]
  },
  {
   "cell_type": "markdown",
   "id": "f5a60ccf",
   "metadata": {},
   "source": [
    "## np.std() 函式的用法"
   ]
  },
  {
   "cell_type": "code",
   "execution_count": null,
   "id": "ab446c4e",
   "metadata": {},
   "outputs": [],
   "source": [
    "# np.std(a, axis = None, dtype = None, out = None, ddof = 0, keepdims = False)\n",
    "# a : 傳入要處理的陣列\n",
    "# axis : 指定要計算哪一軸元素的標準差。預設值為 None\n",
    "# dtype : 設定傳回陣列元素的資料型別\n",
    "# out : 可以把傳回結果儲存在一個陣列中。預設值為 None，不常用\n",
    "# ddof : 標準差公式的開根號是除以資料筆數 N，設定 ddof 參數會改除以 N - ddof。 ddof(Delta degrees of Freedom) 稱為自由度\n",
    "# keepdims : 設定傳回結果的軸數是否保持不變。預設值為 False"
   ]
  },
  {
   "cell_type": "code",
   "execution_count": null,
   "id": "761224ff",
   "metadata": {},
   "outputs": [],
   "source": [
    "# 在計算樣本標準差時，標準差公式的開根號會改為除以 N - 1，此時可設 ddof 參數值為 1 即可"
   ]
  },
  {
   "cell_type": "code",
   "execution_count": null,
   "id": "e45e183a",
   "metadata": {},
   "outputs": [],
   "source": [
    "import numpy as np\n",
    "\n",
    "a = np.random.rand(10)\n",
    "a"
   ]
  },
  {
   "cell_type": "code",
   "execution_count": null,
   "id": "0af20e37",
   "metadata": {},
   "outputs": [],
   "source": [
    "np.std(a)"
   ]
  },
  {
   "cell_type": "code",
   "execution_count": null,
   "id": "38c4874b",
   "metadata": {},
   "outputs": [],
   "source": [
    "b = np.random.rand(2, 3, 4)\n",
    "b"
   ]
  },
  {
   "cell_type": "code",
   "execution_count": null,
   "id": "ac706674",
   "metadata": {},
   "outputs": [],
   "source": [
    "np.std(b, axis = 0)"
   ]
  },
  {
   "cell_type": "code",
   "execution_count": null,
   "id": "7a9dac8c",
   "metadata": {},
   "outputs": [],
   "source": [
    "np.std(b)"
   ]
  },
  {
   "cell_type": "code",
   "execution_count": null,
   "id": "ca1a8fee",
   "metadata": {},
   "outputs": [],
   "source": [
    "np.std(b, ddof = 1)"
   ]
  }
 ],
 "metadata": {
  "kernelspec": {
   "display_name": "Python 3",
   "language": "python",
   "name": "python3"
  },
  "language_info": {
   "codemirror_mode": {
    "name": "ipython",
    "version": 3
   },
   "file_extension": ".py",
   "mimetype": "text/x-python",
   "name": "python",
   "nbconvert_exporter": "python",
   "pygments_lexer": "ipython3",
   "version": "3.8.10"
  }
 },
 "nbformat": 4,
 "nbformat_minor": 5
}
