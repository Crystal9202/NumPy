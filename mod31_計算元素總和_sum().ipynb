{
 "cells": [
  {
   "cell_type": "markdown",
   "id": "ed52cc26",
   "metadata": {},
   "source": [
    "## <font color=red> Module_31_計算元素總和_sum()</font>"
   ]
  },
  {
   "cell_type": "markdown",
   "id": "2fad7b89",
   "metadata": {},
   "source": [
    "## np.sum() 函式與 ndarray物件.sum() 物件方法的用法"
   ]
  },
  {
   "cell_type": "code",
   "execution_count": null,
   "id": "d72a9cb7",
   "metadata": {},
   "outputs": [],
   "source": [
    "# np.sum(a, axis = None, dtype = None, out = None, keepdims = False)\n",
    "# ndarray物件.sum(axis = None, dtype = None, out = None, keepdims = False)\n",
    "# a : 傳入要處理的陣列\n",
    "# axis : 指定要計算哪一軸元素的加總。預設值為 None\n",
    "# dtype : 設定傳回陣列元素的資料型別\n",
    "# out : 可以把傳回結果儲存在一個陣列中。預設值為 None，不常用\n",
    "# keepdims : 設定傳回結果的軸數是否保持不變。預設值為 False"
   ]
  },
  {
   "cell_type": "code",
   "execution_count": null,
   "id": "9baa923d",
   "metadata": {},
   "outputs": [],
   "source": [
    "import numpy as np\n",
    "\n",
    "a = np.random.randint(0, 10, size = (2, 5))\n",
    "a"
   ]
  },
  {
   "cell_type": "code",
   "execution_count": null,
   "id": "38aa29d6",
   "metadata": {},
   "outputs": [],
   "source": [
    "np.sum(a)"
   ]
  },
  {
   "cell_type": "code",
   "execution_count": null,
   "id": "4d10d153",
   "metadata": {},
   "outputs": [],
   "source": [
    "b = np.array([2, 4, 1, 6])\n",
    "b"
   ]
  },
  {
   "cell_type": "code",
   "execution_count": null,
   "id": "9d37c421",
   "metadata": {},
   "outputs": [],
   "source": [
    "np.sum(b)"
   ]
  },
  {
   "cell_type": "code",
   "execution_count": null,
   "id": "2cffdec0",
   "metadata": {},
   "outputs": [],
   "source": [
    "c = np.random.randint(0, 10, size = (2, 4, 5))\n",
    "c"
   ]
  },
  {
   "cell_type": "code",
   "execution_count": null,
   "id": "96edd8f4",
   "metadata": {},
   "outputs": [],
   "source": [
    "np.sum(c)"
   ]
  },
  {
   "cell_type": "markdown",
   "id": "88ddb0a0",
   "metadata": {},
   "source": [
    "---"
   ]
  },
  {
   "cell_type": "code",
   "execution_count": null,
   "id": "a52edb01",
   "metadata": {},
   "outputs": [],
   "source": [
    "a"
   ]
  },
  {
   "cell_type": "code",
   "execution_count": null,
   "id": "b6a048eb",
   "metadata": {},
   "outputs": [],
   "source": [
    "np.sum(a, axis = 0)"
   ]
  },
  {
   "cell_type": "code",
   "execution_count": null,
   "id": "8a4d6ca1",
   "metadata": {},
   "outputs": [],
   "source": [
    "np.sum(a, axis = 1)"
   ]
  },
  {
   "cell_type": "code",
   "execution_count": null,
   "id": "10fd2cc5",
   "metadata": {},
   "outputs": [],
   "source": [
    "c"
   ]
  },
  {
   "cell_type": "code",
   "execution_count": null,
   "id": "f51b7262",
   "metadata": {},
   "outputs": [],
   "source": [
    "np.sum(c, axis = 0)"
   ]
  },
  {
   "cell_type": "code",
   "execution_count": null,
   "id": "0c67359d",
   "metadata": {},
   "outputs": [],
   "source": [
    "np.sum(c, axis = 1)"
   ]
  },
  {
   "cell_type": "code",
   "execution_count": null,
   "id": "8a58e745",
   "metadata": {},
   "outputs": [],
   "source": [
    "np.sum(c, axis = 2)"
   ]
  },
  {
   "cell_type": "code",
   "execution_count": null,
   "id": "94d9bbf5",
   "metadata": {},
   "outputs": [],
   "source": [
    "np.sum(c, axis = 0, keepdims = True)"
   ]
  },
  {
   "cell_type": "code",
   "execution_count": null,
   "id": "1ee06e1f",
   "metadata": {},
   "outputs": [],
   "source": [
    "np.sum(c, axis = 1, keepdims = True)"
   ]
  },
  {
   "cell_type": "code",
   "execution_count": null,
   "id": "6a7da152",
   "metadata": {},
   "outputs": [],
   "source": [
    "np.sum(c, axis = 2, keepdims = True)"
   ]
  }
 ],
 "metadata": {
  "kernelspec": {
   "display_name": "Python 3",
   "language": "python",
   "name": "python3"
  },
  "language_info": {
   "codemirror_mode": {
    "name": "ipython",
    "version": 3
   },
   "file_extension": ".py",
   "mimetype": "text/x-python",
   "name": "python",
   "nbconvert_exporter": "python",
   "pygments_lexer": "ipython3",
   "version": "3.8.10"
  }
 },
 "nbformat": 4,
 "nbformat_minor": 5
}
