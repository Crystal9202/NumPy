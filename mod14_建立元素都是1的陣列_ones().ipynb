{
 "cells": [
  {
   "cell_type": "markdown",
   "id": "5ff8ecbd",
   "metadata": {},
   "source": [
    "## <font color=red> Module_14_建立元素都是1的陣列_ones()</font>"
   ]
  },
  {
   "cell_type": "markdown",
   "id": "eb4e7963",
   "metadata": {},
   "source": [
    "## np.ones() 函式的用法"
   ]
  },
  {
   "cell_type": "code",
   "execution_count": null,
   "id": "fe21cb75",
   "metadata": {},
   "outputs": [],
   "source": [
    "# np.ones(shape, dtype = float, order = 'C')\n",
    "# shape : 設定陣列的形狀\n",
    "# dtype : 設定元素的資料型態，預設值為 float64\n",
    "# order : 設定陣列元素在記憶體內的排列方式，預設值為 order = \"C\"。 在此不常使用"
   ]
  },
  {
   "cell_type": "code",
   "execution_count": null,
   "id": "102887e9",
   "metadata": {},
   "outputs": [],
   "source": [
    "import numpy as np\n",
    "\n",
    "a = np.ones(3)\n",
    "a"
   ]
  },
  {
   "cell_type": "code",
   "execution_count": null,
   "id": "1a066dd3",
   "metadata": {},
   "outputs": [],
   "source": [
    "b = np.ones((2, 3))\n",
    "b"
   ]
  },
  {
   "cell_type": "code",
   "execution_count": null,
   "id": "c1762437",
   "metadata": {},
   "outputs": [],
   "source": [
    "c = np.ones(4, dtype = np.int8)\n",
    "c"
   ]
  },
  {
   "cell_type": "markdown",
   "id": "2778a699",
   "metadata": {},
   "source": [
    "## np.ones_like() 函式的用法"
   ]
  },
  {
   "cell_type": "code",
   "execution_count": null,
   "id": "f03896ca",
   "metadata": {},
   "outputs": [],
   "source": [
    "# np.ones_like(a, dtype = None)\n",
    "# a : 陣列\n",
    "# 會返回與 a 陣列同形狀且元素同資料型態，但元素為一的陣列"
   ]
  },
  {
   "cell_type": "code",
   "execution_count": null,
   "id": "85cb17dc",
   "metadata": {},
   "outputs": [],
   "source": [
    "import numpy as np\n",
    "\n",
    "a = np.array([[1, 2.4, 3], [2.1, 3, 4]])\n",
    "a"
   ]
  },
  {
   "cell_type": "code",
   "execution_count": null,
   "id": "4383033d",
   "metadata": {},
   "outputs": [],
   "source": [
    "b = np.ones_like(a)\n",
    "b"
   ]
  },
  {
   "cell_type": "code",
   "execution_count": null,
   "id": "63e1441b",
   "metadata": {},
   "outputs": [],
   "source": [
    "c = np.array([2, 3, 4], dtype = \"int8\")\n",
    "c"
   ]
  },
  {
   "cell_type": "code",
   "execution_count": null,
   "id": "b9020f00",
   "metadata": {},
   "outputs": [],
   "source": [
    "d = np.ones_like(c) # 會返回同形狀且元素同資料型態，但元素為一的陣列\n",
    "d"
   ]
  }
 ],
 "metadata": {
  "kernelspec": {
   "display_name": "Python 3",
   "language": "python",
   "name": "python3"
  },
  "language_info": {
   "codemirror_mode": {
    "name": "ipython",
    "version": 3
   },
   "file_extension": ".py",
   "mimetype": "text/x-python",
   "name": "python",
   "nbconvert_exporter": "python",
   "pygments_lexer": "ipython3",
   "version": "3.8.10"
  }
 },
 "nbformat": 4,
 "nbformat_minor": 5
}
