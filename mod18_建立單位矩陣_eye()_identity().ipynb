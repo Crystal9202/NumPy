{
 "cells": [
  {
   "cell_type": "markdown",
   "id": "33c333b7",
   "metadata": {},
   "source": [
    "## <font color=red> Module_18_建立單位矩陣_eye()_identity()</font>"
   ]
  },
  {
   "cell_type": "markdown",
   "id": "2a649e0b",
   "metadata": {},
   "source": [
    "## np.eye() 函式的用法"
   ]
  },
  {
   "cell_type": "code",
   "execution_count": null,
   "id": "a6a2057a",
   "metadata": {},
   "outputs": [],
   "source": [
    "# 單位矩陣就是對角線是 1，其餘是 0 的矩陣"
   ]
  },
  {
   "cell_type": "code",
   "execution_count": null,
   "id": "cd2ccc1d",
   "metadata": {},
   "outputs": [],
   "source": [
    "# np.eye(N, M = None, k = 0, dtype = float, order = 'C')\n",
    "# N : 設定陣列的列數\n",
    "# M : 設定陣列的行數。若是省略則表示與 N 同值，則會建立 N×N 的陣列。預設值為 None\n",
    "# k : 此參數在調整元素為 1 這條對角線的位置。若是 k 值為正則對角線往上偏移，若 k 值為負，則對角線往上偏移。預設值為 0\n",
    "# dtype : 設定陣列的資料型態。預設值為 float\n",
    "# order : 設定陣列元素在記憶體內的排列方式，預設為 order = 'C'，不常使用"
   ]
  },
  {
   "cell_type": "code",
   "execution_count": null,
   "id": "ed015f53",
   "metadata": {},
   "outputs": [],
   "source": [
    "import numpy as np \n",
    "\n",
    "a = np.eye(3)\n",
    "a"
   ]
  },
  {
   "cell_type": "code",
   "execution_count": null,
   "id": "13733101",
   "metadata": {},
   "outputs": [],
   "source": [
    "b = np.eye(10)\n",
    "b"
   ]
  },
  {
   "cell_type": "code",
   "execution_count": null,
   "id": "98ee461f",
   "metadata": {},
   "outputs": [],
   "source": [
    "c = np.eye(2, 3)\n",
    "c"
   ]
  },
  {
   "cell_type": "code",
   "execution_count": null,
   "id": "29b4a57d",
   "metadata": {},
   "outputs": [],
   "source": [
    "d = np.eye(5, 4)\n",
    "d"
   ]
  },
  {
   "cell_type": "code",
   "execution_count": null,
   "id": "b97626d5",
   "metadata": {},
   "outputs": [],
   "source": [
    "e = np.eye(5, k = 0)\n",
    "e"
   ]
  },
  {
   "cell_type": "code",
   "execution_count": null,
   "id": "99d10cc2",
   "metadata": {},
   "outputs": [],
   "source": [
    "f = np.eye(5, k = 1)\n",
    "f"
   ]
  },
  {
   "cell_type": "code",
   "execution_count": null,
   "id": "a7a3745b",
   "metadata": {},
   "outputs": [],
   "source": [
    "g = np.eye(5, k = -1)\n",
    "g"
   ]
  },
  {
   "cell_type": "code",
   "execution_count": null,
   "id": "736a4b2a",
   "metadata": {},
   "outputs": [],
   "source": [
    "h = np.eye(5, k = 3)\n",
    "h"
   ]
  },
  {
   "cell_type": "markdown",
   "id": "fbb0ce11",
   "metadata": {},
   "source": [
    "## np.identity() 函式的用法"
   ]
  },
  {
   "cell_type": "code",
   "execution_count": null,
   "id": "01f3bc98",
   "metadata": {},
   "outputs": [],
   "source": [
    "# np.identity(N, dtype = float)\n",
    "# N : 指定 N 值，會建立 N×N 的陣列\n",
    "# dtype : 設定陣列的資料型態。預設值為 float"
   ]
  },
  {
   "cell_type": "code",
   "execution_count": null,
   "id": "522ebd56",
   "metadata": {},
   "outputs": [],
   "source": [
    "import numpy as np\n",
    "\n",
    "a = np.identity(5)\n",
    "a"
   ]
  },
  {
   "cell_type": "code",
   "execution_count": null,
   "id": "a01ce52b",
   "metadata": {},
   "outputs": [],
   "source": [
    "b = np.identity(2)\n",
    "b"
   ]
  },
  {
   "cell_type": "markdown",
   "id": "91d06372",
   "metadata": {},
   "source": [
    "---"
   ]
  },
  {
   "cell_type": "code",
   "execution_count": null,
   "id": "19019fd8",
   "metadata": {},
   "outputs": [],
   "source": [
    "# np.eye() 與 np.identity()函式的速度比較\n",
    "# 時間差不多\n",
    "# np.eye() 功能較多，np.identity() 較陽春。用 np.eye() 為主\n",
    "\n",
    "%timeit np.eye(10000)\n",
    "%timeit np.identity(10000)"
   ]
  }
 ],
 "metadata": {
  "kernelspec": {
   "display_name": "Python 3",
   "language": "python",
   "name": "python3"
  },
  "language_info": {
   "codemirror_mode": {
    "name": "ipython",
    "version": 3
   },
   "file_extension": ".py",
   "mimetype": "text/x-python",
   "name": "python",
   "nbconvert_exporter": "python",
   "pygments_lexer": "ipython3",
   "version": "3.8.10"
  }
 },
 "nbformat": 4,
 "nbformat_minor": 5
}
