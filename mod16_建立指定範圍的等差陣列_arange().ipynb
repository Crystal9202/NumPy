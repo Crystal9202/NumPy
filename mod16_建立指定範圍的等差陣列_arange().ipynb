{
 "cells": [
  {
   "cell_type": "markdown",
   "id": "69e6ae6f",
   "metadata": {},
   "source": [
    "## <font color=red> Module_16_建立指定範圍的等差陣列_arange()</font>"
   ]
  },
  {
   "cell_type": "markdown",
   "id": "25319dc5",
   "metadata": {},
   "source": [
    "## np.arange() 函式的用法"
   ]
  },
  {
   "cell_type": "code",
   "execution_count": null,
   "id": "2aa1dbaa",
   "metadata": {},
   "outputs": [],
   "source": [
    "# np.arange(start, stop, step, dtype = None)\n",
    "# start : 設定起始值。 可以省略，省略表示起始值為 0 開始\n",
    "# stop : 設定終止值。 不會包含 stop 的值\n",
    "# step : 設定元素的遞增量，預設值為 1\n",
    "# dtype : 設定陣列的資料型態，如果沒有設定，產生的陣列會套用 start、stop、step 的參數值型別"
   ]
  },
  {
   "cell_type": "code",
   "execution_count": null,
   "id": "33aa2d4b",
   "metadata": {},
   "outputs": [],
   "source": [
    "import numpy as np\n",
    "\n",
    "a = np.arange(5)\n",
    "a"
   ]
  },
  {
   "cell_type": "code",
   "execution_count": null,
   "id": "d1e0cc72",
   "metadata": {},
   "outputs": [],
   "source": [
    "b = np.arange(-10) # 會傳回空陣列\n",
    "b"
   ]
  },
  {
   "cell_type": "code",
   "execution_count": null,
   "id": "340a2c92",
   "metadata": {},
   "outputs": [],
   "source": [
    "c = np.arange(4.5) # 也能傳入浮點數 # range() 函式則是不可以\n",
    "c "
   ]
  },
  {
   "cell_type": "code",
   "execution_count": null,
   "id": "c441a352",
   "metadata": {},
   "outputs": [],
   "source": [
    "d = np.arange(1, 8)\n",
    "d"
   ]
  },
  {
   "cell_type": "code",
   "execution_count": null,
   "id": "b8bcca1b",
   "metadata": {},
   "outputs": [],
   "source": [
    "e = np.arange(2, 9)\n",
    "e"
   ]
  },
  {
   "cell_type": "code",
   "execution_count": null,
   "id": "6c49476a",
   "metadata": {},
   "outputs": [],
   "source": [
    "f = np.arange(0.5, 4.5)\n",
    "f"
   ]
  },
  {
   "cell_type": "code",
   "execution_count": null,
   "id": "2b1f782c",
   "metadata": {},
   "outputs": [],
   "source": [
    "g = np.arange(0.55, 5.55)\n",
    "g"
   ]
  },
  {
   "cell_type": "code",
   "execution_count": null,
   "id": "997751ce",
   "metadata": {},
   "outputs": [],
   "source": [
    "h = np.arange(2, 12, 2)\n",
    "h"
   ]
  },
  {
   "cell_type": "code",
   "execution_count": null,
   "id": "2aa1cb0d",
   "metadata": {},
   "outputs": [],
   "source": [
    "i = np.arange(2, 5, 0.2)\n",
    "i"
   ]
  },
  {
   "cell_type": "code",
   "execution_count": null,
   "id": "060d66a1",
   "metadata": {},
   "outputs": [],
   "source": [
    "j = np.arange(5, 2, -1)\n",
    "j"
   ]
  },
  {
   "cell_type": "code",
   "execution_count": null,
   "id": "039d5a32",
   "metadata": {},
   "outputs": [],
   "source": [
    "k = np.arange(stop = 3, step = 1)\n",
    "k"
   ]
  },
  {
   "cell_type": "code",
   "execution_count": null,
   "id": "08089d85",
   "metadata": {},
   "outputs": [],
   "source": [
    "l = np.arange(5, dtype = 'float64')\n",
    "l"
   ]
  },
  {
   "cell_type": "code",
   "execution_count": null,
   "id": "0a16c926",
   "metadata": {},
   "outputs": [],
   "source": [
    "m = np.arange(5.0, dtype = 'int')\n",
    "m"
   ]
  },
  {
   "cell_type": "code",
   "execution_count": null,
   "id": "f5d7f959",
   "metadata": {},
   "outputs": [],
   "source": [
    "n = np.arange(0, 5, 0.5, dtype = 'int') # 先決定形狀，再決定裡面的值\n",
    "n"
   ]
  },
  {
   "cell_type": "code",
   "execution_count": null,
   "id": "7d733254",
   "metadata": {},
   "outputs": [],
   "source": [
    "o = np.arange(0, 5 , 1.5, dtype = 'int') # 先決定形狀，再決定裡面的值\n",
    "o"
   ]
  }
 ],
 "metadata": {
  "kernelspec": {
   "display_name": "Python 3",
   "language": "python",
   "name": "python3"
  },
  "language_info": {
   "codemirror_mode": {
    "name": "ipython",
    "version": 3
   },
   "file_extension": ".py",
   "mimetype": "text/x-python",
   "name": "python",
   "nbconvert_exporter": "python",
   "pygments_lexer": "ipython3",
   "version": "3.8.10"
  }
 },
 "nbformat": 4,
 "nbformat_minor": 5
}
