{
 "cells": [
  {
   "cell_type": "markdown",
   "id": "99f0442a",
   "metadata": {},
   "source": [
    "#  <font color=red> Module_00_建立陣列</font>"
   ]
  },
  {
   "cell_type": "markdown",
   "id": "8c923e22",
   "metadata": {},
   "source": [
    "## 一軸陣列(1-dimensional array) "
   ]
  },
  {
   "cell_type": "code",
   "execution_count": null,
   "id": "1410355b",
   "metadata": {},
   "outputs": [],
   "source": [
    "# 引入套件，使用 as 代表別名，可以讓我們少打一點字\n",
    "import numpy as np\n",
    "\n",
    "a = np.array([1, 2, 3]) # 陣列元素可以使用 list 或 tuple 傳入"
   ]
  },
  {
   "cell_type": "code",
   "execution_count": null,
   "id": "dd02c84e",
   "metadata": {},
   "outputs": [],
   "source": [
    "a"
   ]
  },
  {
   "cell_type": "code",
   "execution_count": null,
   "id": "822ce9e0",
   "metadata": {},
   "outputs": [],
   "source": [
    "type(a)"
   ]
  },
  {
   "cell_type": "code",
   "execution_count": null,
   "id": "4506c775",
   "metadata": {},
   "outputs": [],
   "source": [
    "a*3 # 比較與 list 的差別"
   ]
  },
  {
   "cell_type": "code",
   "execution_count": null,
   "id": "d2b787fb",
   "metadata": {},
   "outputs": [],
   "source": [
    "a + 2"
   ]
  },
  {
   "cell_type": "code",
   "execution_count": null,
   "id": "357dee70",
   "metadata": {},
   "outputs": [],
   "source": [
    "a.dtype"
   ]
  },
  {
   "cell_type": "code",
   "execution_count": null,
   "id": "8948f293",
   "metadata": {},
   "outputs": [],
   "source": [
    "a.size"
   ]
  },
  {
   "cell_type": "code",
   "execution_count": null,
   "id": "24420dab",
   "metadata": {},
   "outputs": [],
   "source": [
    "a.shape"
   ]
  },
  {
   "cell_type": "markdown",
   "id": "4f1b9023",
   "metadata": {},
   "source": [
    "---"
   ]
  },
  {
   "cell_type": "code",
   "execution_count": null,
   "id": "8bb8a93c",
   "metadata": {},
   "outputs": [],
   "source": [
    "a = np.array([1, 2, 3])\n",
    "b = np.array([2, 3, 0])"
   ]
  },
  {
   "cell_type": "code",
   "execution_count": null,
   "id": "78d31056",
   "metadata": {},
   "outputs": [],
   "source": [
    "a + b "
   ]
  },
  {
   "cell_type": "code",
   "execution_count": null,
   "id": "05a8dd54",
   "metadata": {},
   "outputs": [],
   "source": [
    "a/b"
   ]
  },
  {
   "cell_type": "code",
   "execution_count": null,
   "id": "f367a69a",
   "metadata": {},
   "outputs": [],
   "source": [
    "a*b"
   ]
  },
  {
   "cell_type": "markdown",
   "id": "4e1f254e",
   "metadata": {},
   "source": [
    "---"
   ]
  },
  {
   "cell_type": "code",
   "execution_count": null,
   "id": "7b470ae2",
   "metadata": {},
   "outputs": [],
   "source": [
    "# 其他建立一軸陣列的方式\n",
    "\n",
    "data = np.empty(3)\n",
    "print(data, data.shape)\n",
    "data = np.zeros(6)\n",
    "print(data, data.shape)\n",
    "data = np.ones(10)\n",
    "print(data, data.shape)\n",
    "data = np.arange(9)\n",
    "print(data, data.shape)\n",
    "data = np.arange(0, 10, 2)\n",
    "print(data, data.shape)\n",
    "data = np.linspace(0, 10, 15) # 將 0 ~ 10 之間用 15 個數字做均分，包含終點共 15 個數字，所以是分成 14 個等分\n",
    "print(data, data.shape)"
   ]
  },
  {
   "cell_type": "markdown",
   "id": "c3b9471a",
   "metadata": {},
   "source": [
    "---"
   ]
  },
  {
   "cell_type": "code",
   "execution_count": null,
   "id": "948ecdc0",
   "metadata": {},
   "outputs": [],
   "source": [
    "# indexing\n",
    "\n",
    "a = np.array([1, 2, 3, 4, 5])\n",
    "a[0]"
   ]
  },
  {
   "cell_type": "code",
   "execution_count": null,
   "id": "eee3e961",
   "metadata": {},
   "outputs": [],
   "source": [
    "# slicing\n",
    "\n",
    "print(a[1:3])\n",
    "print(a[0:2:2])\n",
    "print(a[::2])\n",
    "print(a[::-1])"
   ]
  },
  {
   "cell_type": "code",
   "execution_count": null,
   "id": "80980bd1",
   "metadata": {},
   "outputs": [],
   "source": [
    "# 透過 mask 布林遮罩可以決定要取出哪些符合條件的元素陣列\n",
    "\n",
    "mask = (a%3 == 0)\n",
    "print(mask)\n",
    "print(a[mask]) # 注意 mask 是元素都是布林值的 1-d array "
   ]
  },
  {
   "cell_type": "code",
   "execution_count": null,
   "id": "9e067fe7",
   "metadata": {},
   "outputs": [],
   "source": [
    "# 可變\n",
    "\n",
    "b = np.array([4, 5, 6])\n",
    "b[0] = 10\n",
    "b"
   ]
  },
  {
   "cell_type": "markdown",
   "id": "460e414b",
   "metadata": {},
   "source": [
    "## 二軸陣列(2-dimensional array) "
   ]
  },
  {
   "cell_type": "code",
   "execution_count": null,
   "id": "d79ccd8f",
   "metadata": {},
   "outputs": [],
   "source": [
    "c = np.array([[1, 2, 3],\n",
    "              [4, 5, 6]]) \n",
    "\n",
    "print(c)\n",
    "print(type(c))\n",
    "print(c.dtype)\n",
    "print(c.size)\n",
    "print(c.shape)"
   ]
  },
  {
   "cell_type": "code",
   "execution_count": null,
   "id": "d6aae6aa",
   "metadata": {},
   "outputs": [],
   "source": [
    "data = np.array([\n",
    "    [1, 2, 3, 4]\n",
    "])\n",
    "print(data, data.shape) # 二維陣列 # shape 方法會以 tuple 呈現\n",
    "data = np.array([1, 2, 3, 4])\n",
    "print(data, data.shape) # 一維陣列"
   ]
  },
  {
   "cell_type": "code",
   "execution_count": null,
   "id": "613befa3",
   "metadata": {},
   "outputs": [],
   "source": [
    "#　其他建立二軸陣列的方式\n",
    "\n",
    "data =np.ones((2, 3))\n",
    "print(data)\n",
    "data =np.zeros((5, 2))\n",
    "print(data)\n",
    "data =np.empty((2, 5)) # 產生極小的隨機數， 三個這個方式速度最快\n",
    "print(data)"
   ]
  },
  {
   "cell_type": "code",
   "execution_count": null,
   "id": "4b0b93f3",
   "metadata": {},
   "outputs": [],
   "source": [
    "a  = np.array([\n",
    "    [1, 2, 3],\n",
    "    [4, 5, 6],\n",
    "    [7, 8, 9]\n",
    "])\n",
    "\n",
    "# indexing\n",
    "a[1, 2]"
   ]
  },
  {
   "cell_type": "code",
   "execution_count": null,
   "id": "baa3447e",
   "metadata": {},
   "outputs": [],
   "source": [
    "# slicing\n",
    "y = a[:, 0:2]\n",
    "print(y, y.shape)"
   ]
  },
  {
   "cell_type": "code",
   "execution_count": null,
   "id": "4bdd4e45",
   "metadata": {},
   "outputs": [],
   "source": [
    "y = a[0:3:2, 0:2]\n",
    "print(y, y.shape)"
   ]
  },
  {
   "cell_type": "code",
   "execution_count": null,
   "id": "289ac1bb",
   "metadata": {},
   "outputs": [],
   "source": [
    "y = a[:, 0:1]\n",
    "print(y, y.shape)"
   ]
  },
  {
   "cell_type": "code",
   "execution_count": null,
   "id": "2530602e",
   "metadata": {},
   "outputs": [],
   "source": [
    "y = a[:, 1]\n",
    "print(y, y.shape)"
   ]
  },
  {
   "cell_type": "markdown",
   "id": "edb39fa0",
   "metadata": {},
   "source": [
    "---"
   ]
  },
  {
   "cell_type": "code",
   "execution_count": null,
   "id": "b2797e18",
   "metadata": {},
   "outputs": [],
   "source": [
    "# 可變\n",
    "\n",
    "a  = np.array([\n",
    "    [1, 2, 3],\n",
    "    [4, 5, 6],\n",
    "    [7, 8, 9]\n",
    "])\n",
    "\n",
    "a[0, 0] = 5\n",
    "a"
   ]
  },
  {
   "cell_type": "code",
   "execution_count": null,
   "id": "e20986fb",
   "metadata": {},
   "outputs": [],
   "source": [
    "b = a[:, 0:2]\n",
    "b"
   ]
  },
  {
   "cell_type": "code",
   "execution_count": null,
   "id": "f7e597e1",
   "metadata": {},
   "outputs": [],
   "source": [
    "b[0, 1] = 10\n",
    "b"
   ]
  },
  {
   "cell_type": "code",
   "execution_count": null,
   "id": "4756ed32",
   "metadata": {},
   "outputs": [],
   "source": [
    "a # a 會跟著改變"
   ]
  },
  {
   "cell_type": "markdown",
   "id": "d9053510",
   "metadata": {},
   "source": [
    "## 三軸陣列(3-dimensional array) "
   ]
  },
  {
   "cell_type": "code",
   "execution_count": null,
   "id": "8b03c7ee",
   "metadata": {},
   "outputs": [],
   "source": [
    "data = np.array([\n",
    "    [\n",
    "        [1, 2, 3], \n",
    "        [3, 4, 4]\n",
    "    ],\n",
    "    [\n",
    "        [5, 6, 9], \n",
    "        [7, 8, 1]\n",
    "    ]\n",
    "])  # 先看第一層有幾個資料， 再看第二層， 再看第三層。\n",
    "\n",
    "print(data)\n",
    "print(data.shape)"
   ]
  },
  {
   "cell_type": "code",
   "execution_count": null,
   "id": "d7fb080a",
   "metadata": {},
   "outputs": [],
   "source": [
    "data = np.zeros([3, 1, 3])\n",
    "print(data)"
   ]
  },
  {
   "cell_type": "markdown",
   "id": "7cf76516",
   "metadata": {},
   "source": [
    "## 多軸陣列(n-dimensional array) "
   ]
  },
  {
   "cell_type": "code",
   "execution_count": null,
   "id": "8589c287",
   "metadata": {},
   "outputs": [],
   "source": [
    "data = np.array([\n",
    "    [\n",
    "        [\n",
    "          [1, 2, 3]  \n",
    "        ],\n",
    "        [\n",
    "          [4, 5, 6]\n",
    "        ]\n",
    "    ]\n",
    "])\n",
    "\n",
    "print(data, data.shape)"
   ]
  },
  {
   "cell_type": "code",
   "execution_count": null,
   "id": "5f2627e6",
   "metadata": {},
   "outputs": [],
   "source": [
    "data = np.ones([2, 1, 1, 2])\n",
    "print(data)"
   ]
  }
 ],
 "metadata": {
  "kernelspec": {
   "display_name": "Python 3",
   "language": "python",
   "name": "python3"
  },
  "language_info": {
   "codemirror_mode": {
    "name": "ipython",
    "version": 3
   },
   "file_extension": ".py",
   "mimetype": "text/x-python",
   "name": "python",
   "nbconvert_exporter": "python",
   "pygments_lexer": "ipython3",
   "version": "3.8.10"
  }
 },
 "nbformat": 4,
 "nbformat_minor": 5
}
