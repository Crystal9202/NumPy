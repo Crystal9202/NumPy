{
 "cells": [
  {
   "cell_type": "markdown",
   "id": "ed186e28",
   "metadata": {},
   "source": [
    "## <font color=red> Module_20_將陣列展平為一軸陣列_ravel()</font>"
   ]
  },
  {
   "cell_type": "markdown",
   "id": "5a4d918e",
   "metadata": {},
   "source": [
    "## np.ravel() 函式與 ndarray物件.ravel() 物件方法的用法"
   ]
  },
  {
   "cell_type": "code",
   "execution_count": null,
   "id": "6ccef786",
   "metadata": {},
   "outputs": [],
   "source": [
    "# np.ravel(a, order = 'C')\n",
    "# ndarray.ravel(order = 'C')\n",
    "# a : 傳入要展平成一軸陣列的陣列\n",
    "# order : 設定陣列元素在記憶體內的排列方式，預設為 order = 'C'，還有 order = 'F'、order = 'A'、order = 'K'"
   ]
  },
  {
   "cell_type": "code",
   "execution_count": null,
   "id": "28dfc685",
   "metadata": {},
   "outputs": [],
   "source": [
    "# np.ravel() 函式運算後是傳回一個陣列的 view，也就是運算後的結果會與原陣列參照相同的記憶體物件\n",
    "# 好處是速度比 ndarray.flatten() 快"
   ]
  },
  {
   "cell_type": "code",
   "execution_count": null,
   "id": "82817855",
   "metadata": {},
   "outputs": [],
   "source": [
    "import numpy as np\n",
    "\n",
    "a = np.arange(10).reshape(2, 5)\n",
    "a"
   ]
  },
  {
   "cell_type": "code",
   "execution_count": null,
   "id": "2070f2a4",
   "metadata": {},
   "outputs": [],
   "source": [
    "b = a.ravel()\n",
    "b"
   ]
  },
  {
   "cell_type": "code",
   "execution_count": null,
   "id": "7fc7a7b8",
   "metadata": {},
   "outputs": [],
   "source": [
    "c = np.ravel(a)\n",
    "c"
   ]
  },
  {
   "cell_type": "code",
   "execution_count": null,
   "id": "b35b4201",
   "metadata": {},
   "outputs": [],
   "source": [
    "d = a.ravel(order = 'C') # order = 'C' 表示從最裡面的軸來看\n",
    "d"
   ]
  },
  {
   "cell_type": "code",
   "execution_count": null,
   "id": "252a7a3b",
   "metadata": {},
   "outputs": [],
   "source": [
    "e = a.ravel(order = 'F') # order = 'F' 表示從最外面的軸來看\n",
    "e"
   ]
  },
  {
   "cell_type": "markdown",
   "id": "232b7bc3",
   "metadata": {},
   "source": [
    "---"
   ]
  },
  {
   "cell_type": "code",
   "execution_count": null,
   "id": "f2923337",
   "metadata": {},
   "outputs": [],
   "source": [
    "f = np.arange(10).reshape(2, 5, order = 'F')\n",
    "f "
   ]
  },
  {
   "cell_type": "code",
   "execution_count": null,
   "id": "72d19584",
   "metadata": {},
   "outputs": [],
   "source": [
    "g = f.ravel(order = 'F')\n",
    "g"
   ]
  },
  {
   "cell_type": "code",
   "execution_count": null,
   "id": "a4af3d38",
   "metadata": {},
   "outputs": [],
   "source": [
    "h = f.ravel(order = 'A') # 參數 'A' 的意思是以哪種方式存入，就以哪種方式取出\n",
    "h"
   ]
  },
  {
   "cell_type": "code",
   "execution_count": null,
   "id": "ed3eeeed",
   "metadata": {},
   "outputs": [],
   "source": [
    "i = f.ravel() # 預設得參數是 order = 'C'\n",
    "i"
   ]
  },
  {
   "cell_type": "markdown",
   "id": "8f7bd13c",
   "metadata": {},
   "source": [
    "---"
   ]
  },
  {
   "cell_type": "code",
   "execution_count": null,
   "id": "ab1488eb",
   "metadata": {},
   "outputs": [],
   "source": [
    "j = np.random.randint(10, size = (2, 5))\n",
    "j"
   ]
  },
  {
   "cell_type": "code",
   "execution_count": null,
   "id": "660677b8",
   "metadata": {},
   "outputs": [],
   "source": [
    "k = j.ravel()\n",
    "k"
   ]
  },
  {
   "cell_type": "code",
   "execution_count": null,
   "id": "8621c5e9",
   "metadata": {},
   "outputs": [],
   "source": [
    "k[1] = 100\n",
    "k"
   ]
  },
  {
   "cell_type": "code",
   "execution_count": null,
   "id": "2fa569ad",
   "metadata": {},
   "outputs": [],
   "source": [
    "j "
   ]
  }
 ],
 "metadata": {
  "kernelspec": {
   "display_name": "Python 3",
   "language": "python",
   "name": "python3"
  },
  "language_info": {
   "codemirror_mode": {
    "name": "ipython",
    "version": 3
   },
   "file_extension": ".py",
   "mimetype": "text/x-python",
   "name": "python",
   "nbconvert_exporter": "python",
   "pygments_lexer": "ipython3",
   "version": "3.8.10"
  }
 },
 "nbformat": 4,
 "nbformat_minor": 5
}
