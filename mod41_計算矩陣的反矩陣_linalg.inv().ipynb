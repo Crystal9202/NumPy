{
 "cells": [
  {
   "cell_type": "markdown",
   "id": "b79e8c2c",
   "metadata": {},
   "source": [
    "## <font color=red> Module41_計算矩陣的反矩陣_linalg.inv()</font>"
   ]
  },
  {
   "cell_type": "markdown",
   "id": "bc187de9",
   "metadata": {},
   "source": [
    "## np.linalg.inv() 函式的用法"
   ]
  },
  {
   "cell_type": "code",
   "execution_count": null,
   "id": "d3d5afce",
   "metadata": {},
   "outputs": [],
   "source": [
    "# np.linalg.inv(a)\n",
    "# a : 傳入要處理的陣列。最常是拿二軸陣列來運算，不過也可以處理三軸陣列，只是要留意倒數兩軸的維度要一樣"
   ]
  },
  {
   "cell_type": "code",
   "execution_count": null,
   "id": "37ee08de",
   "metadata": {},
   "outputs": [],
   "source": [
    "import numpy as np\n",
    "\n",
    "a = np.random.randint(-9, 10, size = (2, 2))\n",
    "a"
   ]
  },
  {
   "cell_type": "code",
   "execution_count": null,
   "id": "cf5b11d5",
   "metadata": {},
   "outputs": [],
   "source": [
    "np.linalg.inv(a)"
   ]
  },
  {
   "cell_type": "code",
   "execution_count": null,
   "id": "9f0e99f8",
   "metadata": {},
   "outputs": [],
   "source": [
    "np.dot(a, np.linalg.inv(a))"
   ]
  },
  {
   "cell_type": "code",
   "execution_count": null,
   "id": "443b4e52",
   "metadata": {},
   "outputs": [],
   "source": [
    "b = np.random.randint(-10, 10, size = (3, 3))\n",
    "b"
   ]
  },
  {
   "cell_type": "code",
   "execution_count": null,
   "id": "eb92102f",
   "metadata": {},
   "outputs": [],
   "source": [
    "c = np.linalg.inv(b)\n",
    "c"
   ]
  },
  {
   "cell_type": "code",
   "execution_count": null,
   "id": "77c62f2e",
   "metadata": {},
   "outputs": [],
   "source": [
    "np.dot(b, c)"
   ]
  }
 ],
 "metadata": {
  "kernelspec": {
   "display_name": "Python 3",
   "language": "python",
   "name": "python3"
  },
  "language_info": {
   "codemirror_mode": {
    "name": "ipython",
    "version": 3
   },
   "file_extension": ".py",
   "mimetype": "text/x-python",
   "name": "python",
   "nbconvert_exporter": "python",
   "pygments_lexer": "ipython3",
   "version": "3.8.10"
  }
 },
 "nbformat": 4,
 "nbformat_minor": 5
}
