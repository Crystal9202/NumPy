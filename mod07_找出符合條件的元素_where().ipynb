{
 "cells": [
  {
   "cell_type": "markdown",
   "id": "2a60c3fb",
   "metadata": {},
   "source": [
    "## <font color=red> Module_07_找出符合條件的元素_where()</font>"
   ]
  },
  {
   "cell_type": "markdown",
   "id": "9e670679",
   "metadata": {},
   "source": [
    "## np.where() 函式的用法"
   ]
  },
  {
   "cell_type": "code",
   "execution_count": null,
   "id": "a7e26526",
   "metadata": {},
   "outputs": [],
   "source": [
    "# np.where(condition, x, y)\n",
    "# condition : 最常是設定條件式，例如 a < 2。也可直接傳入 [False, False, True] 等的 ndarray 物件\n",
    "# x, y : 可省略。若省略會回傳符合條件的元素索引值，結果以 tuple 的形式呈現。若不省略，最常是設 x、y為某數或是字串，當條件為真\n",
    "#        以 x 置換掉符合條件的元素值，條件為假時，以 y置換掉條件為假的元素值           "
   ]
  },
  {
   "cell_type": "markdown",
   "id": "bd5c1924",
   "metadata": {},
   "source": [
    "## 用法一 : 只設定條件式"
   ]
  },
  {
   "cell_type": "code",
   "execution_count": null,
   "id": "90e0a5c8",
   "metadata": {},
   "outputs": [],
   "source": [
    "# 只設定條件式時，會回傳符合條件的元素索引位置，結果是以 tuple 的形式呈現\n",
    "\n",
    "import numpy as np\n",
    "\n",
    "a = np.arange(20, 0, -2)\n",
    "a"
   ]
  },
  {
   "cell_type": "code",
   "execution_count": null,
   "id": "b83ea6a5",
   "metadata": {},
   "outputs": [],
   "source": [
    "b = np.where(a < 10) # 原陣列有幾個軸，傳回的 tuple 中就包含幾個元素\n",
    "b"
   ]
  },
  {
   "cell_type": "code",
   "execution_count": null,
   "id": "26113bea",
   "metadata": {},
   "outputs": [],
   "source": [
    "a[b] # Fancy indexing"
   ]
  },
  {
   "cell_type": "markdown",
   "id": "450e76b9",
   "metadata": {},
   "source": [
    "---"
   ]
  },
  {
   "cell_type": "code",
   "execution_count": null,
   "id": "9b7b233e",
   "metadata": {},
   "outputs": [],
   "source": [
    "c = np.arange(12).reshape(3, 4)\n",
    "c"
   ]
  },
  {
   "cell_type": "code",
   "execution_count": null,
   "id": "44f398cc",
   "metadata": {},
   "outputs": [],
   "source": [
    "d = np.where(c%2 == 0) # 原陣列有幾個軸，傳回的 tuple 中就包含幾個元素\n",
    "d"
   ]
  },
  {
   "cell_type": "code",
   "execution_count": null,
   "id": "2fb4bbc5",
   "metadata": {},
   "outputs": [],
   "source": [
    "c[d] # Fancy indexing"
   ]
  },
  {
   "cell_type": "markdown",
   "id": "ab7aa01c",
   "metadata": {},
   "source": [
    "## 用法二 : 所有參數都指定"
   ]
  },
  {
   "cell_type": "code",
   "execution_count": null,
   "id": "c130395b",
   "metadata": {},
   "outputs": [],
   "source": [
    "# 第二種用法是在條件式後面加入 x、y 參數\n",
    "# 最常是設 x、y為某數或是字串，當條件為真，以 x 置換掉符合條件的元素值，條件為假時，以 y置換掉條件為假的元素值  \n",
    "\n",
    "import numpy as np\n",
    "\n",
    "a = np.arange(12).reshape(3, 4)\n",
    "a"
   ]
  },
  {
   "cell_type": "code",
   "execution_count": null,
   "id": "6596877b",
   "metadata": {},
   "outputs": [],
   "source": [
    "b = np.where(a%2 == 0, 'even', 'odd')\n",
    "b"
   ]
  },
  {
   "cell_type": "code",
   "execution_count": null,
   "id": "aececcf0",
   "metadata": {},
   "outputs": [],
   "source": [
    "np.where(a%2 == 0, 'even') # x、y 都必須要設定，這裡只設定 x，沒設定 y，會報錯"
   ]
  },
  {
   "cell_type": "code",
   "execution_count": null,
   "id": "98989b9d",
   "metadata": {},
   "outputs": [],
   "source": [
    "c = np.arange(12).reshape(3, 4)\n",
    "c"
   ]
  },
  {
   "cell_type": "code",
   "execution_count": null,
   "id": "8ddb1975",
   "metadata": {},
   "outputs": [],
   "source": [
    "d = c**2\n",
    "d"
   ]
  },
  {
   "cell_type": "code",
   "execution_count": null,
   "id": "0bb747d9",
   "metadata": {},
   "outputs": [],
   "source": [
    "e = np.where(c%2 == 0, c, d) # x、y 參數也可以代入陣列\n",
    "e"
   ]
  }
 ],
 "metadata": {
  "kernelspec": {
   "display_name": "Python 3",
   "language": "python",
   "name": "python3"
  },
  "language_info": {
   "codemirror_mode": {
    "name": "ipython",
    "version": 3
   },
   "file_extension": ".py",
   "mimetype": "text/x-python",
   "name": "python",
   "nbconvert_exporter": "python",
   "pygments_lexer": "ipython3",
   "version": "3.8.10"
  }
 },
 "nbformat": 4,
 "nbformat_minor": 5
}
