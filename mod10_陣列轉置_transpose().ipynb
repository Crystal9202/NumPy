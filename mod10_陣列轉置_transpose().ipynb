{
 "cells": [
  {
   "cell_type": "markdown",
   "id": "c2c1e984",
   "metadata": {},
   "source": [
    "## <font color=red> Module_10_陣列轉置_transpose()</font>"
   ]
  },
  {
   "cell_type": "markdown",
   "id": "7713c8d2",
   "metadata": {},
   "source": [
    "## np.transpose() 函式的用法"
   ]
  },
  {
   "cell_type": "code",
   "execution_count": null,
   "id": "880a1ae7",
   "metadata": {},
   "outputs": [],
   "source": [
    "# np.transpose(a, axes = None)\n",
    "# a : 傳入要處理的陣列\n",
    "# axes : 指定要如何調動軸的順序。預設值為 None"
   ]
  },
  {
   "cell_type": "code",
   "execution_count": null,
   "id": "85642492",
   "metadata": {},
   "outputs": [],
   "source": [
    "import numpy as np\n",
    "\n",
    "a = np.arange(12).reshape(3, 4)\n",
    "a"
   ]
  },
  {
   "cell_type": "code",
   "execution_count": null,
   "id": "63aa0434",
   "metadata": {},
   "outputs": [],
   "source": [
    "b = np.transpose(a) # 先推測變動後的陣列形狀 (4, 3)，再代入值\n",
    "b"
   ]
  },
  {
   "cell_type": "code",
   "execution_count": null,
   "id": "2b476b41",
   "metadata": {},
   "outputs": [],
   "source": [
    "c = np.transpose(a, (1, 0)) # 先推測變動後的陣列形狀 (4, 3)，再代入值\n",
    "c"
   ]
  },
  {
   "cell_type": "markdown",
   "id": "113f9af2",
   "metadata": {},
   "source": [
    "---"
   ]
  },
  {
   "cell_type": "code",
   "execution_count": null,
   "id": "e6d89343",
   "metadata": {},
   "outputs": [],
   "source": [
    "d = np.arange(6)\n",
    "d"
   ]
  },
  {
   "cell_type": "code",
   "execution_count": null,
   "id": "dd19bdc0",
   "metadata": {},
   "outputs": [],
   "source": [
    "e = np.transpose(d) # 一軸陣列只有一個軸，自然沒有調換順序的問題\n",
    "e"
   ]
  },
  {
   "cell_type": "code",
   "execution_count": null,
   "id": "fe26dd6d",
   "metadata": {},
   "outputs": [],
   "source": [
    "e.shape"
   ]
  },
  {
   "cell_type": "code",
   "execution_count": null,
   "id": "b4e48300",
   "metadata": {},
   "outputs": [],
   "source": [
    "f = d.reshape(1, 6)\n",
    "f"
   ]
  },
  {
   "cell_type": "code",
   "execution_count": null,
   "id": "735ec4f1",
   "metadata": {},
   "outputs": [],
   "source": [
    "g = np.transpose(f) # 先推測變動後的陣列形狀 (6, 1)，再代入值\n",
    "g"
   ]
  },
  {
   "cell_type": "markdown",
   "id": "90c522d7",
   "metadata": {},
   "source": [
    "---"
   ]
  },
  {
   "cell_type": "code",
   "execution_count": null,
   "id": "170ab4aa",
   "metadata": {},
   "outputs": [],
   "source": [
    "h = np.arange(24).reshape(4, 3, 2)\n",
    "h"
   ]
  },
  {
   "cell_type": "code",
   "execution_count": null,
   "id": "7fdda1f0",
   "metadata": {},
   "outputs": [],
   "source": [
    "i = np.transpose(h) # 沒有設定 axes 參數，會以對稱的方式做調換，即 (0, 1, 2) 變成 (2, 1, 0) \n",
    "i # 先推測變動後的陣列形狀 (2, 3, 4)，再代入值 # 考慮匹配問題來填值"
   ]
  },
  {
   "cell_type": "code",
   "execution_count": null,
   "id": "6e63a872",
   "metadata": {},
   "outputs": [],
   "source": [
    "j = np.transpose(h, (1, 0, 2)) # 先推測變動後的陣列形狀 (3, 4, 2)，再代入值 # 考慮匹配問題來填值\n",
    "j "
   ]
  },
  {
   "cell_type": "markdown",
   "id": "9a3806f5",
   "metadata": {},
   "source": [
    "## ndarray物件.transpose() 物件方法的用法"
   ]
  },
  {
   "cell_type": "code",
   "execution_count": null,
   "id": "8f7a486a",
   "metadata": {},
   "outputs": [],
   "source": [
    "# 與 np.transpose() 函數用法一模一樣，只差不需要傳入陣列參數\n",
    "\n",
    "import numpy as np\n",
    "\n",
    "a = np.arange(24).reshape(4, 3, 2)\n",
    "a"
   ]
  },
  {
   "cell_type": "code",
   "execution_count": null,
   "id": "dde5f612",
   "metadata": {},
   "outputs": [],
   "source": [
    "b = a.transpose()\n",
    "b"
   ]
  },
  {
   "cell_type": "code",
   "execution_count": null,
   "id": "ddea03ab",
   "metadata": {},
   "outputs": [],
   "source": [
    "b.shape"
   ]
  },
  {
   "cell_type": "code",
   "execution_count": null,
   "id": "26ff72d6",
   "metadata": {},
   "outputs": [],
   "source": [
    "c = a.transpose((1, 0, 2))\n",
    "c"
   ]
  },
  {
   "cell_type": "code",
   "execution_count": null,
   "id": "7fafa15a",
   "metadata": {},
   "outputs": [],
   "source": [
    "c.shape"
   ]
  },
  {
   "cell_type": "markdown",
   "id": "91232109",
   "metadata": {},
   "source": [
    "## ndarray物件.T 屬性的用法"
   ]
  },
  {
   "cell_type": "code",
   "execution_count": null,
   "id": "96128ee8",
   "metadata": {},
   "outputs": [],
   "source": [
    "# ndarray 物件的【屬性】之一\n",
    "# 沒有辦法指定 axes，其他跟 ndarray物件.transpose() 物件方法一模一樣"
   ]
  },
  {
   "cell_type": "code",
   "execution_count": null,
   "id": "e70936e5",
   "metadata": {},
   "outputs": [],
   "source": [
    "import numpy as np\n",
    "\n",
    "a = np.arange(12).reshape(3, 4)\n",
    "a"
   ]
  },
  {
   "cell_type": "code",
   "execution_count": null,
   "id": "ef6c5533",
   "metadata": {},
   "outputs": [],
   "source": [
    "b = a.T\n",
    "b"
   ]
  },
  {
   "cell_type": "code",
   "execution_count": null,
   "id": "cef4378a",
   "metadata": {},
   "outputs": [],
   "source": [
    "a.transpose().shape == b.shape"
   ]
  },
  {
   "cell_type": "markdown",
   "id": "848901e0",
   "metadata": {},
   "source": [
    "---"
   ]
  },
  {
   "cell_type": "code",
   "execution_count": null,
   "id": "f680f27c",
   "metadata": {},
   "outputs": [],
   "source": [
    "c = np.array([[0, 1, 2, 3, 4, 5]])\n",
    "c"
   ]
  },
  {
   "cell_type": "code",
   "execution_count": null,
   "id": "361992b7",
   "metadata": {},
   "outputs": [],
   "source": [
    "d = c.T\n",
    "d"
   ]
  },
  {
   "cell_type": "code",
   "execution_count": null,
   "id": "cd7553ee",
   "metadata": {},
   "outputs": [],
   "source": [
    "c.transpose().shape == d.shape"
   ]
  },
  {
   "cell_type": "markdown",
   "id": "d9ab3f40",
   "metadata": {},
   "source": [
    "---"
   ]
  },
  {
   "cell_type": "code",
   "execution_count": null,
   "id": "2fbe92d6",
   "metadata": {},
   "outputs": [],
   "source": [
    "e = np.arange(24).reshape(4, 3, 2)\n",
    "e"
   ]
  },
  {
   "cell_type": "code",
   "execution_count": null,
   "id": "26ab2466",
   "metadata": {},
   "outputs": [],
   "source": [
    "f = e.T\n",
    "f"
   ]
  },
  {
   "cell_type": "code",
   "execution_count": null,
   "id": "6af47d52",
   "metadata": {},
   "outputs": [],
   "source": [
    "e.transpose().shape == f.shape"
   ]
  }
 ],
 "metadata": {
  "kernelspec": {
   "display_name": "Python 3",
   "language": "python",
   "name": "python3"
  },
  "language_info": {
   "codemirror_mode": {
    "name": "ipython",
    "version": 3
   },
   "file_extension": ".py",
   "mimetype": "text/x-python",
   "name": "python",
   "nbconvert_exporter": "python",
   "pygments_lexer": "ipython3",
   "version": "3.8.10"
  }
 },
 "nbformat": 4,
 "nbformat_minor": 5
}
