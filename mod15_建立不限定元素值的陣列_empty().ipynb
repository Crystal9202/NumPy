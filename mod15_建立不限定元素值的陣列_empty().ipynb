{
 "cells": [
  {
   "cell_type": "markdown",
   "id": "a4a356e6",
   "metadata": {},
   "source": [
    "## <font color=red> Module_15_建立不限定元素值的陣列_empty()</font>"
   ]
  },
  {
   "cell_type": "markdown",
   "id": "0b7d6fd9",
   "metadata": {},
   "source": [
    "## np.empty() 函式的用法"
   ]
  },
  {
   "cell_type": "code",
   "execution_count": null,
   "id": "0a925783",
   "metadata": {},
   "outputs": [],
   "source": [
    "# np.empty(shape, dtype = float, order = 'C')\n",
    "# shape : 設定陣列的形狀\n",
    "# dtype : 設定元素的資料型態，預設值為 float64\n",
    "# order : 設定陣列元素在記憶體內的排列方式，預設值為 order = \"C\"。 在此不常使用\n",
    "# 與 np.zeros()、np.ones()等函式類似。\n",
    "# 這裡的空的意思是填入隨機極小值"
   ]
  },
  {
   "cell_type": "code",
   "execution_count": null,
   "id": "a66f3f84",
   "metadata": {},
   "outputs": [],
   "source": [
    "import numpy as np\n",
    "\n",
    "a = np.empty(10)\n",
    "a"
   ]
  },
  {
   "cell_type": "code",
   "execution_count": null,
   "id": "730b56d8",
   "metadata": {},
   "outputs": [],
   "source": [
    "b = np.empty((2, 3))\n",
    "b"
   ]
  },
  {
   "cell_type": "code",
   "execution_count": null,
   "id": "604c3cfe",
   "metadata": {},
   "outputs": [],
   "source": [
    "%timeit np.zeros(10000)"
   ]
  },
  {
   "cell_type": "code",
   "execution_count": null,
   "id": "4b1e08a6",
   "metadata": {},
   "outputs": [],
   "source": [
    "%timeit np.ones(10000)"
   ]
  },
  {
   "cell_type": "code",
   "execution_count": null,
   "id": "02578dec",
   "metadata": {},
   "outputs": [],
   "source": [
    "%timeit np.empty(10000)  # 三個比較，np.empty()函數最快"
   ]
  }
 ],
 "metadata": {
  "kernelspec": {
   "display_name": "Python 3",
   "language": "python",
   "name": "python3"
  },
  "language_info": {
   "codemirror_mode": {
    "name": "ipython",
    "version": 3
   },
   "file_extension": ".py",
   "mimetype": "text/x-python",
   "name": "python",
   "nbconvert_exporter": "python",
   "pygments_lexer": "ipython3",
   "version": "3.8.10"
  }
 },
 "nbformat": 4,
 "nbformat_minor": 5
}
