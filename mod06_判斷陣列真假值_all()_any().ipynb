{
 "cells": [
  {
   "cell_type": "markdown",
   "id": "76022956",
   "metadata": {},
   "source": [
    "## <font color=red> Module_06_判斷陣列真假值_all()_any()</font>"
   ]
  },
  {
   "cell_type": "markdown",
   "id": "1d788923",
   "metadata": {},
   "source": [
    "## np.all() 函式的用法"
   ]
  },
  {
   "cell_type": "code",
   "execution_count": null,
   "id": "d161a65b",
   "metadata": {},
   "outputs": [],
   "source": [
    "# np.all(a, axis = None, out = None, keepdims = False)\n",
    "# a : 傳入要處理的陣列\n",
    "# axis : 設定要檢視哪一軸的元素。預設值為 None\n",
    "# out : 可以把傳回結果儲存在一個陣列中。預設值為 None\n",
    "# keepdims : 設定傳回結果的軸數是否保持不變。預設值為 False"
   ]
  },
  {
   "cell_type": "code",
   "execution_count": null,
   "id": "5c3a2c87",
   "metadata": {},
   "outputs": [],
   "source": [
    "import numpy as np\n",
    "\n",
    "a = np.array([\n",
    "    [1, 1, 1],\n",
    "    [1, 0, 1],\n",
    "    [1, 0, 1]\n",
    "])\n",
    "\n",
    "np.all(a)"
   ]
  },
  {
   "cell_type": "code",
   "execution_count": null,
   "id": "0648e200",
   "metadata": {},
   "outputs": [],
   "source": [
    "b = np.ones((3,3))\n",
    "print(b)\n",
    "print(np.all(b))"
   ]
  },
  {
   "cell_type": "code",
   "execution_count": null,
   "id": "5b7d1107",
   "metadata": {},
   "outputs": [],
   "source": [
    "np.all(a < 2) # 參數內可以設定條件式"
   ]
  },
  {
   "cell_type": "code",
   "execution_count": null,
   "id": "2c741507",
   "metadata": {},
   "outputs": [],
   "source": [
    "np.all(b%3 < 2) "
   ]
  },
  {
   "cell_type": "code",
   "execution_count": null,
   "id": "67c4c324",
   "metadata": {},
   "outputs": [],
   "source": [
    "# 沿著第 0 軸比對，第 0 軸會被比對掉\n",
    "# 所以 shape 會從 (3, 3) 變成 (3, )\n",
    "\n",
    "np.all(a, axis = 0) "
   ]
  },
  {
   "cell_type": "code",
   "execution_count": null,
   "id": "13d4cfc4",
   "metadata": {},
   "outputs": [],
   "source": [
    "# 沿著第 1 軸比對，第 1 軸會被比對掉\n",
    "# 所以 shape 會從 (3, 3) 變成 (3, )\n",
    "\n",
    "np.all(a, axis = 1) "
   ]
  },
  {
   "cell_type": "code",
   "execution_count": null,
   "id": "dedcf7fe",
   "metadata": {},
   "outputs": [],
   "source": [
    "# 加入 keepdims = True，原始陣列為二軸，運算結果也會是二軸\n",
    "\n",
    "np.all(a, axis = 0, keepdims = True) "
   ]
  },
  {
   "cell_type": "code",
   "execution_count": null,
   "id": "fc57790c",
   "metadata": {},
   "outputs": [],
   "source": [
    "# 要使用 out 參數，需要事先指定一個與回傳值同形狀的陣列\n",
    "# out 參數不常用\n",
    "\n",
    "array = np.zeros((1,3))\n",
    "np.all(a, axis = 0, out = array , keepdims = True)\n",
    "array"
   ]
  },
  {
   "cell_type": "markdown",
   "id": "ea22b051",
   "metadata": {},
   "source": [
    "## ndarray物件.all() 物件方法的用法"
   ]
  },
  {
   "cell_type": "code",
   "execution_count": null,
   "id": "2b4f5d76",
   "metadata": {},
   "outputs": [],
   "source": [
    "import numpy as np\n",
    "\n",
    "a = np.array([\n",
    "    [1, 1, 1],\n",
    "    [1, 0, 1],\n",
    "    [1, 0, 1]\n",
    "])\n",
    "\n",
    "b = np.ones((3,3))\n",
    "\n",
    "print(a)\n",
    "print(b)"
   ]
  },
  {
   "cell_type": "code",
   "execution_count": null,
   "id": "1434cc80",
   "metadata": {},
   "outputs": [],
   "source": [
    "print(a.all())\n",
    "print(b.all(keepdims = True))"
   ]
  },
  {
   "cell_type": "code",
   "execution_count": null,
   "id": "259d5916",
   "metadata": {},
   "outputs": [],
   "source": [
    "a.all(axis = 0)"
   ]
  },
  {
   "cell_type": "code",
   "execution_count": null,
   "id": "cc1c4c2e",
   "metadata": {},
   "outputs": [],
   "source": [
    "(a < 2).all()"
   ]
  },
  {
   "cell_type": "code",
   "execution_count": null,
   "id": "534eabbc",
   "metadata": {},
   "outputs": [],
   "source": [
    "(a == b).all() # 用來比對兩陣列是否相同"
   ]
  },
  {
   "cell_type": "markdown",
   "id": "d644e908",
   "metadata": {},
   "source": [
    "## np.any() 函式的用法"
   ]
  },
  {
   "cell_type": "code",
   "execution_count": null,
   "id": "1fc849aa",
   "metadata": {},
   "outputs": [],
   "source": [
    "# np.any(a, axis = None, out = None, keepdims = False)\n",
    "# a : 傳入要處理的陣列\n",
    "# axis : 設定要檢視哪一軸的元素。預設值為 None\n",
    "# out : 可以把傳回結果儲存在一個陣列中。預設值為 None\n",
    "# keepdims : 設定傳回結果的軸數是否保持不變。預設值為 False"
   ]
  },
  {
   "cell_type": "code",
   "execution_count": null,
   "id": "cde5be58",
   "metadata": {},
   "outputs": [],
   "source": [
    "import numpy as np\n",
    "\n",
    "a = np.random.randint(10, size = (2, 3))\n",
    "a"
   ]
  },
  {
   "cell_type": "code",
   "execution_count": null,
   "id": "53d7abde",
   "metadata": {},
   "outputs": [],
   "source": [
    "np.any(a == 9)"
   ]
  },
  {
   "cell_type": "code",
   "execution_count": null,
   "id": "8d51ceb4",
   "metadata": {},
   "outputs": [],
   "source": [
    "np.any(a == 5)"
   ]
  },
  {
   "cell_type": "code",
   "execution_count": null,
   "id": "de8c4ff2",
   "metadata": {},
   "outputs": [],
   "source": [
    "np.any(a%2 == 0, axis = 0)"
   ]
  },
  {
   "cell_type": "code",
   "execution_count": null,
   "id": "5e8588c8",
   "metadata": {},
   "outputs": [],
   "source": [
    "np.any(a%2 == 1, axis = 1)"
   ]
  },
  {
   "cell_type": "code",
   "execution_count": null,
   "id": "4483d441",
   "metadata": {},
   "outputs": [],
   "source": [
    "np.any(a%2 == 1, axis = 1, keepdims = True)"
   ]
  },
  {
   "cell_type": "code",
   "execution_count": null,
   "id": "6a4129ea",
   "metadata": {},
   "outputs": [],
   "source": [
    "np.any(a > 2, keepdims = True)"
   ]
  },
  {
   "cell_type": "markdown",
   "id": "a30394da",
   "metadata": {},
   "source": [
    "## ndarray物件.any() 物件方法的用法"
   ]
  },
  {
   "cell_type": "code",
   "execution_count": null,
   "id": "719bd9cd",
   "metadata": {},
   "outputs": [],
   "source": [
    "import numpy as np\n",
    "\n",
    "a = np.random.randint(10, size = (2, 3))\n",
    "a"
   ]
  },
  {
   "cell_type": "code",
   "execution_count": null,
   "id": "02e43199",
   "metadata": {},
   "outputs": [],
   "source": [
    "(a == 5).any()"
   ]
  },
  {
   "cell_type": "code",
   "execution_count": null,
   "id": "e5fc259e",
   "metadata": {},
   "outputs": [],
   "source": [
    "(a == 9).any()"
   ]
  },
  {
   "cell_type": "code",
   "execution_count": null,
   "id": "474a6eba",
   "metadata": {},
   "outputs": [],
   "source": [
    "(a > 3).any()"
   ]
  },
  {
   "cell_type": "code",
   "execution_count": null,
   "id": "3d327c19",
   "metadata": {},
   "outputs": [],
   "source": [
    "b = np.random.randint(10, size = (2, 3))\n",
    "b"
   ]
  },
  {
   "cell_type": "code",
   "execution_count": null,
   "id": "1667299f",
   "metadata": {},
   "outputs": [],
   "source": [
    "(a == b).any(axis = 1)"
   ]
  },
  {
   "cell_type": "code",
   "execution_count": null,
   "id": "949a7e14",
   "metadata": {},
   "outputs": [],
   "source": [
    "(a > b).any(axis = 1, keepdims = True)"
   ]
  }
 ],
 "metadata": {
  "kernelspec": {
   "display_name": "Python 3",
   "language": "python",
   "name": "python3"
  },
  "language_info": {
   "codemirror_mode": {
    "name": "ipython",
    "version": 3
   },
   "file_extension": ".py",
   "mimetype": "text/x-python",
   "name": "python",
   "nbconvert_exporter": "python",
   "pygments_lexer": "ipython3",
   "version": "3.8.10"
  }
 },
 "nbformat": 4,
 "nbformat_minor": 5
}
