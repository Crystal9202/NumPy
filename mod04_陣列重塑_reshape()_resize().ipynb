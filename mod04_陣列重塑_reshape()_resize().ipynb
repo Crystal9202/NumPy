{
 "cells": [
  {
   "cell_type": "markdown",
   "id": "79bd7c35",
   "metadata": {},
   "source": [
    "## <font color=red> Module_04_陣列重塑_reshape()_resize()</font>"
   ]
  },
  {
   "cell_type": "markdown",
   "id": "ba9b4060",
   "metadata": {},
   "source": [
    "## np.reshape() 函式的用法"
   ]
  },
  {
   "cell_type": "code",
   "execution_count": null,
   "id": "94e52944",
   "metadata": {},
   "outputs": [],
   "source": [
    "# np.reshape(a, newshape, order = \"C\")\n",
    "# a : 傳入要重塑形狀的陣列\n",
    "# newshape : 設定重塑的形狀。例如 (3, 2)、(2, 3, 4) 這樣的 tuple。若設定 int，會將所有元素重塑成一軸陣列\n",
    "# order : 'C'、'F'、'A' 其中選一。設定陣列元素在記憶體內的排列方式，預設為 order = 'C'"
   ]
  },
  {
   "cell_type": "code",
   "execution_count": null,
   "id": "dadebfdf",
   "metadata": {},
   "outputs": [],
   "source": [
    "import numpy as np\n",
    "\n",
    "a = np.arange(12)\n",
    "a"
   ]
  },
  {
   "cell_type": "code",
   "execution_count": null,
   "id": "31e41559",
   "metadata": {},
   "outputs": [],
   "source": [
    "b = np.reshape(a, (3, 4))\n",
    "b"
   ]
  },
  {
   "cell_type": "markdown",
   "id": "1bf0cfc8",
   "metadata": {},
   "source": [
    "---"
   ]
  },
  {
   "cell_type": "code",
   "execution_count": null,
   "id": "c9015e13",
   "metadata": {},
   "outputs": [],
   "source": [
    "c = np.array([[1, 2, 3], [4, 5, 6]])\n",
    "d = np.reshape(c, (3, -1)) # 因為重塑完總數量不會變，-1會自動幫我們算這個位置應該是要多少\n",
    "d"
   ]
  },
  {
   "cell_type": "code",
   "execution_count": null,
   "id": "f4c1fa2f",
   "metadata": {},
   "outputs": [],
   "source": [
    "d[0, 0] = 10\n",
    "d"
   ]
  },
  {
   "cell_type": "code",
   "execution_count": null,
   "id": "6045b652",
   "metadata": {},
   "outputs": [],
   "source": [
    "c # 注意改變重塑後的 d 陣列，也會影響原來重塑前的 c 陣列"
   ]
  },
  {
   "cell_type": "markdown",
   "id": "712e342a",
   "metadata": {},
   "source": [
    "---"
   ]
  },
  {
   "cell_type": "code",
   "execution_count": null,
   "id": "6d1d1483",
   "metadata": {},
   "outputs": [],
   "source": [
    "# order = 'C' 表示從最裡面的軸來看\n",
    "# order = 'F' 表示從最外面的軸來看\n",
    "\n",
    "e = np.arange(12)\n",
    "f = np.reshape(e, (3, 4), order = 'C')\n",
    "print(e)\n",
    "print(f)"
   ]
  },
  {
   "cell_type": "code",
   "execution_count": null,
   "id": "89f7107e",
   "metadata": {},
   "outputs": [],
   "source": [
    "f = np.reshape(e, (3, 4), order = 'F')\n",
    "print(e)\n",
    "print(f)"
   ]
  },
  {
   "cell_type": "code",
   "execution_count": null,
   "id": "814f0ada",
   "metadata": {},
   "outputs": [],
   "source": [
    "g = np.arange(12)\n",
    "h = np.reshape(g, (2, 3, 2), order = \"C\" )\n",
    "print(g)\n",
    "print(h)"
   ]
  },
  {
   "cell_type": "code",
   "execution_count": null,
   "id": "9dadfcf1",
   "metadata": {},
   "outputs": [],
   "source": [
    "h = np.reshape(g, (2, 3, 2), order = \"F\" )\n",
    "print(g)\n",
    "print(h)"
   ]
  },
  {
   "cell_type": "code",
   "execution_count": null,
   "id": "6e158585",
   "metadata": {},
   "outputs": [],
   "source": [
    "i = np.array([[1, 2, 3], [4, 5, 6]])\n",
    "j = np.reshape(i, (3, -1), order = 'C')\n",
    "print(i)\n",
    "print(j)"
   ]
  },
  {
   "cell_type": "code",
   "execution_count": null,
   "id": "f74bd0a5",
   "metadata": {},
   "outputs": [],
   "source": [
    "j = np.reshape(i, (3, -1), order = 'F')\n",
    "print(i)\n",
    "print(j)"
   ]
  },
  {
   "cell_type": "markdown",
   "id": "310c8781",
   "metadata": {},
   "source": [
    "## ndarray物件.reshape() 物件方法的用法"
   ]
  },
  {
   "cell_type": "code",
   "execution_count": null,
   "id": "4f5294ba",
   "metadata": {},
   "outputs": [],
   "source": [
    "# 跟函數的用法相當類似，只是不用傳入陣列作為參數"
   ]
  },
  {
   "cell_type": "code",
   "execution_count": null,
   "id": "b06ebcb3",
   "metadata": {},
   "outputs": [],
   "source": [
    "import numpy as np\n",
    "\n",
    "a = np.arange(12).reshape((3, 4)) # 這時候裡面的括號可寫可不寫\n",
    "a"
   ]
  },
  {
   "cell_type": "code",
   "execution_count": null,
   "id": "368336ca",
   "metadata": {},
   "outputs": [],
   "source": [
    "b = np.arange(12).reshape((-1, 2)) \n",
    "b"
   ]
  },
  {
   "cell_type": "code",
   "execution_count": null,
   "id": "5fc0e19e",
   "metadata": {},
   "outputs": [],
   "source": [
    "c = np.arange(12).reshape((5, 2)) # 元素總數與陣列總數不同會報錯\n",
    "c"
   ]
  },
  {
   "cell_type": "markdown",
   "id": "1e803c00",
   "metadata": {},
   "source": [
    "## np.resize() 函式的用法"
   ]
  },
  {
   "cell_type": "code",
   "execution_count": null,
   "id": "e0c522a8",
   "metadata": {},
   "outputs": [],
   "source": [
    "# np.resize(a, newshape)\n",
    "# a : 傳入要重塑形狀的陣列\n",
    "# newshape : 設定重塑的形狀。例如 (3, 2)、(2, 3, 4) 這樣的 tuple。若設定 int，會將所有元素重塑成一軸陣列\n",
    "# 沒有 order 參數\n",
    "# 重塑前後的元素總數不一樣不會報錯，而是會強制執行"
   ]
  },
  {
   "cell_type": "code",
   "execution_count": null,
   "id": "11209e1b",
   "metadata": {},
   "outputs": [],
   "source": [
    "import numpy as np\n",
    "\n",
    "a = np.arange(12)\n",
    "b = np.reshape(a, (3, 4))\n",
    "b"
   ]
  },
  {
   "cell_type": "code",
   "execution_count": null,
   "id": "50cb6ca3",
   "metadata": {},
   "outputs": [],
   "source": [
    "c = np.resize(a, (3, 5)) # # 重塑前後的元素總數不一樣不會報錯，而是會強制執行\n",
    "c"
   ]
  },
  {
   "cell_type": "code",
   "execution_count": null,
   "id": "7a37a916",
   "metadata": {},
   "outputs": [],
   "source": [
    "d = np.resize(a, (3, 2))\n",
    "d"
   ]
  },
  {
   "cell_type": "code",
   "execution_count": null,
   "id": "51dd85ba",
   "metadata": {},
   "outputs": [],
   "source": [
    "# np.reshape() 重塑前後的陣列名稱參考到相同的記憶體物件\n",
    "# np.resize() 則是建立了不同的物件，所以重塑後的陣列，即使改變了數值也不會影響原始陣列\n",
    "\n",
    "e = np.resize(a, (3, 4))\n",
    "e"
   ]
  },
  {
   "cell_type": "code",
   "execution_count": null,
   "id": "2ce07d6e",
   "metadata": {},
   "outputs": [],
   "source": [
    "e[0, 1] = 0\n",
    "e"
   ]
  },
  {
   "cell_type": "code",
   "execution_count": null,
   "id": "7401ae68",
   "metadata": {},
   "outputs": [],
   "source": [
    "a"
   ]
  }
 ],
 "metadata": {
  "kernelspec": {
   "display_name": "Python 3",
   "language": "python",
   "name": "python3"
  },
  "language_info": {
   "codemirror_mode": {
    "name": "ipython",
    "version": 3
   },
   "file_extension": ".py",
   "mimetype": "text/x-python",
   "name": "python",
   "nbconvert_exporter": "python",
   "pygments_lexer": "ipython3",
   "version": "3.8.10"
  }
 },
 "nbformat": 4,
 "nbformat_minor": 5
}
