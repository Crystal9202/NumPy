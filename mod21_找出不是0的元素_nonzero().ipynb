{
 "cells": [
  {
   "cell_type": "markdown",
   "id": "3d044b46",
   "metadata": {},
   "source": [
    "## <font color=red> Module_21_找出不是0的元素_nonzero()</font>"
   ]
  },
  {
   "cell_type": "markdown",
   "id": "351f41f0",
   "metadata": {},
   "source": [
    "## np.nonzero() 函式與 ndarray物件.nonzero() 物件方法的用法"
   ]
  },
  {
   "cell_type": "code",
   "execution_count": null,
   "id": "596ebe82",
   "metadata": {},
   "outputs": [],
   "source": [
    "# np.nonzero(a)\n",
    "# ndarray物件.nonzero()\n",
    "# a : 傳入要處理的陣列"
   ]
  },
  {
   "cell_type": "code",
   "execution_count": null,
   "id": "ff3da829",
   "metadata": {},
   "outputs": [],
   "source": [
    "# 找出陣列中不是 0 的元素，運算結果會傳回元素的索引位置，用 tuple 顯示\n",
    "# 可以用 np.where() 取代"
   ]
  },
  {
   "cell_type": "code",
   "execution_count": null,
   "id": "7bb64485",
   "metadata": {},
   "outputs": [],
   "source": [
    "import numpy as np\n",
    "\n",
    "a = np.random.randint(0, 10, size = 20)\n",
    "a"
   ]
  },
  {
   "cell_type": "code",
   "execution_count": null,
   "id": "f4ac32ff",
   "metadata": {},
   "outputs": [],
   "source": [
    "b = np.nonzero(a)\n",
    "b"
   ]
  },
  {
   "cell_type": "code",
   "execution_count": null,
   "id": "3ca314b7",
   "metadata": {},
   "outputs": [],
   "source": [
    "c = a.nonzero()\n",
    "c"
   ]
  },
  {
   "cell_type": "code",
   "execution_count": null,
   "id": "342fcdff",
   "metadata": {},
   "outputs": [],
   "source": [
    "d = a[c] # Fancy indexing\n",
    "d"
   ]
  },
  {
   "cell_type": "markdown",
   "id": "42f7af32",
   "metadata": {},
   "source": [
    "---"
   ]
  },
  {
   "cell_type": "code",
   "execution_count": null,
   "id": "7db97aef",
   "metadata": {},
   "outputs": [],
   "source": [
    "e = np.random.randint(0, 10, size = (4, 5))\n",
    "e"
   ]
  },
  {
   "cell_type": "code",
   "execution_count": null,
   "id": "07c7811f",
   "metadata": {},
   "outputs": [],
   "source": [
    "f = np.nonzero(e)\n",
    "f"
   ]
  },
  {
   "cell_type": "code",
   "execution_count": null,
   "id": "bf6fe831",
   "metadata": {},
   "outputs": [],
   "source": [
    "g = e.nonzero()\n",
    "g"
   ]
  },
  {
   "cell_type": "code",
   "execution_count": null,
   "id": "c9de56f6",
   "metadata": {},
   "outputs": [],
   "source": [
    "h = e[g] # Fancy indexing\n",
    "h"
   ]
  },
  {
   "cell_type": "markdown",
   "id": "a7093fda",
   "metadata": {},
   "source": [
    "---"
   ]
  },
  {
   "cell_type": "code",
   "execution_count": null,
   "id": "4ec179b3",
   "metadata": {},
   "outputs": [],
   "source": [
    "i = np.array([[0, 2, 4], [4, 0, 9]])\n",
    "i"
   ]
  },
  {
   "cell_type": "code",
   "execution_count": null,
   "id": "b11e97f7",
   "metadata": {},
   "outputs": [],
   "source": [
    "j = np.nonzero(i)\n",
    "j"
   ]
  },
  {
   "cell_type": "code",
   "execution_count": null,
   "id": "1f805b29",
   "metadata": {},
   "outputs": [],
   "source": [
    "k = np.where(i != 0) # 可以用 np.where() 取代 np.nonzero()\n",
    "k"
   ]
  }
 ],
 "metadata": {
  "kernelspec": {
   "display_name": "Python 3",
   "language": "python",
   "name": "python3"
  },
  "language_info": {
   "codemirror_mode": {
    "name": "ipython",
    "version": 3
   },
   "file_extension": ".py",
   "mimetype": "text/x-python",
   "name": "python",
   "nbconvert_exporter": "python",
   "pygments_lexer": "ipython3",
   "version": "3.8.10"
  }
 },
 "nbformat": 4,
 "nbformat_minor": 5
}
