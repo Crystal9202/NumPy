{
 "cells": [
  {
   "cell_type": "markdown",
   "id": "dae6771f",
   "metadata": {},
   "source": [
    "## <font color=red> Module35_計算相關係數_corrcoef()</font>"
   ]
  },
  {
   "cell_type": "markdown",
   "id": "a87bef2b",
   "metadata": {},
   "source": [
    "## np.corrcoef() 函式的用法"
   ]
  },
  {
   "cell_type": "code",
   "execution_count": null,
   "id": "6ce9dbb3",
   "metadata": {},
   "outputs": [],
   "source": [
    "# np.corrcoef(x, y = None, rowvar = True, bias =_NoValue, ddof = _NoValue)\n",
    "# x : 傳入要比較的陣列，通常是傳入 2D 陣列。 例如傳入 2×5 的 2D 陣列，如 [[x1, x2, x3, x4, x5], [y1, y2, y3, y4, y5]]\n",
    "# y : 指定要新加入比較的資料。y 會附加到 x 裡面，以上例來說，y也必須是 5 個元素的陣列，如 [z1, z2, z3, z4, z5]\n",
    "# rowvar : 預設 True 是將每一列視為一組資料(一個變數)，若設定為 False，則改為每一行視為一組資料"
   ]
  },
  {
   "cell_type": "code",
   "execution_count": null,
   "id": "57b2dd5b",
   "metadata": {},
   "outputs": [],
   "source": [
    "import numpy as np\n",
    "\n",
    "x = np.array([\n",
    "    [1, 2, 1, 9, 10, 3, 2, 6, 7],\n",
    "    [2, 1, 8, 3, 7, 5, 10, 7, 2]\n",
    "])\n",
    "\n",
    "x"
   ]
  },
  {
   "cell_type": "code",
   "execution_count": null,
   "id": "afda4b78",
   "metadata": {},
   "outputs": [],
   "source": [
    "np.corrcoef(x) # 相關矩陣(Correlation Matrix)"
   ]
  },
  {
   "cell_type": "code",
   "execution_count": null,
   "id": "ad4bfba8",
   "metadata": {},
   "outputs": [],
   "source": [
    "y = np.array([2, 1, 1, 8, 9, 4, 3, 5, 7])"
   ]
  },
  {
   "cell_type": "code",
   "execution_count": null,
   "id": "4c62c74f",
   "metadata": {},
   "outputs": [],
   "source": [
    "np.corrcoef(x, y)"
   ]
  },
  {
   "cell_type": "code",
   "execution_count": null,
   "id": "24899eea",
   "metadata": {},
   "outputs": [],
   "source": [
    "np.corrcoef(x, rowvar = False)"
   ]
  },
  {
   "cell_type": "code",
   "execution_count": null,
   "id": "6c227cb0",
   "metadata": {},
   "outputs": [],
   "source": [
    "x_transpose = x.T\n",
    "x_transpose"
   ]
  },
  {
   "cell_type": "code",
   "execution_count": null,
   "id": "577e9c9d",
   "metadata": {},
   "outputs": [],
   "source": [
    "np.corrcoef(x_transpose, rowvar = False)"
   ]
  },
  {
   "cell_type": "code",
   "execution_count": null,
   "id": "b6d03c1a",
   "metadata": {},
   "outputs": [],
   "source": [
    "np.corrcoef(x_transpose, rowvar = True)"
   ]
  }
 ],
 "metadata": {
  "kernelspec": {
   "display_name": "Python 3",
   "language": "python",
   "name": "python3"
  },
  "language_info": {
   "codemirror_mode": {
    "name": "ipython",
    "version": 3
   },
   "file_extension": ".py",
   "mimetype": "text/x-python",
   "name": "python",
   "nbconvert_exporter": "python",
   "pygments_lexer": "ipython3",
   "version": "3.8.10"
  }
 },
 "nbformat": 4,
 "nbformat_minor": 5
}
