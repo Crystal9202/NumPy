{
 "cells": [
  {
   "cell_type": "markdown",
   "id": "f90a0f73",
   "metadata": {},
   "source": [
    "## <font color=red> Module37_點積運算_dot()</font>"
   ]
  },
  {
   "cell_type": "markdown",
   "id": "171cfb05",
   "metadata": {},
   "source": [
    "## np.dot() 函式的用法"
   ]
  },
  {
   "cell_type": "code",
   "execution_count": null,
   "id": "2741a2f4",
   "metadata": {},
   "outputs": [],
   "source": [
    "# np.dot(a, b, out = None)\n",
    "# a : 傳入點積運算符號．左邊的向量(一軸陣列)或矩陣(二軸陣列)\n",
    "# b : 傳入點積運算符號．右邊的向量(一軸陣列)或矩陣(二軸陣列)\n",
    "# out : 指定一個陣列來儲存回傳值\n"
   ]
  },
  {
   "cell_type": "code",
   "execution_count": null,
   "id": "81dc73d2",
   "metadata": {},
   "outputs": [],
   "source": [
    "import numpy as np\n",
    "\n",
    "a = np.array([1, 2])\n",
    "b = np.array([4, 3])\n",
    "print(a)\n",
    "print(b)"
   ]
  },
  {
   "cell_type": "code",
   "execution_count": null,
   "id": "03c5aa23",
   "metadata": {},
   "outputs": [],
   "source": [
    "np.dot(a, b)"
   ]
  },
  {
   "cell_type": "code",
   "execution_count": null,
   "id": "26e6bf17",
   "metadata": {},
   "outputs": [],
   "source": [
    "np.dot(4, 5)"
   ]
  },
  {
   "cell_type": "markdown",
   "id": "bb7ea9c2",
   "metadata": {},
   "source": [
    "---"
   ]
  },
  {
   "cell_type": "code",
   "execution_count": null,
   "id": "d856860d",
   "metadata": {},
   "outputs": [],
   "source": [
    "c = np.array([[1, 2], [3, 4]])\n",
    "d = np.array([[4, 3], [2, 1]])\n",
    "np.dot(c, d)"
   ]
  },
  {
   "cell_type": "code",
   "execution_count": null,
   "id": "0d8407b1",
   "metadata": {},
   "outputs": [],
   "source": [
    "np.dot(d, c) # 矩陣乘法不具交換性"
   ]
  },
  {
   "cell_type": "markdown",
   "id": "c7dd19c2",
   "metadata": {},
   "source": [
    "---"
   ]
  },
  {
   "cell_type": "code",
   "execution_count": null,
   "id": "5f4a4a89",
   "metadata": {},
   "outputs": [],
   "source": [
    "e = np.arange(9).reshape(3, 3)\n",
    "d = np.ones((3, 3))\n",
    "print(e)\n",
    "print(d)"
   ]
  },
  {
   "cell_type": "code",
   "execution_count": null,
   "id": "f962d80a",
   "metadata": {},
   "outputs": [],
   "source": [
    "np.dot(e, d)"
   ]
  },
  {
   "cell_type": "code",
   "execution_count": null,
   "id": "6255bcfc",
   "metadata": {},
   "outputs": [],
   "source": [
    "e = np.arange(12).reshape((4, 3))\n",
    "f = np.arange(16).reshape((4, 4))\n",
    "print(e)\n",
    "print(f)"
   ]
  },
  {
   "cell_type": "code",
   "execution_count": null,
   "id": "f9798cb7",
   "metadata": {},
   "outputs": [],
   "source": [
    "np.dot(e, f)"
   ]
  }
 ],
 "metadata": {
  "kernelspec": {
   "display_name": "Python 3",
   "language": "python",
   "name": "python3"
  },
  "language_info": {
   "codemirror_mode": {
    "name": "ipython",
    "version": 3
   },
   "file_extension": ".py",
   "mimetype": "text/x-python",
   "name": "python",
   "nbconvert_exporter": "python",
   "pygments_lexer": "ipython3",
   "version": "3.8.10"
  }
 },
 "nbformat": 4,
 "nbformat_minor": 5
}
