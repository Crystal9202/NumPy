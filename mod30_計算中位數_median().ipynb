{
 "cells": [
  {
   "cell_type": "markdown",
   "id": "0091afbc",
   "metadata": {},
   "source": [
    "## <font color=red> Module_30_計算中位數_median()</font>"
   ]
  },
  {
   "cell_type": "markdown",
   "id": "dc920262",
   "metadata": {},
   "source": [
    "## np.median() 函式的用法"
   ]
  },
  {
   "cell_type": "code",
   "execution_count": null,
   "id": "10b64e11",
   "metadata": {},
   "outputs": [],
   "source": [
    "# np.median(a, axis = None, out = None, overwrite_inout = False, keepdims = False)\n",
    "# a : 傳入要處理的陣列\n",
    "# axis : 指定要計算哪一軸元素的中位數。預設值為 None\n",
    "# out : 可以把傳回結果儲存在一個陣列中。預設值為 None，不常用\n",
    "# overwrite_input : 此值為 True 時，會使用輸入陣列的記憶體位置來運算，這種做法可以減少記憶體的使用，但原陣列的元素順序會被改變。預設值為 False\n",
    "# # keepdims : 設定傳回結果的軸數是否保持不變。預設值為 False"
   ]
  },
  {
   "cell_type": "code",
   "execution_count": null,
   "id": "c2b38efc",
   "metadata": {},
   "outputs": [],
   "source": [
    "import numpy as np\n",
    "\n",
    "a = np.random.randint(100, size = (2, 3, 4))\n",
    "a"
   ]
  },
  {
   "cell_type": "code",
   "execution_count": null,
   "id": "100b82bd",
   "metadata": {},
   "outputs": [],
   "source": [
    "np.median(a)"
   ]
  },
  {
   "cell_type": "code",
   "execution_count": null,
   "id": "15bea0fe",
   "metadata": {},
   "outputs": [],
   "source": [
    "np.median(a, axis = 0)"
   ]
  },
  {
   "cell_type": "code",
   "execution_count": null,
   "id": "9958aba0",
   "metadata": {},
   "outputs": [],
   "source": [
    "np.median(a, axis = 1)"
   ]
  },
  {
   "cell_type": "markdown",
   "id": "b735c1d5",
   "metadata": {},
   "source": [
    "---"
   ]
  },
  {
   "cell_type": "code",
   "execution_count": null,
   "id": "4fcd81b8",
   "metadata": {},
   "outputs": [],
   "source": [
    "b = a.copy()\n",
    "b"
   ]
  },
  {
   "cell_type": "code",
   "execution_count": null,
   "id": "a2c41c4a",
   "metadata": {},
   "outputs": [],
   "source": [
    "np.median(b, axis = 1, overwrite_input = True)"
   ]
  },
  {
   "cell_type": "code",
   "execution_count": null,
   "id": "ae78b0d8",
   "metadata": {},
   "outputs": [],
   "source": [
    "np.all(a == b)"
   ]
  },
  {
   "cell_type": "code",
   "execution_count": null,
   "id": "250738b8",
   "metadata": {},
   "outputs": [],
   "source": [
    "a"
   ]
  },
  {
   "cell_type": "code",
   "execution_count": null,
   "id": "3c948dce",
   "metadata": {},
   "outputs": [],
   "source": [
    "b"
   ]
  },
  {
   "cell_type": "code",
   "execution_count": null,
   "id": "0a5d58e1",
   "metadata": {},
   "outputs": [],
   "source": [
    "b = a.copy()\n",
    "print(a)\n",
    "print(b)"
   ]
  },
  {
   "cell_type": "code",
   "execution_count": null,
   "id": "6d942c58",
   "metadata": {},
   "outputs": [],
   "source": [
    "%timeit np.median(a, axis = 1)\n",
    "%timeit np.median(b, axis = 1, overwrite_input = True)"
   ]
  },
  {
   "cell_type": "markdown",
   "id": "54472111",
   "metadata": {},
   "source": [
    "---"
   ]
  },
  {
   "cell_type": "code",
   "execution_count": null,
   "id": "61cb5427",
   "metadata": {},
   "outputs": [],
   "source": [
    "a"
   ]
  },
  {
   "cell_type": "code",
   "execution_count": null,
   "id": "59731a15",
   "metadata": {},
   "outputs": [],
   "source": [
    "np.median(a, axis = 0, keepdims = True)"
   ]
  },
  {
   "cell_type": "code",
   "execution_count": null,
   "id": "79ef77ca",
   "metadata": {},
   "outputs": [],
   "source": [
    "np.median(a, axis = 0, keepdims = False)"
   ]
  },
  {
   "cell_type": "code",
   "execution_count": null,
   "id": "419efcd9",
   "metadata": {},
   "outputs": [],
   "source": [
    "np.median(a, axis = 1, keepdims = True)"
   ]
  },
  {
   "cell_type": "code",
   "execution_count": null,
   "id": "d1957419",
   "metadata": {},
   "outputs": [],
   "source": [
    "np.median(a, axis = 1, keepdims = False)"
   ]
  }
 ],
 "metadata": {
  "kernelspec": {
   "display_name": "Python 3",
   "language": "python",
   "name": "python3"
  },
  "language_info": {
   "codemirror_mode": {
    "name": "ipython",
    "version": 3
   },
   "file_extension": ".py",
   "mimetype": "text/x-python",
   "name": "python",
   "nbconvert_exporter": "python",
   "pygments_lexer": "ipython3",
   "version": "3.8.10"
  }
 },
 "nbformat": 4,
 "nbformat_minor": 5
}
