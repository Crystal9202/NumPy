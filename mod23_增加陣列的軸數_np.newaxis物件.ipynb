{
 "cells": [
  {
   "cell_type": "markdown",
   "id": "26fa38bc",
   "metadata": {},
   "source": [
    "## <font color=red> Module_23_增加陣列的軸數_np.newaxis物件</font>"
   ]
  },
  {
   "cell_type": "markdown",
   "id": "e2faa13d",
   "metadata": {},
   "source": [
    "## 用 np.newaxis物件增加陣列軸數"
   ]
  },
  {
   "cell_type": "code",
   "execution_count": null,
   "id": "3fcab9e5",
   "metadata": {},
   "outputs": [],
   "source": [
    "# ndarray物件名稱[:, np.newaxis]\n",
    "# 因為 Numpy 把 np.newaxis 定義為 None 的別名，所以也可以寫成 ndarray物件名稱[:, None]"
   ]
  },
  {
   "cell_type": "code",
   "execution_count": null,
   "id": "04abbd0d",
   "metadata": {},
   "outputs": [],
   "source": [
    "import numpy as np\n",
    "\n",
    "np.newaxis is None"
   ]
  },
  {
   "cell_type": "code",
   "execution_count": null,
   "id": "7dbb4b68",
   "metadata": {},
   "outputs": [],
   "source": [
    "a = np.arange(15).reshape(3, 5)\n",
    "a"
   ]
  },
  {
   "cell_type": "code",
   "execution_count": null,
   "id": "c2b3a286",
   "metadata": {},
   "outputs": [],
   "source": [
    "b = a[np.newaxis, :, :] # 推測傳回陣列的形狀為 (1, 3, 5)\n",
    "b"
   ]
  },
  {
   "cell_type": "code",
   "execution_count": null,
   "id": "ce2faf56",
   "metadata": {},
   "outputs": [],
   "source": [
    "c = a[:, np.newaxis, :] # 推測傳回陣列的形狀為 (3, 1, 5)\n",
    "c"
   ]
  },
  {
   "cell_type": "code",
   "execution_count": null,
   "id": "ae268b2c",
   "metadata": {},
   "outputs": [],
   "source": [
    "d = a[:, :, np.newaxis] # 推測傳回陣列的形狀為 (3, 5, 1)\n",
    "d"
   ]
  },
  {
   "cell_type": "code",
   "execution_count": null,
   "id": "f31d6364",
   "metadata": {},
   "outputs": [],
   "source": [
    "e = a[:, :, None] # 用 None 會得到同樣的結果\n",
    "e"
   ]
  },
  {
   "cell_type": "code",
   "execution_count": null,
   "id": "429d8c86",
   "metadata": {},
   "outputs": [],
   "source": [
    "f = a.flatten()\n",
    "f"
   ]
  },
  {
   "cell_type": "code",
   "execution_count": null,
   "id": "ceea55b3",
   "metadata": {},
   "outputs": [],
   "source": [
    "g = f[:, np.newaxis] # 推測傳回陣列的形狀為 (15, 1)\n",
    "g"
   ]
  },
  {
   "cell_type": "code",
   "execution_count": null,
   "id": "c4c64738",
   "metadata": {},
   "outputs": [],
   "source": [
    "h = f[np.newaxis, :] # 推測傳回陣列的形狀為 (15, 1)\n",
    "h"
   ]
  },
  {
   "cell_type": "markdown",
   "id": "4bc8a332",
   "metadata": {},
   "source": [
    "## np.reshape() 函式與 np.newaxis 物件的比較"
   ]
  },
  {
   "cell_type": "code",
   "execution_count": null,
   "id": "cd8e469b",
   "metadata": {},
   "outputs": [],
   "source": [
    "# np.reshape() 函式與 np.newaxis 物件的差別在於即使不曉得各軸的維度，使用 np.newaxis物件仍然可以增軸，但 np.reshape()不一定可以"
   ]
  },
  {
   "cell_type": "code",
   "execution_count": null,
   "id": "68758c19",
   "metadata": {},
   "outputs": [],
   "source": [
    "import numpy as np\n",
    "\n",
    "a = np.arange(15).reshape(3, 5)\n",
    "a"
   ]
  },
  {
   "cell_type": "code",
   "execution_count": null,
   "id": "61253cd3",
   "metadata": {},
   "outputs": [],
   "source": [
    "b = np.reshape(a, (1, 3, 5))\n",
    "b"
   ]
  },
  {
   "cell_type": "code",
   "execution_count": null,
   "id": "dc3fb6ac",
   "metadata": {},
   "outputs": [],
   "source": [
    "c = np.reshape(a, (3, 1, 5))\n",
    "c"
   ]
  },
  {
   "cell_type": "code",
   "execution_count": null,
   "id": "852993ee",
   "metadata": {},
   "outputs": [],
   "source": [
    "d = np.reshape(a, (3, 5, 1))\n",
    "d"
   ]
  },
  {
   "cell_type": "code",
   "execution_count": null,
   "id": "993f786a",
   "metadata": {},
   "outputs": [],
   "source": [
    "e = a.flatten()\n",
    "e"
   ]
  },
  {
   "cell_type": "code",
   "execution_count": null,
   "id": "aa26ec01",
   "metadata": {},
   "outputs": [],
   "source": [
    "f = np.reshape(e, (-1, 1)) # -1 的功能只能使用一次\n",
    "f"
   ]
  },
  {
   "cell_type": "code",
   "execution_count": null,
   "id": "07119638",
   "metadata": {},
   "outputs": [],
   "source": [
    "g = np.reshape(e, (1, -1))\n",
    "g"
   ]
  }
 ],
 "metadata": {
  "kernelspec": {
   "display_name": "Python 3",
   "language": "python",
   "name": "python3"
  },
  "language_info": {
   "codemirror_mode": {
    "name": "ipython",
    "version": 3
   },
   "file_extension": ".py",
   "mimetype": "text/x-python",
   "name": "python",
   "nbconvert_exporter": "python",
   "pygments_lexer": "ipython3",
   "version": "3.8.10"
  }
 },
 "nbformat": 4,
 "nbformat_minor": 5
}
