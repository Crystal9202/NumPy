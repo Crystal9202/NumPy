{
 "cells": [
  {
   "cell_type": "markdown",
   "id": "d9ef2448",
   "metadata": {},
   "source": [
    "## <font color=red> Module45_將數值劃分為不同區間_digitize()</font>"
   ]
  },
  {
   "cell_type": "markdown",
   "id": "f7b1ab2c",
   "metadata": {},
   "source": [
    "## np.digitize() 函式的用法"
   ]
  },
  {
   "cell_type": "code",
   "execution_count": null,
   "id": "d2e6739d",
   "metadata": {},
   "outputs": [],
   "source": [
    "# np.digitize(x, bins, right = False)\n",
    "# x : 指定要分散到區間的值\n",
    "# bins : 指定陣列用來設定區間\n",
    "# right : 用來指定區間是否包含 bins 參數的右邊界。若設定成 True，則包含右邊界，但不包含左邊界"
   ]
  },
  {
   "cell_type": "code",
   "execution_count": null,
   "id": "188f6160",
   "metadata": {},
   "outputs": [],
   "source": [
    "import numpy as np\n",
    "\n",
    "np.digitize(1, [0, 1]) # 分成第 0 區間、第 1 區間、第 2 區間"
   ]
  },
  {
   "cell_type": "code",
   "execution_count": null,
   "id": "571b781a",
   "metadata": {},
   "outputs": [],
   "source": [
    "np.digitize(1, [0, 1], True) "
   ]
  }
 ],
 "metadata": {
  "kernelspec": {
   "display_name": "Python 3",
   "language": "python",
   "name": "python3"
  },
  "language_info": {
   "codemirror_mode": {
    "name": "ipython",
    "version": 3
   },
   "file_extension": ".py",
   "mimetype": "text/x-python",
   "name": "python",
   "nbconvert_exporter": "python",
   "pygments_lexer": "ipython3",
   "version": "3.8.10"
  }
 },
 "nbformat": 4,
 "nbformat_minor": 5
}
