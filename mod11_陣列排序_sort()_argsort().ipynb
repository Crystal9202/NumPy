{
 "cells": [
  {
   "cell_type": "markdown",
   "id": "15eb5c27",
   "metadata": {},
   "source": [
    "## <font color=red> Module_11_陣列排序_sort()_argsort()</font>"
   ]
  },
  {
   "cell_type": "markdown",
   "id": "bc3ec507",
   "metadata": {},
   "source": [
    "## np.sort() 函式與 np.argsort() 函式的用法"
   ]
  },
  {
   "cell_type": "code",
   "execution_count": null,
   "id": "7fffcd33",
   "metadata": {},
   "outputs": [],
   "source": [
    "# 這兩個函式用法完全一樣，只是傳回值不同而已\n",
    "# np.sort(a, axis = -1, kind = 'Quicksort', order = None)\n",
    "# np.argsort(a, axis = -1, kind = 'Quicksort', order = None)\n",
    "# a : 傳入要處理的陣列\n",
    "# axis : 設定沿著哪一軸做排序。預設值為 -1，表示最後一軸。若設定為 axis = None，陣列會被攤平成一軸陣列，傳回排序後的結果\n",
    "# kind : 設定資料排序的演算法。預設為 'Quicksort'，其他還有 'mergesort' 與 'heapsort' 可選\n",
    "# order : 如果陣列已經定義了欄位，可設定要以哪個欄位來排序。預設為 None"
   ]
  },
  {
   "cell_type": "code",
   "execution_count": null,
   "id": "0f84fc3b",
   "metadata": {},
   "outputs": [],
   "source": [
    "import numpy as np\n",
    "\n",
    "a = np.random.randint(0, 100, size = 10)\n",
    "a"
   ]
  },
  {
   "cell_type": "code",
   "execution_count": null,
   "id": "49d1603a",
   "metadata": {},
   "outputs": [],
   "source": [
    "b = np.sort(a)\n",
    "b"
   ]
  },
  {
   "cell_type": "code",
   "execution_count": null,
   "id": "5d767a5e",
   "metadata": {},
   "outputs": [],
   "source": [
    "c = np.argsort(a)\n",
    "c"
   ]
  },
  {
   "cell_type": "markdown",
   "id": "60815f15",
   "metadata": {},
   "source": [
    "---"
   ]
  },
  {
   "cell_type": "code",
   "execution_count": null,
   "id": "54abc513",
   "metadata": {},
   "outputs": [],
   "source": [
    "d = np.random.randint(0, 100, size = 20).reshape(4, 5)\n",
    "d"
   ]
  },
  {
   "cell_type": "code",
   "execution_count": null,
   "id": "4afb1b75",
   "metadata": {},
   "outputs": [],
   "source": [
    "e = np.sort(d) # 沒有設立 axis，預設值為 -1\n",
    "e"
   ]
  },
  {
   "cell_type": "code",
   "execution_count": null,
   "id": "3bf482d4",
   "metadata": {},
   "outputs": [],
   "source": [
    "f = np.argsort(d)\n",
    "f"
   ]
  },
  {
   "cell_type": "code",
   "execution_count": null,
   "id": "1eb1c523",
   "metadata": {},
   "outputs": [],
   "source": [
    "g = np.sort(d, axis = 0)\n",
    "g"
   ]
  },
  {
   "cell_type": "code",
   "execution_count": null,
   "id": "8116167b",
   "metadata": {},
   "outputs": [],
   "source": [
    "h = np.argsort(d, axis = 0)\n",
    "h"
   ]
  },
  {
   "cell_type": "markdown",
   "id": "a4f266c0",
   "metadata": {},
   "source": [
    "---"
   ]
  },
  {
   "cell_type": "code",
   "execution_count": null,
   "id": "44025d24",
   "metadata": {},
   "outputs": [],
   "source": [
    "i = np.random.randint(0, 100, size = (2, 4, 5))\n",
    "i"
   ]
  },
  {
   "cell_type": "code",
   "execution_count": null,
   "id": "b5b475a0",
   "metadata": {},
   "outputs": [],
   "source": [
    "j = np.sort(i, axis = 0)\n",
    "j"
   ]
  },
  {
   "cell_type": "code",
   "execution_count": null,
   "id": "2aa539be",
   "metadata": {},
   "outputs": [],
   "source": [
    "k = np.argsort(i, axis = 0)\n",
    "k"
   ]
  },
  {
   "cell_type": "code",
   "execution_count": null,
   "id": "032c2fa0",
   "metadata": {},
   "outputs": [],
   "source": [
    "l = np.sort(i)\n",
    "l"
   ]
  },
  {
   "cell_type": "code",
   "execution_count": null,
   "id": "fdc3d6a3",
   "metadata": {},
   "outputs": [],
   "source": [
    "m = np.argsort(i)\n",
    "m"
   ]
  },
  {
   "cell_type": "markdown",
   "id": "013b1196",
   "metadata": {},
   "source": [
    "---"
   ]
  },
  {
   "cell_type": "code",
   "execution_count": null,
   "id": "2ea264d9",
   "metadata": {},
   "outputs": [],
   "source": [
    "# kind 的參數不常使用，一般來說，預設的 'quicksort' 普遍占優，不必花心思在這打轉"
   ]
  },
  {
   "cell_type": "markdown",
   "id": "3beae896",
   "metadata": {},
   "source": [
    "---"
   ]
  },
  {
   "cell_type": "code",
   "execution_count": null,
   "id": "66939c6b",
   "metadata": {},
   "outputs": [],
   "source": [
    "# 參數 order 的用法，只要建立陣列時有用到 dtype 參數賦予欄位名稱，操作 sort() 函數就可以用 order 參數指定要以哪個欄位排序\n",
    "\n",
    "\n",
    "values = [('Alice', 25, 9.7), ('Bob', 12, 7.6), ('Catherine', 1, 8.6), ('David', 10, 7.6) ]\n",
    "dt = [('name', 'S10'), ('ID', int), ('score', float)] # 'S10' 代表長度為 10 byte 的字串型別\n",
    "n = np.array(values, dtype = dt)\n",
    "n"
   ]
  },
  {
   "cell_type": "code",
   "execution_count": null,
   "id": "721b3bca",
   "metadata": {},
   "outputs": [],
   "source": [
    "o = np.sort(n, order = 'score')\n",
    "o"
   ]
  },
  {
   "cell_type": "code",
   "execution_count": null,
   "id": "043ec937",
   "metadata": {},
   "outputs": [],
   "source": [
    "p = np.argsort(n, order = 'score')\n",
    "p"
   ]
  },
  {
   "cell_type": "code",
   "execution_count": null,
   "id": "6dd09576",
   "metadata": {},
   "outputs": [],
   "source": [
    "q = np.sort(n, order = ['score', 'ID'])\n",
    "q"
   ]
  },
  {
   "cell_type": "markdown",
   "id": "dcf22256",
   "metadata": {},
   "source": [
    "## ndarray物件.sort() 物件方法的用法"
   ]
  },
  {
   "cell_type": "code",
   "execution_count": null,
   "id": "c2f9f8df",
   "metadata": {},
   "outputs": [],
   "source": [
    "# 注意此方法會將陣列就地 (in place) 排序，也就是直接改變原陣列的元素順序\n",
    "# 並且由於排序的目的已經達成，所以不會有回傳值\n",
    "# 要更改原資料結構內容，就用物件名稱.sort()，如果不想要更改原資料結構內容，就用 np.sort() 函式來排序"
   ]
  },
  {
   "cell_type": "code",
   "execution_count": null,
   "id": "f0c5dda8",
   "metadata": {},
   "outputs": [],
   "source": [
    "import numpy as np\n",
    "\n",
    "a = np.random.randint(0, 100, 20)\n",
    "a"
   ]
  },
  {
   "cell_type": "code",
   "execution_count": null,
   "id": "e8d55d69",
   "metadata": {},
   "outputs": [],
   "source": [
    "np.sort(a)"
   ]
  },
  {
   "cell_type": "code",
   "execution_count": null,
   "id": "463b010d",
   "metadata": {},
   "outputs": [],
   "source": [
    "a"
   ]
  },
  {
   "cell_type": "code",
   "execution_count": null,
   "id": "83bfec6c",
   "metadata": {},
   "outputs": [],
   "source": [
    "a.sort()"
   ]
  },
  {
   "cell_type": "code",
   "execution_count": null,
   "id": "d694cd72",
   "metadata": {},
   "outputs": [],
   "source": [
    "a"
   ]
  }
 ],
 "metadata": {
  "kernelspec": {
   "display_name": "Python 3",
   "language": "python",
   "name": "python3"
  },
  "language_info": {
   "codemirror_mode": {
    "name": "ipython",
    "version": 3
   },
   "file_extension": ".py",
   "mimetype": "text/x-python",
   "name": "python",
   "nbconvert_exporter": "python",
   "pygments_lexer": "ipython3",
   "version": "3.8.10"
  }
 },
 "nbformat": 4,
 "nbformat_minor": 5
}
