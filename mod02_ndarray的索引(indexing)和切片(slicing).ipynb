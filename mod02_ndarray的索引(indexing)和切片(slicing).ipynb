{
 "cells": [
  {
   "cell_type": "markdown",
   "id": "d0232174",
   "metadata": {},
   "source": [
    "## <font color=red> Module_02_ndarray的索引(indexing)和切片(slicing)</font>"
   ]
  },
  {
   "cell_type": "markdown",
   "id": "d0379445",
   "metadata": {},
   "source": [
    "## ndarray 的一般索引(indexing)"
   ]
  },
  {
   "cell_type": "code",
   "execution_count": null,
   "id": "a6a96526",
   "metadata": {},
   "outputs": [],
   "source": [
    "import numpy as np\n",
    "\n",
    "# 一軸陣列\n",
    "a = np.array([55, 66, 56, 5566])\n",
    "\n",
    "print(a[0])\n",
    "print(a[1])\n",
    "print(a[2])\n",
    "print(a[a.size - 1])"
   ]
  },
  {
   "cell_type": "code",
   "execution_count": null,
   "id": "4a2becd6",
   "metadata": {},
   "outputs": [],
   "source": [
    "print(a[-1])\n",
    "print(a[-2])\n",
    "print(a[-3])\n",
    "print(a[-a.size])"
   ]
  },
  {
   "cell_type": "code",
   "execution_count": null,
   "id": "2db0907a",
   "metadata": {},
   "outputs": [],
   "source": [
    "# 二軸陣列\n",
    "np.random.seed(42)\n",
    "b = np.random.randint(1, 10, size = (3, 4))\n",
    "print(b)"
   ]
  },
  {
   "cell_type": "code",
   "execution_count": null,
   "id": "f0792260",
   "metadata": {},
   "outputs": [],
   "source": [
    "print(b[1, 1]) \n",
    "print(b[2, -3]) "
   ]
  },
  {
   "cell_type": "code",
   "execution_count": null,
   "id": "73414aac",
   "metadata": {},
   "outputs": [],
   "source": [
    "# 可變\n",
    "\n",
    "np.random.seed(42)\n",
    "c = np.random.randint(1, 10, size=(3, 4))\n",
    "print(c)"
   ]
  },
  {
   "cell_type": "code",
   "execution_count": null,
   "id": "8491906e",
   "metadata": {},
   "outputs": [],
   "source": [
    "c[2, 3] = 5566\n",
    "print(c)"
   ]
  },
  {
   "cell_type": "code",
   "execution_count": null,
   "id": "5518fd03",
   "metadata": {},
   "outputs": [],
   "source": [
    "c[2, 3] = 55.66\n",
    "print(c) # 小心資料型態的因素"
   ]
  },
  {
   "cell_type": "code",
   "execution_count": null,
   "id": "8e8c22f2",
   "metadata": {},
   "outputs": [],
   "source": [
    "c[2, 3] = False\n",
    "print(c)"
   ]
  },
  {
   "cell_type": "code",
   "execution_count": null,
   "id": "c2008cfd",
   "metadata": {},
   "outputs": [],
   "source": [
    "# 三軸陣列\n",
    "\n",
    "d = np.array([\n",
    "    [\n",
    "        [1, 2, 3], [4, 5, 6]\n",
    "    ],\n",
    "    [\n",
    "        [7, 8, 9], [10, 11, 12]\n",
    "    ]\n",
    "]) \n",
    "\n",
    "print(d)\n",
    "print(d.shape)"
   ]
  },
  {
   "cell_type": "code",
   "execution_count": null,
   "id": "fe536fd9",
   "metadata": {},
   "outputs": [],
   "source": [
    "print(d[1, 1, 0]) \n",
    "print(d[0, 1, 2]) "
   ]
  },
  {
   "cell_type": "markdown",
   "id": "eb2efcd5",
   "metadata": {},
   "source": [
    "## ndarray 的華麗索引( Fancy indexing)"
   ]
  },
  {
   "cell_type": "code",
   "execution_count": null,
   "id": "062b59b9",
   "metadata": {},
   "outputs": [],
   "source": [
    "import numpy as np\n",
    "\n",
    "# 一軸陣列\n",
    "np.random.seed(0)\n",
    "a = np.random.randint(1, 100, size=(10))\n",
    "\n",
    "print(a, a.shape)"
   ]
  },
  {
   "cell_type": "code",
   "execution_count": null,
   "id": "250531e8",
   "metadata": {},
   "outputs": [],
   "source": [
    "index =  [0, 2, 8]\n",
    "print(a[index])"
   ]
  },
  {
   "cell_type": "code",
   "execution_count": null,
   "id": "fa0c9035",
   "metadata": {},
   "outputs": [],
   "source": [
    "print(a[[1,-1]])"
   ]
  },
  {
   "cell_type": "code",
   "execution_count": null,
   "id": "664bb756",
   "metadata": {},
   "outputs": [],
   "source": [
    "# 二軸陣列\n",
    "\n",
    "b = np.arange(16).reshape((4, 4))\n",
    "b"
   ]
  },
  {
   "cell_type": "code",
   "execution_count": null,
   "id": "1f113e0d",
   "metadata": {},
   "outputs": [],
   "source": [
    "row = np.array([0, 1, 2])\n",
    "col = np.array([1, 2, 3])\n",
    "b[row, col] # (0, 1), (1, 2), (2, 3) 所形成的一維陣列"
   ]
  },
  {
   "cell_type": "code",
   "execution_count": null,
   "id": "705f2ff5",
   "metadata": {},
   "outputs": [],
   "source": [
    "b[0, col]"
   ]
  },
  {
   "cell_type": "code",
   "execution_count": null,
   "id": "42f8741f",
   "metadata": {},
   "outputs": [],
   "source": [
    "b[row, 0]"
   ]
  },
  {
   "cell_type": "code",
   "execution_count": null,
   "id": "671accaf",
   "metadata": {},
   "outputs": [],
   "source": [
    "b[[0, 1], [0, 1]]"
   ]
  },
  {
   "cell_type": "markdown",
   "id": "07483a55",
   "metadata": {},
   "source": [
    "## ndarray 的布林索引(Boolean indexing)"
   ]
  },
  {
   "cell_type": "code",
   "execution_count": null,
   "id": "471a70d7",
   "metadata": {},
   "outputs": [],
   "source": [
    "import numpy as np\n",
    "\n",
    "# 一軸陣列\n",
    "np.random.seed(0)\n",
    "a = np.random.randint(1, 100, size = (10))\n",
    "a"
   ]
  },
  {
   "cell_type": "code",
   "execution_count": null,
   "id": "1daf300f",
   "metadata": {},
   "outputs": [],
   "source": [
    "mask = [True, False, True, False, False, False, False, False, True, False] # 長度要一致\n",
    "print(a[mask])"
   ]
  },
  {
   "cell_type": "code",
   "execution_count": null,
   "id": "4462200f",
   "metadata": {},
   "outputs": [],
   "source": [
    "np.random.seed(0)\n",
    "b = np.random.randint(1, 100, size=(10))\n",
    "mask = (b % 2 == 1)\n",
    "print(b)\n",
    "print(mask)"
   ]
  },
  {
   "cell_type": "code",
   "execution_count": null,
   "id": "325c4112",
   "metadata": {},
   "outputs": [],
   "source": [
    "print(b[mask])"
   ]
  },
  {
   "cell_type": "code",
   "execution_count": null,
   "id": "ee0e963c",
   "metadata": {},
   "outputs": [],
   "source": [
    "# 二軸陣列\n",
    "c = np.array([\n",
    "    [1, 2, 3],\n",
    "    [4, 5, 6],\n",
    "    [7, 8, 9]\n",
    "])\n",
    "\n",
    "mask = (c > 5)\n",
    "print(c)\n",
    "print(mask)"
   ]
  },
  {
   "cell_type": "code",
   "execution_count": null,
   "id": "dc96b817",
   "metadata": {},
   "outputs": [],
   "source": [
    "print(c[mask], c[mask].shape) # 出來會是一軸陣列"
   ]
  },
  {
   "cell_type": "markdown",
   "id": "07be8d2f",
   "metadata": {},
   "source": [
    "## ndarray 的切片( slicing)"
   ]
  },
  {
   "cell_type": "code",
   "execution_count": null,
   "id": "41dfc5aa",
   "metadata": {},
   "outputs": [],
   "source": [
    "# 一軸陣列的切片\n",
    "\n",
    "import numpy as np\n",
    "\n",
    "a = np.arange(10)\n",
    "a"
   ]
  },
  {
   "cell_type": "code",
   "execution_count": null,
   "id": "55144869",
   "metadata": {},
   "outputs": [],
   "source": [
    "a[1:5]"
   ]
  },
  {
   "cell_type": "code",
   "execution_count": null,
   "id": "7e193e49",
   "metadata": {},
   "outputs": [],
   "source": [
    "a[2:8:2]"
   ]
  },
  {
   "cell_type": "code",
   "execution_count": null,
   "id": "52b709d6",
   "metadata": {},
   "outputs": [],
   "source": [
    "a[::-1]"
   ]
  },
  {
   "cell_type": "code",
   "execution_count": null,
   "id": "ba6d676c",
   "metadata": {},
   "outputs": [],
   "source": [
    "a[:3]"
   ]
  },
  {
   "cell_type": "code",
   "execution_count": null,
   "id": "e7ee6b53",
   "metadata": {},
   "outputs": [],
   "source": [
    "a[4:]"
   ]
  },
  {
   "cell_type": "code",
   "execution_count": null,
   "id": "5f680acd",
   "metadata": {},
   "outputs": [],
   "source": [
    "a[:3], a[3:] # 以 3 為分界，分割成兩個陣列，變成兩個陣列的 tuple"
   ]
  },
  {
   "cell_type": "code",
   "execution_count": null,
   "id": "ec8f3109",
   "metadata": {},
   "outputs": [],
   "source": [
    "a[::2]"
   ]
  },
  {
   "cell_type": "code",
   "execution_count": null,
   "id": "d741efce",
   "metadata": {},
   "outputs": [],
   "source": [
    "a[:]"
   ]
  },
  {
   "cell_type": "code",
   "execution_count": null,
   "id": "85880c53",
   "metadata": {},
   "outputs": [],
   "source": [
    "# 二軸陣列的切片\n",
    "# [start:stop, start:stop] 依序指定第 0 軸、第 1 軸的起始索引與終止索引\n",
    "\n",
    "b = np.arange(20).reshape(4, 5)\n",
    "b"
   ]
  },
  {
   "cell_type": "code",
   "execution_count": null,
   "id": "4c596416",
   "metadata": {},
   "outputs": [],
   "source": [
    "b[1:3, 2:4]"
   ]
  },
  {
   "cell_type": "code",
   "execution_count": null,
   "id": "61f68f5e",
   "metadata": {},
   "outputs": [],
   "source": [
    "b[:2, 1:]"
   ]
  },
  {
   "cell_type": "code",
   "execution_count": null,
   "id": "2440102b",
   "metadata": {},
   "outputs": [],
   "source": [
    "b[::2, :]"
   ]
  },
  {
   "cell_type": "code",
   "execution_count": null,
   "id": "0abb6a47",
   "metadata": {},
   "outputs": [],
   "source": [
    "b[:, ::2]"
   ]
  },
  {
   "cell_type": "code",
   "execution_count": null,
   "id": "29843d35",
   "metadata": {},
   "outputs": [],
   "source": [
    "b[:, ::-1]"
   ]
  },
  {
   "cell_type": "code",
   "execution_count": null,
   "id": "20c2caa7",
   "metadata": {},
   "outputs": [],
   "source": [
    "b[::-1, ::-1]"
   ]
  },
  {
   "cell_type": "code",
   "execution_count": null,
   "id": "d031d1e6",
   "metadata": {},
   "outputs": [],
   "source": [
    "b[1:3, 1] # 出來會是一軸陣列"
   ]
  },
  {
   "cell_type": "code",
   "execution_count": null,
   "id": "26621a22",
   "metadata": {},
   "outputs": [],
   "source": [
    "c = np.array([\n",
    "    [\n",
    "        [8, 1, 3], [-5, 5, 2 ]\n",
    "    ],\n",
    "    [\n",
    "        [0, 1, 6], [4, 4, -3]\n",
    "    ]\n",
    "])\n",
    "\n",
    "print(c)\n",
    "print(c.shape)"
   ]
  },
  {
   "cell_type": "code",
   "execution_count": null,
   "id": "0f02fd29",
   "metadata": {},
   "outputs": [],
   "source": [
    "print(c[0,...]) # ...表示全要 # 2x3\n",
    "print(c[..., 1:3]) # 2x2x2"
   ]
  }
 ],
 "metadata": {
  "kernelspec": {
   "display_name": "Python 3",
   "language": "python",
   "name": "python3"
  },
  "language_info": {
   "codemirror_mode": {
    "name": "ipython",
    "version": 3
   },
   "file_extension": ".py",
   "mimetype": "text/x-python",
   "name": "python",
   "nbconvert_exporter": "python",
   "pygments_lexer": "ipython3",
   "version": "3.8.10"
  }
 },
 "nbformat": 4,
 "nbformat_minor": 5
}
