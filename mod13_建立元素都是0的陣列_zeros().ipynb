{
 "cells": [
  {
   "cell_type": "markdown",
   "id": "8c2a9161",
   "metadata": {},
   "source": [
    "## <font color=red> Module_13_建立元素都是0的陣列_zeros()</font>"
   ]
  },
  {
   "cell_type": "markdown",
   "id": "05cad6fa",
   "metadata": {},
   "source": [
    "## np.zeros() 函式的用法"
   ]
  },
  {
   "cell_type": "code",
   "execution_count": null,
   "id": "e27f6a56",
   "metadata": {},
   "outputs": [],
   "source": [
    "# np.zeros(shape, dtype = float, order = 'C')\n",
    "# shape : 設定陣列的形狀\n",
    "# dtype : 設定元素的資料型態，預設值為 float64\n",
    "# order : 設定陣列元素在記憶體內的排列方式，預設值為 order = \"C\"。 在此不常使用"
   ]
  },
  {
   "cell_type": "code",
   "execution_count": null,
   "id": "1090df85",
   "metadata": {},
   "outputs": [],
   "source": [
    "import numpy as np \n",
    "\n",
    "a = np.zeros(10)\n",
    "a"
   ]
  },
  {
   "cell_type": "code",
   "execution_count": null,
   "id": "0f83e2f3",
   "metadata": {},
   "outputs": [],
   "source": [
    "b = np.zeros(10, dtype = int)\n",
    "b"
   ]
  },
  {
   "cell_type": "code",
   "execution_count": null,
   "id": "30f17ac6",
   "metadata": {},
   "outputs": [],
   "source": [
    "c = np.zeros((3, 4))\n",
    "c"
   ]
  },
  {
   "cell_type": "markdown",
   "id": "10888bde",
   "metadata": {},
   "source": [
    "## np.zeros_like() 函式的用法"
   ]
  },
  {
   "cell_type": "code",
   "execution_count": null,
   "id": "cf060e3b",
   "metadata": {},
   "outputs": [],
   "source": [
    "# np.zeros_like(a, dtype = None)\n",
    "# a : 陣列\n",
    "# 會返回與 a 陣列同形狀且元素同資料型態，但元素為零的陣列"
   ]
  },
  {
   "cell_type": "code",
   "execution_count": null,
   "id": "26c2c2e4",
   "metadata": {},
   "outputs": [],
   "source": [
    "import numpy as np\n",
    "\n",
    "\n",
    "a = np.arange(10).reshape(2, 5)\n",
    "a"
   ]
  },
  {
   "cell_type": "code",
   "execution_count": null,
   "id": "48547759",
   "metadata": {},
   "outputs": [],
   "source": [
    "b = np.zeros_like(a)\n",
    "b"
   ]
  },
  {
   "cell_type": "code",
   "execution_count": null,
   "id": "2e9e0451",
   "metadata": {},
   "outputs": [],
   "source": [
    "c = np.array([[1.2, 3], [2.5, 4]])\n",
    "c"
   ]
  },
  {
   "cell_type": "code",
   "execution_count": null,
   "id": "60a066c5",
   "metadata": {},
   "outputs": [],
   "source": [
    "d = np.zeros_like(c)\n",
    "d"
   ]
  }
 ],
 "metadata": {
  "kernelspec": {
   "display_name": "Python 3",
   "language": "python",
   "name": "python3"
  },
  "language_info": {
   "codemirror_mode": {
    "name": "ipython",
    "version": 3
   },
   "file_extension": ".py",
   "mimetype": "text/x-python",
   "name": "python",
   "nbconvert_exporter": "python",
   "pygments_lexer": "ipython3",
   "version": "3.8.10"
  }
 },
 "nbformat": 4,
 "nbformat_minor": 5
}
