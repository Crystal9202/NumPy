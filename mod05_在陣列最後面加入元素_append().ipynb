{
 "cells": [
  {
   "cell_type": "markdown",
   "id": "94b0b681",
   "metadata": {},
   "source": [
    "## <font color=red> Module_05_在陣列最後面加入元素_append()</font>"
   ]
  },
  {
   "cell_type": "markdown",
   "id": "3a30c41b",
   "metadata": {},
   "source": [
    "## np.append() 函式的用法"
   ]
  },
  {
   "cell_type": "code",
   "execution_count": null,
   "id": "2b106937",
   "metadata": {},
   "outputs": [],
   "source": [
    "# np.append(arr, values, axis = None )\n",
    "# arr : 傳入原始陣列\n",
    "# values : 設定要新加入的元素\n",
    "# axis : 設定要在哪一軸加入元素。預設值為 None，也就是不管原始陣列的 shape 為何，一律回傳一軸陣列"
   ]
  },
  {
   "cell_type": "code",
   "execution_count": null,
   "id": "a7178096",
   "metadata": {},
   "outputs": [],
   "source": [
    "import numpy as np\n",
    "\n",
    "a = np.arange(12)\n",
    "b = np.append(a, [6, 4, 2])\n",
    "b"
   ]
  },
  {
   "cell_type": "code",
   "execution_count": null,
   "id": "75b59507",
   "metadata": {},
   "outputs": [],
   "source": [
    "c = np.arange(12).reshape(3, 4)\n",
    "c"
   ]
  },
  {
   "cell_type": "code",
   "execution_count": null,
   "id": "b61fb8d1",
   "metadata": {},
   "outputs": [],
   "source": [
    "d = np.append(c, [6, 4, 2])\n",
    "d"
   ]
  },
  {
   "cell_type": "markdown",
   "id": "d39b24b0",
   "metadata": {},
   "source": [
    "---"
   ]
  },
  {
   "cell_type": "code",
   "execution_count": null,
   "id": "bdc4ca01",
   "metadata": {},
   "outputs": [],
   "source": [
    "# 如果有設定 axis 參數，就會在我們指定的軸最後面增加元素\n",
    "# 但特別留意新加入的元素其軸數必須跟原陣列一致\n",
    "# 在 shape 方面【指定軸以外】的維度都必須一樣才能合併"
   ]
  },
  {
   "cell_type": "code",
   "execution_count": null,
   "id": "e07492ef",
   "metadata": {},
   "outputs": [],
   "source": [
    "e = np.arange(12).reshape(3, 4)\n",
    "e"
   ]
  },
  {
   "cell_type": "code",
   "execution_count": null,
   "id": "aa5acf0a",
   "metadata": {},
   "outputs": [],
   "source": [
    "f = np.append(e, [[12, 13, 14, 15]], axis = 0)\n",
    "f"
   ]
  },
  {
   "cell_type": "code",
   "execution_count": null,
   "id": "b505a164",
   "metadata": {},
   "outputs": [],
   "source": [
    "g = np.append(e, [12, 13, 14, 15], axis = 0)\n",
    "g"
   ]
  },
  {
   "cell_type": "markdown",
   "id": "88a4dbfb",
   "metadata": {},
   "source": [
    "---"
   ]
  },
  {
   "cell_type": "code",
   "execution_count": null,
   "id": "ac2cb2b5",
   "metadata": {},
   "outputs": [],
   "source": [
    "h = np.arange(12).reshape(3,4)\n",
    "h"
   ]
  },
  {
   "cell_type": "code",
   "execution_count": null,
   "id": "286434c2",
   "metadata": {},
   "outputs": [],
   "source": [
    "i = np.linspace(0, 26, 12).reshape(3,4)\n",
    "i"
   ]
  },
  {
   "cell_type": "code",
   "execution_count": null,
   "id": "8719bb27",
   "metadata": {},
   "outputs": [],
   "source": [
    "# 檢查新加入的元素其軸數必須跟原陣列一致\n",
    "# 檢查【指定軸以外】的維度都必須一樣才能合併\n",
    "\n",
    "j = np.append(h, i, axis = 0) # (3 + 3, 4)\n",
    "j"
   ]
  },
  {
   "cell_type": "code",
   "execution_count": null,
   "id": "7dd05146",
   "metadata": {},
   "outputs": [],
   "source": [
    "# 指定哪個軸，結果就是兩陣列該軸的維度相加\n",
    "\n",
    "k = np.append(h, i, axis = 1) # (3, 4 + 4)\n",
    "k"
   ]
  }
 ],
 "metadata": {
  "kernelspec": {
   "display_name": "Python 3",
   "language": "python",
   "name": "python3"
  },
  "language_info": {
   "codemirror_mode": {
    "name": "ipython",
    "version": 3
   },
   "file_extension": ".py",
   "mimetype": "text/x-python",
   "name": "python",
   "nbconvert_exporter": "python",
   "pygments_lexer": "ipython3",
   "version": "3.8.10"
  }
 },
 "nbformat": 4,
 "nbformat_minor": 5
}
