{
 "cells": [
  {
   "cell_type": "markdown",
   "id": "a0c8513b",
   "metadata": {},
   "source": [
    "## <font color=red> Module_27_建立隨機亂數的陣列_random模組</font>"
   ]
  },
  {
   "cell_type": "markdown",
   "id": "65738c03",
   "metadata": {},
   "source": [
    "## np.random.rand() 與 np.random.randint() 函式的用法"
   ]
  },
  {
   "cell_type": "code",
   "execution_count": null,
   "id": "901bd208",
   "metadata": {},
   "outputs": [],
   "source": [
    "# np.random.rand(d0, d1, d2,...)\n",
    "# d0, d1, d2,... 可以決定要建立多少軸、多少維度的陣列\n",
    "\n",
    "# 是在產生 0 到 1(不含 1) 的範圍內產生浮點數型別的亂數"
   ]
  },
  {
   "cell_type": "code",
   "execution_count": null,
   "id": "114876f2",
   "metadata": {},
   "outputs": [],
   "source": [
    "# np.random.randint(low, high, size, dtype)\n",
    "# low : 起始點\n",
    "# high : 終止點，不含 high\n",
    "# size : 指定的陣列形狀\n",
    "\n",
    "# 產生從 low 到 high(不包含) 的整數，傳回指定形狀的陣列"
   ]
  },
  {
   "cell_type": "code",
   "execution_count": null,
   "id": "bf705c33",
   "metadata": {},
   "outputs": [],
   "source": [
    "import numpy as np \n",
    "\n",
    "a = np.random.rand()\n",
    "a"
   ]
  },
  {
   "cell_type": "code",
   "execution_count": null,
   "id": "05a61c90",
   "metadata": {},
   "outputs": [],
   "source": [
    "b = np.random.randint(10)\n",
    "b"
   ]
  },
  {
   "cell_type": "code",
   "execution_count": null,
   "id": "eb52cb32",
   "metadata": {},
   "outputs": [],
   "source": [
    "c = np.random.rand(2, 3)\n",
    "c"
   ]
  },
  {
   "cell_type": "code",
   "execution_count": null,
   "id": "0284da92",
   "metadata": {},
   "outputs": [],
   "source": [
    "d = np.random.randint(10, size = (2, 3))\n",
    "d"
   ]
  },
  {
   "cell_type": "code",
   "execution_count": null,
   "id": "8a6a279d",
   "metadata": {},
   "outputs": [],
   "source": [
    "e = np.random.randint(5, 10, size = 10) # 5~9隨機取出 10 個整數，組成一軸陣列\n",
    "e"
   ]
  },
  {
   "cell_type": "code",
   "execution_count": null,
   "id": "fd965f13",
   "metadata": {},
   "outputs": [],
   "source": [
    "e = (9 - 5)*np.random.rand(10) + 5 # 5~9 隨機取出 10 個整數，組成一軸陣列\n",
    "e"
   ]
  },
  {
   "cell_type": "markdown",
   "id": "616531d4",
   "metadata": {},
   "source": [
    "## np.random.seed()  函式的用法"
   ]
  },
  {
   "cell_type": "code",
   "execution_count": null,
   "id": "5be0cfdf",
   "metadata": {},
   "outputs": [],
   "source": [
    "# np.random.seed(seed)\n",
    "# 每次初始化都設定相同的種子，那麼就會產生完全相同的亂數"
   ]
  },
  {
   "cell_type": "code",
   "execution_count": null,
   "id": "9a6160b7",
   "metadata": {},
   "outputs": [],
   "source": [
    "import numpy as np\n",
    "\n",
    "np.random.seed(seed = 21)\n",
    "a = np.random.rand()\n",
    "a"
   ]
  },
  {
   "cell_type": "code",
   "execution_count": null,
   "id": "461d23a7",
   "metadata": {},
   "outputs": [],
   "source": [
    "np.random.seed(seed = 21)"
   ]
  },
  {
   "cell_type": "code",
   "execution_count": null,
   "id": "0b60f038",
   "metadata": {},
   "outputs": [],
   "source": [
    "a = np.random.rand()\n",
    "a"
   ]
  },
  {
   "cell_type": "code",
   "execution_count": null,
   "id": "ebc3cdb3",
   "metadata": {},
   "outputs": [],
   "source": [
    "np.random.seed(seed = 10)"
   ]
  },
  {
   "cell_type": "code",
   "execution_count": null,
   "id": "bb5e11c1",
   "metadata": {},
   "outputs": [],
   "source": [
    "b = np.random.rand(20)\n",
    "b"
   ]
  },
  {
   "cell_type": "code",
   "execution_count": null,
   "id": "31032c17",
   "metadata": {},
   "outputs": [],
   "source": [
    "np.random.seed(seed = 23)"
   ]
  },
  {
   "cell_type": "code",
   "execution_count": null,
   "id": "cfb92f59",
   "metadata": {},
   "outputs": [],
   "source": [
    "c = np.random.rand(20)\n",
    "c"
   ]
  },
  {
   "cell_type": "code",
   "execution_count": null,
   "id": "a3ac20a4",
   "metadata": {},
   "outputs": [],
   "source": [
    "np.random.seed(seed = 10)"
   ]
  },
  {
   "cell_type": "code",
   "execution_count": null,
   "id": "90e522f7",
   "metadata": {},
   "outputs": [],
   "source": [
    "d = np.random.rand(20)\n",
    "d"
   ]
  },
  {
   "cell_type": "code",
   "execution_count": null,
   "id": "82c6e35f",
   "metadata": {},
   "outputs": [],
   "source": [
    "np.random.seed(seed = 23)"
   ]
  },
  {
   "cell_type": "code",
   "execution_count": null,
   "id": "c73e5e4a",
   "metadata": {},
   "outputs": [],
   "source": [
    "e = np.random.rand(20)\n",
    "e"
   ]
  },
  {
   "cell_type": "markdown",
   "id": "9a8de614",
   "metadata": {},
   "source": [
    "## np.random.choice()  函式的用法"
   ]
  },
  {
   "cell_type": "code",
   "execution_count": null,
   "id": "f017742a",
   "metadata": {},
   "outputs": [],
   "source": [
    "# np.random.choice(a, size, replace, p)\n",
    "# a : 傳入要處理的容器，必須是有序的。如果傳入 int，則表示終止值\n",
    "# size : 設定傳回陣列的形狀\n",
    "# replace : 設定取出的元素是重複，預設值為 True\n",
    "# p : 取樣時的權重，預設值為 None"
   ]
  },
  {
   "cell_type": "code",
   "execution_count": null,
   "id": "eea0773e",
   "metadata": {},
   "outputs": [],
   "source": [
    "import numpy as np\n",
    "\n",
    "a = ['Python', 'Ruby', 'Java', 'JavaScript', 'PHP']\n",
    "b = np.random.choice(a, 3)\n",
    "b"
   ]
  },
  {
   "cell_type": "code",
   "execution_count": null,
   "id": "78a9c5be",
   "metadata": {},
   "outputs": [],
   "source": [
    "c = np.random.choice(a, 5, replace = False)\n",
    "c"
   ]
  },
  {
   "cell_type": "code",
   "execution_count": null,
   "id": "e19141d1",
   "metadata": {},
   "outputs": [],
   "source": [
    "d =  np.random.choice(a, 20, p = [0.8, 0.05, 0.05, 0.05, 0.05]) # 注意 p 的總和要為 1\n",
    "d"
   ]
  },
  {
   "cell_type": "code",
   "execution_count": null,
   "id": "fc0d185e",
   "metadata": {},
   "outputs": [],
   "source": [
    "e =  np.random.choice(5, 10)\n",
    "e"
   ]
  },
  {
   "cell_type": "markdown",
   "id": "a374659d",
   "metadata": {},
   "source": [
    "## np.random.shuffle()  函式的用法"
   ]
  },
  {
   "cell_type": "code",
   "execution_count": null,
   "id": "19bbc073",
   "metadata": {},
   "outputs": [],
   "source": [
    "# np.random.shuffle(a)\n",
    "# 可將陣列 a 就地(in-place) 隨機排列"
   ]
  },
  {
   "cell_type": "code",
   "execution_count": null,
   "id": "346fe1e6",
   "metadata": {},
   "outputs": [],
   "source": [
    "import numpy as np\n",
    "\n",
    "a = np.arange(10)\n",
    "a"
   ]
  },
  {
   "cell_type": "code",
   "execution_count": null,
   "id": "dde5cbff",
   "metadata": {},
   "outputs": [],
   "source": [
    "np.random.shuffle(a) # 就地隨機排列，所以不須賦予新變數"
   ]
  },
  {
   "cell_type": "code",
   "execution_count": null,
   "id": "c08296b8",
   "metadata": {},
   "outputs": [],
   "source": [
    "a"
   ]
  }
 ],
 "metadata": {
  "kernelspec": {
   "display_name": "Python 3",
   "language": "python",
   "name": "python3"
  },
  "language_info": {
   "codemirror_mode": {
    "name": "ipython",
    "version": 3
   },
   "file_extension": ".py",
   "mimetype": "text/x-python",
   "name": "python",
   "nbconvert_exporter": "python",
   "pygments_lexer": "ipython3",
   "version": "3.8.10"
  }
 },
 "nbformat": 4,
 "nbformat_minor": 5
}
