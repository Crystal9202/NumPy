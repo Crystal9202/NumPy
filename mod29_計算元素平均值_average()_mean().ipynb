{
 "cells": [
  {
   "cell_type": "markdown",
   "id": "699cce8e",
   "metadata": {},
   "source": [
    "## <font color=red> Module_29_計算元素平均值_average()_mean()</font>"
   ]
  },
  {
   "cell_type": "markdown",
   "id": "11c9d5e2",
   "metadata": {},
   "source": [
    "## np.average() 函式的用法"
   ]
  },
  {
   "cell_type": "code",
   "execution_count": null,
   "id": "1aa46e88",
   "metadata": {},
   "outputs": [],
   "source": [
    "# np.average(a, axis = None, weights = None, returned = False)\n",
    "# a : 傳入要計算平均值的陣列\n",
    "# axis : 指定要計算哪一軸元素的平均值。預設值為 None\n",
    "# weights : 設定每個元素的權重。預設值為 None\n",
    "# returned : 指定是否以 (平均值, 權重總和) 的 tuple 形式傳回值"
   ]
  },
  {
   "cell_type": "code",
   "execution_count": null,
   "id": "7729afb2",
   "metadata": {},
   "outputs": [],
   "source": [
    "import numpy as np\n",
    "\n",
    "a = np.array([33, 44, 54, 23, 25, 55, 32, 76])\n",
    "a"
   ]
  },
  {
   "cell_type": "code",
   "execution_count": null,
   "id": "273f377c",
   "metadata": {},
   "outputs": [],
   "source": [
    "b = np.average(a)\n",
    "b"
   ]
  },
  {
   "cell_type": "code",
   "execution_count": null,
   "id": "9b57726a",
   "metadata": {},
   "outputs": [],
   "source": [
    "c = a.reshape(2, 4)\n",
    "c"
   ]
  },
  {
   "cell_type": "code",
   "execution_count": null,
   "id": "8b332ed2",
   "metadata": {},
   "outputs": [],
   "source": [
    "d = np.average(c)\n",
    "d"
   ]
  },
  {
   "cell_type": "code",
   "execution_count": null,
   "id": "2045b8da",
   "metadata": {},
   "outputs": [],
   "source": [
    "e = np.average(c, axis = 0)\n",
    "e"
   ]
  },
  {
   "cell_type": "code",
   "execution_count": null,
   "id": "e2e75afa",
   "metadata": {},
   "outputs": [],
   "source": [
    "f = np.average(c, axis = 1)\n",
    "f"
   ]
  },
  {
   "cell_type": "code",
   "execution_count": null,
   "id": "f153a429",
   "metadata": {},
   "outputs": [],
   "source": [
    "g = np.random.rand(24).reshape(2, 3, 4)\n",
    "g"
   ]
  },
  {
   "cell_type": "code",
   "execution_count": null,
   "id": "a920d44c",
   "metadata": {},
   "outputs": [],
   "source": [
    "h = np.average(g, axis = 0)\n",
    "h"
   ]
  },
  {
   "cell_type": "code",
   "execution_count": null,
   "id": "073188e8",
   "metadata": {},
   "outputs": [],
   "source": [
    "i = np.average(g, axis = 1)\n",
    "i"
   ]
  },
  {
   "cell_type": "code",
   "execution_count": null,
   "id": "6c1f968f",
   "metadata": {},
   "outputs": [],
   "source": [
    "j = np.average(g, axis = 2)\n",
    "j"
   ]
  },
  {
   "cell_type": "markdown",
   "id": "12edea07",
   "metadata": {},
   "source": [
    "---"
   ]
  },
  {
   "cell_type": "code",
   "execution_count": null,
   "id": "1264204a",
   "metadata": {},
   "outputs": [],
   "source": [
    "k = a.flatten()\n",
    "k"
   ]
  },
  {
   "cell_type": "code",
   "execution_count": null,
   "id": "c96c32d8",
   "metadata": {},
   "outputs": [],
   "source": [
    "w = np.array([0.1, 0.05, 0.2, 0.0, 0.0, 0.4, 0.2, 0.05]) # 習慣設權重時會讓總和是 1，但非必要\n",
    "w"
   ]
  },
  {
   "cell_type": "code",
   "execution_count": null,
   "id": "31544b37",
   "metadata": {},
   "outputs": [],
   "source": [
    "l = np.average(k, weights = w)\n",
    "l"
   ]
  },
  {
   "cell_type": "code",
   "execution_count": null,
   "id": "4ee869ce",
   "metadata": {},
   "outputs": [],
   "source": [
    "w2 = np.array([0.2, 0.8])\n",
    "w2"
   ]
  },
  {
   "cell_type": "code",
   "execution_count": null,
   "id": "841b778c",
   "metadata": {},
   "outputs": [],
   "source": [
    "m = a.reshape(2, 4)\n",
    "m"
   ]
  },
  {
   "cell_type": "code",
   "execution_count": null,
   "id": "0ba7c608",
   "metadata": {},
   "outputs": [],
   "source": [
    "n = np.average(m, axis = 0, weights = w2)\n",
    "n"
   ]
  },
  {
   "cell_type": "markdown",
   "id": "29f8ccac",
   "metadata": {},
   "source": [
    "---"
   ]
  },
  {
   "cell_type": "code",
   "execution_count": null,
   "id": "0f7303e8",
   "metadata": {},
   "outputs": [],
   "source": [
    "o = np.average(a, returned = True) # 在沒有指定權重時，每個元素的權重預設都是 1\n",
    "o "
   ]
  },
  {
   "cell_type": "code",
   "execution_count": null,
   "id": "2830572b",
   "metadata": {},
   "outputs": [],
   "source": [
    "p = np.average(a, weights = w, returned = True)\n",
    "p"
   ]
  },
  {
   "cell_type": "markdown",
   "id": "3560e0e8",
   "metadata": {},
   "source": [
    "## np.mean() 函式與 ndarray物件.mean() 物件方法的用法"
   ]
  },
  {
   "cell_type": "code",
   "execution_count": null,
   "id": "9282f4ee",
   "metadata": {},
   "outputs": [],
   "source": [
    "# np.mean(a, axis = None, dtype = None, out = None, keepdims = False)\n",
    "# ndarray物件.mean(axis = None, dtype = None, out = None, keepdims = False)\n",
    "# a : 傳入要處理的陣列\n",
    "# axis : 指定要計算哪一軸元素的平均值。預設值為 None\n",
    "# dtype : 設定傳回陣列元素的資料型別\n",
    "# out : 可以把傳回結果儲存在一個陣列中。預設值為 None，不常用\n",
    "# keepdims : 設定傳回結果的軸數是否保持不變。預設值為 False"
   ]
  },
  {
   "cell_type": "code",
   "execution_count": null,
   "id": "933443eb",
   "metadata": {},
   "outputs": [],
   "source": [
    "import numpy as np\n",
    "\n",
    "np.random.seed(1)\n",
    "a = np.random.randint(0, 10 ,20)\n",
    "a"
   ]
  },
  {
   "cell_type": "code",
   "execution_count": null,
   "id": "03bbcc33",
   "metadata": {},
   "outputs": [],
   "source": [
    "np.mean(a)"
   ]
  },
  {
   "cell_type": "code",
   "execution_count": null,
   "id": "c0398a1b",
   "metadata": {},
   "outputs": [],
   "source": [
    "a.mean()"
   ]
  },
  {
   "cell_type": "code",
   "execution_count": null,
   "id": "28f03d0f",
   "metadata": {},
   "outputs": [],
   "source": [
    "b = a.reshape(4, 5)\n",
    "b"
   ]
  },
  {
   "cell_type": "code",
   "execution_count": null,
   "id": "54ad4108",
   "metadata": {},
   "outputs": [],
   "source": [
    "np.mean(b)"
   ]
  },
  {
   "cell_type": "code",
   "execution_count": null,
   "id": "42c896a2",
   "metadata": {},
   "outputs": [],
   "source": [
    "b.mean()"
   ]
  },
  {
   "cell_type": "code",
   "execution_count": null,
   "id": "1b7f01f3",
   "metadata": {},
   "outputs": [],
   "source": [
    "np.mean(b, axis = 0)"
   ]
  },
  {
   "cell_type": "code",
   "execution_count": null,
   "id": "a66719b0",
   "metadata": {},
   "outputs": [],
   "source": [
    "np.mean(b, axis = 1)"
   ]
  },
  {
   "cell_type": "code",
   "execution_count": null,
   "id": "3b2a981b",
   "metadata": {},
   "outputs": [],
   "source": [
    "c = np.random.rand(24).reshape(2, 3, 4)\n",
    "c"
   ]
  },
  {
   "cell_type": "code",
   "execution_count": null,
   "id": "c5d6a7e3",
   "metadata": {},
   "outputs": [],
   "source": [
    "np.mean(c, axis = 0)"
   ]
  },
  {
   "cell_type": "code",
   "execution_count": null,
   "id": "3c97c20d",
   "metadata": {},
   "outputs": [],
   "source": [
    "np.mean(c, axis = 1)"
   ]
  },
  {
   "cell_type": "code",
   "execution_count": null,
   "id": "44fc6f0a",
   "metadata": {},
   "outputs": [],
   "source": [
    "np.mean(c, axis = 2)"
   ]
  },
  {
   "cell_type": "markdown",
   "id": "5a6ce777",
   "metadata": {},
   "source": [
    "---"
   ]
  },
  {
   "cell_type": "code",
   "execution_count": null,
   "id": "4441b7e8",
   "metadata": {},
   "outputs": [],
   "source": [
    "b"
   ]
  },
  {
   "cell_type": "code",
   "execution_count": null,
   "id": "9180982b",
   "metadata": {},
   "outputs": [],
   "source": [
    "d = np.mean(b, keepdims = True)\n",
    "d"
   ]
  },
  {
   "cell_type": "code",
   "execution_count": null,
   "id": "d81ee1a7",
   "metadata": {},
   "outputs": [],
   "source": [
    "d.shape"
   ]
  },
  {
   "cell_type": "code",
   "execution_count": null,
   "id": "93295eab",
   "metadata": {},
   "outputs": [],
   "source": [
    "e = np.mean(b, keepdims = False)\n",
    "e"
   ]
  },
  {
   "cell_type": "code",
   "execution_count": null,
   "id": "e2c6e8ba",
   "metadata": {},
   "outputs": [],
   "source": [
    "f =np.mean(b, axis = 1, keepdims = True)\n",
    "f"
   ]
  },
  {
   "cell_type": "code",
   "execution_count": null,
   "id": "c3cbbd01",
   "metadata": {},
   "outputs": [],
   "source": [
    "f.shape"
   ]
  },
  {
   "cell_type": "code",
   "execution_count": null,
   "id": "c47b5ae3",
   "metadata": {},
   "outputs": [],
   "source": [
    "g =np.mean(b, axis = 1, keepdims = False)\n",
    "g"
   ]
  },
  {
   "cell_type": "code",
   "execution_count": null,
   "id": "40fa9232",
   "metadata": {},
   "outputs": [],
   "source": [
    "g.shape"
   ]
  }
 ],
 "metadata": {
  "kernelspec": {
   "display_name": "Python 3",
   "language": "python",
   "name": "python3"
  },
  "language_info": {
   "codemirror_mode": {
    "name": "ipython",
    "version": 3
   },
   "file_extension": ".py",
   "mimetype": "text/x-python",
   "name": "python",
   "nbconvert_exporter": "python",
   "pygments_lexer": "ipython3",
   "version": "3.8.10"
  }
 },
 "nbformat": 4,
 "nbformat_minor": 5
}
